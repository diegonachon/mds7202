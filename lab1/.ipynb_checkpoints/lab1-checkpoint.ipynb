{
 "cells": [
  {
   "cell_type": "markdown",
   "metadata": {
    "cell_id": "097fce6dce21405c911254a775ae3d26",
    "deepnote_cell_type": "markdown",
    "id": "J4_IcuuKZj9Y"
   },
   "source": [
    "<h1><center>Laboratorio 1: Git 👾</center></h1>\n",
    "\n",
    "<center><strong>MDS7202: Laboratorio de Programación Científica para Ciencia de Datos - Otoño 2024</strong></center>"
   ]
  },
  {
   "cell_type": "markdown",
   "metadata": {
    "cell_id": "9e8e8f2ae34e461da4f44508a96d2cf4",
    "deepnote_cell_type": "markdown",
    "id": "AEXIACc7aADv"
   },
   "source": [
    "### Cuerpo Docente:\n",
    "\n",
    "- Profesores: Ignacio Meza, Sebastián Tinoco\n",
    "- Auxiliar: Catherine Benavides\n",
    "- Ayudante: Nicolás Ojeda, Eduardo Moya"
   ]
  },
  {
   "cell_type": "markdown",
   "metadata": {
    "cell_id": "3e5b48c23e1b48f6a64de41899166179",
    "deepnote_cell_type": "markdown",
    "id": "0HgMMyoCaG8X"
   },
   "source": [
    "### Equipo: **SUPER IMPORTANTE - notebooks sin nombre no serán revisados**\n",
    "\n",
    "- Nombre de alumno 1: Diego Cornejo"
   ]
  },
  {
   "cell_type": "markdown",
   "metadata": {
    "cell_id": "1db7c82b68614d19b112ba3b0d0abe4d",
    "deepnote_cell_type": "markdown",
    "id": "fz77X6glaK6y"
   },
   "source": [
    "### **Link de repositorio de GitHub:** `https://github.com/diegonachon`"
   ]
  },
  {
   "cell_type": "markdown",
   "metadata": {
    "cell_id": "bc3dac65089d4ae6a43c079547dee179",
    "deepnote_cell_type": "markdown",
    "id": "rRwqaxIZaNx3"
   },
   "source": [
    "## Reglas:\n",
    "\n",
    "- **Grupos de 2 personas**\n",
    "- Fecha de entrega: 7 días desde la publicación, 3 días de atraso con 1 punto de descuento c/u.\n",
    "- Instrucciones del lab el viernes a las 16:15 en formato online. Asistencia no es obligatoria.\n",
    "- <u>Prohibidas las copias</u>. Cualquier intento de copia será debidamente penalizado con el reglamento de la escuela.\n",
    "- Tienen que subir el laboratorio a u-cursos Y a su repositorio de github. Labs que no estén en u-cursos no serán revisados. Recuerden que el repositorio también tiene nota.\n",
    "- Cualquier duda fuera del horario de clases al foro. Mensajes al equipo docente serán respondidos por este medio.\n",
    "- Pueden usar cualquer material del curso que estimen conveniente."
   ]
  },
  {
   "cell_type": "markdown",
   "metadata": {
    "cell_id": "05e4729411a24153837fd13b7f198bd9",
    "deepnote_cell_type": "markdown",
    "id": "bmToL27JaSrf"
   },
   "source": [
    "## Objetivos del lab:\n",
    "\n",
    "\n",
    "- Conocer los elementos básicos que conformar `Git`\n",
    "- Clonar repositorios\n",
    "- Identificar ramas de un repositorio\n",
    "- Reconocer y solucionar problemas entre ramas\n",
    "- Subir cambios a un repositorio"
   ]
  },
  {
   "cell_type": "markdown",
   "metadata": {
    "cell_id": "5ebae9d601bd4d508349ab55297e9f82",
    "deepnote_cell_type": "markdown",
    "id": "bvnPCvrVbJLK"
   },
   "source": [
    "## Parte 1: Conocimiento Teórico (2.5 pts)\n",
    "\n",
    "<p align=\"center\">\n",
    "  <img src=\"https://cdn.thedesigninspiration.com/wp-content/uploads/sites/3/2019/04/macintosh-hdusersbrittanyloefflerdownloadsanig-1.gif\" width=\"350\">\n",
    "</p>"
   ]
  },
  {
   "cell_type": "markdown",
   "metadata": {
    "cell_id": "627494dba4f84520b3ee8b9cbf58ee79",
    "deepnote_cell_type": "markdown",
    "id": "JHl-24XnbNLF"
   },
   "source": [
    "Responda las siguientes preguntas (0.2 pts c/u):\n",
    "\n",
    "1. ¿Qué es `Git` y cómo se relaciona con el control de versiones?\n",
    "\n",
    "2. Nombre y explique 3 diferencias entre `Git` y `Github`.\n",
    "\n",
    "3. ¿Qué es un `hash` y cómo se representa en un `commit`? De un ejemplo.\n",
    "\n",
    "4. ¿Que elementos componen a la estructura de datos de `Git`?\n",
    "\n",
    "5. ¿Que comandos de `Git` sirven para crear un repositorio y hacer seguimiento a cambios en los archivos?"
   ]
  },
  {
   "cell_type": "markdown",
   "metadata": {},
   "source": [
    "**Respuestas**\n",
    "\n",
    "1. Git es un software de control de versiones que permite rastrear los cambios efectuados en los códigos y archivos que han sido modificado. Por lo anterior se relaciona con el control de versiones, facilitando la distribucion de trabajo entre distintos miembros de un equipo por medio de la creación de ramas, revertir cambios y el *merge* (unión) de códigos.\n",
    "\n",
    "\n",
    "2. A continuación se dan 3 diferencias en Git y GitHub:\n",
    "    \n",
    "    a. Git es un software de código abierto y gratuito de control de versiones, mientras que GitHub es un servicio/plataforma de alojamiento.\n",
    "    \n",
    "    b. Git controla las versiones de manera local, mientras que GitHub corresponde a una plataforma que permite subir una copia de los repositorios de Git, además de otros servicios (al igual que Bitbucket y GitLab).\n",
    "    \n",
    "    c. Git corresponde a una herramienta de línea de comando, mientras que GitHub a una interfaz gráfica.\n",
    "    \n",
    "\n",
    "3. Un has corresponde a una cadena hexadecimal alfanúmerica de 40 carácteres que identifica de manera única un *blob*, *commit* o *tree*, que se genera a partir de los contenido de este y sus metadatos. A modo de ejemplo, si se tiene un archivo que contiene código y se le modifica la línea 10, el *hash* asociado al *commit* realizado podría ser *'c1a2b3c4d5e6f7a8b9c0d1e2f3a4b5c6d7e8f9a0'*; mientras que al modificar la línea 20 y hacer *commit*, el *hash* podría ser *'2e173db8d2fb7c8cf80b3920a3df67ec40290132'*. Esto sirve para poder volver a un *commit* específico en la línea de cambios.\n",
    "\n",
    "\n",
    "4. Hay 4 elementos que componen la estrucuta de datos de Git: *blob*, *tree*, *commit* y *hash*:\n",
    "\n",
    "    a. *Blob*: Es la unidad básica de almacenamiento en Git, que representa un archivo y guarda su contenido.\n",
    "    \n",
    "    b. *Tree*: Representa directorios para los blobs y otros sub-árboles.\n",
    "    \n",
    "    c. *Commit*: Representa un punto en específico en la historia del proyecto, compuestos por los datos del autor, un mensaje descriptivo y en el momento que se genera.\n",
    "    \n",
    "    d. *Hash*: Es una cadena hexadecimal alfanúmerica de 40 carácteres que identifica de manera única los elementos anteriores.\n",
    "    \n",
    "\n",
    "\n",
    "5. Los siguientes comandos sirven para crear un repositorio y hacer seguimiento a cambios en los archivos:\n",
    "\n",
    "    a. <code>git init</code>: Crea un nuevo repositorio de manera local.\n",
    "    \n",
    "    b. <code>git add *argumento*</code>: Agrega el o los archivos al *stagin area*, es decir, antes del *commit*. En *argumento* se puede poner '.', que agrega todos los archivos que han sido creados, modificados o eliminados; o la ruta de un archivo en especifico que quiera ser agregado.\n",
    "    \n",
    "    c. <code>git commit -m '*mensaje*'</code>: Guarda los cambios realizados en el *stagin area* en el historial del repositorio de Git. En *mensaje*, se puede agregar un texto descriptivo de lo que será agregado.\n",
    "    \n",
    "    d. <code>git status</code>: Muestra el estado actual de los archivos en el repositorio, además de los que están en el *stagin area* y los no rastreados (que no han sido agregados al repositorio aún). \n",
    "    \n",
    "    e. <code>git push</code>: Adicionalmente, si se trabaja con una plataforma de control de versiones, como GitHub, GitLab o Bitbucket, este comando permite subir los cambios locales al repositorio remoto de dichas plataformas.\n",
    "\n"
   ]
  },
  {
   "cell_type": "markdown",
   "metadata": {
    "cell_id": "ec9855406e324cc98b59e33500faea84",
    "deepnote_cell_type": "markdown",
    "id": "MACccbP4gU43"
   },
   "source": [
    "Responda si las siguientes afirmaciones son Verdaderas (V) o Falsas (F). Justifique en **cualquiera** de los casos (0.2 pts c/u):\n",
    "\n",
    "\n",
    "6. `Git` siempre resuelve automáticamente los problemas de lineas al hacer merge entre diferentes ramas.\n",
    "7. Ejecutar `git pull` sobre un repositorio es equivalente a ejecutar `git clone`.\n",
    "8. `git status` genera los mismos resultados que `git log`.\n",
    "9. En `Git` es posible deshacer cambios y volver a versiones anteriores del código.\n",
    "10. El comando `git commit` se utiliza para enviar cambios al repositorio remoto."
   ]
  },
  {
   "cell_type": "markdown",
   "metadata": {},
   "source": [
    "**Respuestas**\n",
    "\n",
    "6. Falso. Si existen diferencias entre las distintas ramas que se hace *merge*, Git le pedirá al usuario resolver dichos conflictos. Algunas de maneras que se puede solucionar esto es manteniendo los cambios de una de las ramas, o manteniendo ambos cambios y combinar de manera manual.\n",
    "\n",
    "\n",
    "7. Falso. <code>git clone</code> crea una copia local de un repositorio remoto, mientras que <code>git pull</code> actualiza un repositorio local a partir de los cambios que se hayan realizado en el repositorio remoto.\n",
    "\n",
    "\n",
    "8. Falso. <code>git status</code> muestra el estado actual del repositorio local en comparación al repositorio remoto, mostrando que archivos están modificados, los que están en el *stagin area* (post comando *add*), los no rastreados, entre otra información. Por su parte, <code>git log</code> muestra un historial de los *commits* realizados en el repositorio, de manera cronológica, además de su *hash*, el autor (quién creó el *commit*) y la fecha de creación.\n",
    "\n",
    "\n",
    "9. Verdadero. Existen distintos comandos que permiten deshacer los cambios realizados y volver a versiones anteriores del código, como por ejemplo <code>git checkout *hash*</code>, que actualiza el repositorio local para que coincida con el repositorio del *commit* de dicho *hash*.\n",
    "\n",
    "\n",
    "10. Falso. <code>git commit</code> es para guardar los cambios realizados en el *stagin area* de Git, para que posteriormente puedan ser enviados al repositorio remoto con el comando <code>git push</code>."
   ]
  },
  {
   "cell_type": "markdown",
   "metadata": {
    "cell_id": "54317cad024744ebaf4938df55ba3b95",
    "deepnote_cell_type": "markdown",
    "id": "LYq55sI2Rjf0"
   },
   "source": [
    "Por último, investigue y comente para qué sirven los siguientes comandos:\n",
    "\n",
    "11. `git stash` (0.25 puntos)\n",
    "12. `git reset`. ¿Cuál es la diferencia de este comando con `git revert`?. (0.25 puntos)"
   ]
  },
  {
   "cell_type": "markdown",
   "metadata": {},
   "source": [
    "**Respuestas**\n",
    "\n",
    "11. <code>git stash</code> guarda temporalmente los cambios locales que no están en el *stagin area* (post comando *add*), permitiendo realizar otras acciones sin tener que confirmar los cambios con un *commit*. Por ejemplo, cuando se quiere arreglar algún problema de código y se debe realizar un *pull* de la rama principal, sin querer perder los cambios realizados en el repositorio local.\n",
    "\n",
    "\n",
    "12. <code>git reset</code> mueve el *head* y actualiza el índice a un *commit* en específico, alterando el historial de los *commits* realizados, en otras palabras, eliminando los posteriores a este. Por su parte, <code>git revert</code> deshace los cambios realizados en un *commit*, sin modificar el historial de estos, sino que generando un nuevo *commit*. A modo de ejemplo, si se tiene un repositorio con 7 *commits*, siendo el último el *head*, al aplicar un *reset* al *commit* 4 se eliminan del historial los *commits* 5, 6 y 7 y queda el 4 como *head*; mientras que al aplicar un *revert* al *commit* 4, se genera un *commit* 8 que es el nuevo *head*."
   ]
  },
  {
   "cell_type": "markdown",
   "metadata": {
    "cell_id": "3e4d8b9974e4426ca38fd20f4b835a55",
    "deepnote_cell_type": "markdown",
    "id": "i7Em9JkbbRLo"
   },
   "source": [
    "## Parte 2: Creando una presentación personal (1.5 pts)\n",
    "\n",
    "<p align=\"center\">\n",
    "  <img src=\"https://media.tenor.com/arqlNu8gyJYAAAAC/cat-cat-jumping.gif\" width=\"150\">\n",
    "</p>\n",
    "\n"
   ]
  },
  {
   "cell_type": "markdown",
   "metadata": {
    "cell_id": "988648005dba4b9782c6625dfe6ae4ef",
    "deepnote_cell_type": "markdown",
    "id": "XWIHfyrlbYOJ"
   },
   "source": [
    "Para empezar a \"*soltar las manos*\" con `Git`, se les encomienda crear un repositorio con una presentación personal. El repositorio debe contener un breve resumen de quienes son ustedes, sus gustos, experiencias, y cualquier otro detalle interesante que ustedes consideren relevante.\n",
    "\n",
    "Para realizar esto, deben seguir los siguientes pasos:\n",
    "\n",
    "1. Contar con una cuenta de github (1 por persona)\n",
    "2. Crear un repositorio con su nombre de usuario\n",
    "3. Vincular el repositorio a su ambiente local ¿Qué comando(s) me permiten hacer esto?\n",
    "4. Crear un archivo `readme.md` con la información que ustedes deseen compartir.\n",
    "5. Realizar `push` con los cambios generados\n",
    "\n",
    "A modo de ejemplo, pueden guiarse por esta *suculenta* [presentación](https://github.com/Mezosky)\n",
    "\n",
    "**Nota: Deben trabajar todos estos puntos desde su ambiente local**\n",
    "\n",
    "*Hint: Una buena opción es usar templates de presentación personal que encuentren en Google, como los que ofrece este [sitio](https://durgeshsamariya.github.io/awesome-github-profile-readme-templates/#/)*.\n",
    "\n",
    "**Entregable:**\n",
    "\n",
    "Enlace al repositorio con la presentación personal.\n",
    "\n",
    "IMPORTANTE: DEBEN ADJUNTAR UN ENLACE POR PERSONA"
   ]
  },
  {
   "cell_type": "markdown",
   "metadata": {},
   "source": [
    "**Respuestas**\n",
    "\n",
    "3. Comandos utilizados:\n",
    "\n",
    "    a. <code>git init diegonachon</code>\n",
    "    \n",
    "    b. <code>git remote add origin https://github.com/diegonachon/diegonachon.git</code>\n",
    "    \n",
    "    c. <code>git remote set-url origin https://token-personal@github.com/diegonachon/diegonachon.git</code>\n",
    "\n",
    "    d. Se creó el archivo README.md\n",
    "    \n",
    "    e. <code>git add .</code>\n",
    "    \n",
    "    f. <code>git commit -m 'initial commit'</code>\n",
    "    \n",
    "    g. <code>git push --set-upstream origin master</code>: Esto último se hace la primera vez para especificar la rama, luego basta hacer <code>git push</code>"
   ]
  },
  {
   "cell_type": "markdown",
   "metadata": {
    "cell_id": "081b38d55dc54282bc8e3cd300ce9d3e",
    "deepnote_cell_type": "markdown",
    "id": "IIkWyl9tf0Sg"
   },
   "source": [
    "<code>Link Presentacion: https://github.com/diegonachon/diegonachon</code>"
   ]
  },
  {
   "cell_type": "markdown",
   "metadata": {
    "cell_id": "0481a05d2d1a46928f6cfb7762720980",
    "deepnote_cell_type": "markdown",
    "id": "CAzXOwvDY-IG"
   },
   "source": [
    "## Parte 3: Trabajando sobre un repositorio externo (2 pts)\n",
    "\n",
    "<p align=\"center\">\n",
    "  <img src=\"https://media.tenor.com/YXL-0SK15j4AAAAC/dance-animals.gif\" width=\"300\">\n",
    "</p>\n",
    "\n",
    "Tras muchos dolores de cabeza, un grupo de entusiastas académicos decidieron aprender sobre `Git` y así trabajar colaborativamente de forma más ordenada y eficiente. Después de una infinidad de intentos y aprender de sus errores \"*a la mala*\", los académicos lograron levantar un [repositorio](https://github.com/MDS7202/lab1) en `Github`. Usando el repositorio de los académicos, responda las siguientes preguntas (**incluya también los comandos en `Git` ocupados**):\n"
   ]
  },
  {
   "cell_type": "markdown",
   "metadata": {
    "cell_id": "bcef73b2e8604579bde90ed6622abfe9",
    "deepnote_cell_type": "markdown",
    "id": "BFRnAw0rfguR"
   },
   "source": [
    "1. Clone el repositorio a su ambiente local. (0.25 pts)"
   ]
  },
  {
   "cell_type": "markdown",
   "metadata": {
    "cell_id": "5d126ac3819c44479af94d3895bc4c97",
    "deepnote_cell_type": "markdown",
    "id": "KXro32yBeilN"
   },
   "source": [
    "**Respuesta**\n",
    "\n",
    "<code>git clone https://github.com/MDS7202/lab1</code>"
   ]
  },
  {
   "cell_type": "markdown",
   "metadata": {
    "cell_id": "e215e4e25b2440f09ac273ba63603986",
    "deepnote_cell_type": "markdown",
    "id": "8QB-GKmQRjf1"
   },
   "source": [
    "2. Descomprima los archivos subidos con la tarea en U-cursos en la carpeta recién clonada de github. Una vez realizado esto, cree un archivo `.gitignore` con el cual omita la carpeta `videos` y los archivos con la extensión `.txt` exceptuando el archivo `171.txt` de la carpeta `texts`. (0.25 pts)"
   ]
  },
  {
   "cell_type": "markdown",
   "metadata": {
    "cell_id": "186233b44d004e3bbd86262d010188b5",
    "deepnote_cell_type": "markdown",
    "id": "7VJ8IIYpRjf1"
   },
   "source": [
    "**Respuesta**\n",
    "\n",
    "<code># video folder</code>\n",
    "\n",
    "<code>videos</code>\n",
    "\n",
    "\n",
    "<code># txt files in text folder</code>\n",
    "\n",
    "<code>texts/*.txt</code>\n",
    "\n",
    "\n",
    "<code># dont ignore 171.txt</code>\n",
    "\n",
    "<code>!texts/171.txt</code>"
   ]
  },
  {
   "cell_type": "markdown",
   "metadata": {
    "cell_id": "1de150590a41484a988b8e46616a2324",
    "deepnote_cell_type": "markdown",
    "id": "q2qmiDyjt2M_"
   },
   "source": [
    "3. Inspeccione brevemente el repositorio: ¿Cual es el objetivo del proyecto? Explique brevemente la estructura del proyecto, asi como también cada elemento que lo conforma. (0.25 pts)"
   ]
  },
  {
   "cell_type": "markdown",
   "metadata": {
    "cell_id": "082ca01c865e48e28352b280400c47b6",
    "deepnote_cell_type": "markdown",
    "id": "aBHpR8VTftkT"
   },
   "source": [
    "**Respuesta**\n",
    "\n",
    "El objetivo del proyecto consiste en emular el sonido de animales, entregando como input un animal y teniendo como output el sonido que emite si se tiene reconocido.\n",
    "\n",
    "La estructura del proyecto y los elementos que lo conforman se explican a continuación:\n",
    "\n",
    "    1. lab1: Directorio raíz del proyecto.\n",
    "    \n",
    "        a. textos: Subcarpeta que contiene archivos de textos. Estos correponden al *Script* de Shrek 2.\n",
    "    \n",
    "        b. video: Subcarpeta que contiene un video de Akira en versión 31 minutos.\n",
    "    \n",
    "        c. animales.py y main.py: Dos archivos .py. Al ejecutar main.py, se debe entregar un input, correspondiente a un animal, y se retornará el sonido que este hace si se encuentra definido en la función de animales.py.\n",
    "    \n",
    "        d. reame.md: Un archivo markdown."
   ]
  },
  {
   "cell_type": "markdown",
   "metadata": {
    "cell_id": "3aab4a3ee0c246e1be955680ad653fb8",
    "deepnote_cell_type": "markdown",
    "id": "XFwqcpLZfylf"
   },
   "source": [
    "4. Identifique los últimos cambios al repositorio, reconociendo las principales ramas de trabajo. ¿Son informativos los `commit` realizados? (0.25 pts)\n",
    "*Hint: Se recomienda usar los argumentos `all`, `graph` y `decorate`*"
   ]
  },
  {
   "cell_type": "markdown",
   "metadata": {
    "cell_id": "0fab79a360ac4c6a9ca0ab884f85c7e1",
    "deepnote_cell_type": "markdown",
    "id": "cmWfXBkOhog0"
   },
   "source": [
    "**Respuesta**\n",
    "\n",
    "<code>git log --all --graph --decorate</code>\n",
    "\n",
    "Dentro del mismo proyecto los *commits* si semi informativos, ya que al existir una sola función, que esta compuesta por *if*, se intuye que hacen referencia a estas. Sin embargo, en términos generales no lo son, se debería especificar de mejor manera los cambios realizados (como qué función se agregó o a que función se le modificaron los *ifs*).\n",
    "\n"
   ]
  },
  {
   "cell_type": "markdown",
   "metadata": {
    "cell_id": "d07b24d21f2343fb9a7e6a5db74e98c3",
    "deepnote_cell_type": "markdown",
    "id": "Vqbj9HdXrUnN"
   },
   "source": [
    "5. Uno de los académicos se da cuenta que la rama principal de trabajo no se ejecuta correctamente para todos los argumentos. Señale y explique el error en el código e identifique a la persona que lo cometió usando `git blame` (0.25 pts)\n",
    "\n",
    "*Hint: Le puede ser útil esta [documentación](https://www.atlassian.com/es/git/tutorials/inspecting-a-repository/git-blame).*"
   ]
  },
  {
   "cell_type": "markdown",
   "metadata": {
    "cell_id": "bc5b0f9c639643108f8e66687b721732",
    "deepnote_cell_type": "markdown",
    "id": "5ajhV2Iar3tV"
   },
   "source": [
    "**Respuesta**\n",
    "\n",
    "<code>git blame main.py</code>\n",
    "\n",
    "<code>git blame animales.py</code>\n",
    "\n",
    "El error se encuentra en <code>animales.py</code>. Esto sucede porque los *if* no están encadenados de manera correcta (utilizando *elif*), provocando que si se entrega un animal distinto a *fox* se ejecuten los *if* anteriores, además del último *else*. La persona que lo cometió es mezosky.\n",
    "\n"
   ]
  },
  {
   "cell_type": "markdown",
   "metadata": {
    "cell_id": "f3f4e78e6d9145ebbb120c0a2e4aade6",
    "deepnote_cell_type": "markdown",
    "id": "m8J3uE7MhqTA"
   },
   "source": [
    "6. Busque los siguientes `commit`:\n",
    "\n",
    "- `c8b1a62d7299552b0654f930d695b33109214111`\n",
    "- `362fe21ee44f53ee944cee4ba484600308f83d78`\n",
    "- `25543a3baf77292baf849726784ca005473acab1`\n",
    "\n",
    "¿Qué diferencias existen entre cada uno? (0.25 pts)"
   ]
  },
  {
   "cell_type": "markdown",
   "metadata": {
    "cell_id": "696ed361ac0c41c8a214cfad9dcb39e6",
    "deepnote_cell_type": "markdown",
    "id": "sNHnZsgIitGh"
   },
   "source": [
    "**Respuesta**\n",
    "\n",
    "<code>git show c8b1a62d7299552b0654f930d695b33109214111</code>\n",
    "\n",
    "* Se agrega la funcion animales en main.py y se agrega esta función  main.\n",
    "\n",
    "<code>git show 362fe21ee44f53ee944cee4ba484600308f83d78</code>\n",
    "\n",
    "* Se agrega la funcion animales en animales.py y se elimina esta misma de main.py, además de agregar el *import* correspondiente a esta función en main.py.\n",
    "\n",
    "<code>git show 25543a3baf77292baf849726784ca005473acab1</code>\n",
    "\n",
    "* Se realiza el arreglo de los *if* en la función de animales.\n"
   ]
  },
  {
   "cell_type": "markdown",
   "metadata": {
    "cell_id": "b4e18f8ce94c430f85915c4e2732d05b",
    "deepnote_cell_type": "markdown",
    "id": "WQIPbfNCgpxC"
   },
   "source": [
    "7. Realice una `merge` de la rama `fix-ifs` con la rama `main` y describa lo que ocurre. ¿Qué parte del código podría estar ocasionando esto? (0.25 pts)"
   ]
  },
  {
   "cell_type": "markdown",
   "metadata": {
    "cell_id": "36da6a0d4f4a427bbccac09e2ae965fd",
    "deepnote_cell_type": "markdown",
    "id": "ypH_6lL5ioZz"
   },
   "source": [
    "**Respuesta**\n",
    "\n",
    "<code>git merge fix-ifs</code>\n",
    "\n",
    "Ocurre un conflicto en el *merge*, debido a que la corrección que se hizo de los *fix* se hizo en una versión anterior, antes de que fuera separada en modulos y la función animales se encontraba en el archivo main.py, por lo que hay diferencias en los dos archivos, el actual y el que viene.\n",
    "\n",
    "\n"
   ]
  },
  {
   "cell_type": "markdown",
   "metadata": {
    "cell_id": "09787ab449c543479e5cc54c2a3b6c19",
    "deepnote_cell_type": "markdown",
    "id": "GYfODCjeivkU"
   },
   "source": [
    "8. Cree una rama nueva y proponga una solución al problema anterior, adjuntando el código corregido y señalando las líneas modificadas. (0.25 pts)"
   ]
  },
  {
   "cell_type": "markdown",
   "metadata": {
    "cell_id": "6d963fba3f2d4c17a4b281c7d3f4fb8b",
    "deepnote_cell_type": "markdown",
    "id": "8heBxDU9iziT"
   },
   "source": [
    "**Respuesta**\n",
    "\n",
    "<code>git checkout -b 'rama_diego'</code>\n",
    "\n",
    "Para solucionar el problema anterior, se mantiene el archivo main.py y se corrige la función de animales en animales.py con la que venía de la rama *fix-ifs*, donde se cambian los *if* de perro y fox por *elif*.\n",
    "\n",
    "* <code>main.py</code>:\n",
    "\n",
    "```python\n",
    "from animales import animales\n",
    "\n",
    "if __name__ == '__main__':\n",
    "    print(\"Ingrese el animalito para saber que dice:\")\n",
    "    animal = input()\n",
    "    animales(animal)    \n",
    "```\n",
    "\n",
    "* <code>animales.py</code>:\n",
    "\n",
    "```python\n",
    "def animales(input):\n",
    "    \n",
    "    '''\n",
    "    Como hace el animalito?\n",
    "    '''\n",
    "    \n",
    "    if input.lower() == 'gato':\n",
    "        print('miau')\n",
    "    elif input.lower() == 'perro':\n",
    "        print('guau')\n",
    "    elif input.lower() == 'fox':\n",
    "        print('https://www.youtube.com/watch?v=jofNR_WkoCE')\n",
    "    else:\n",
    "        raise ValueError('animal no reconocido :(')   \n",
    "```\n",
    "\n",
    "\n",
    "\n",
    "\n",
    "\n",
    "\n",
    "\n"
   ]
  },
  {
   "cell_type": "markdown",
   "metadata": {
    "cell_id": "8a47d4bf8b3045d68e4f29bb449c87f1",
    "deepnote_cell_type": "markdown",
    "id": "Av8ebB9jkALO"
   },
   "source": [
    "## Fin"
   ]
  },
  {
   "cell_type": "markdown",
   "metadata": {
    "cell_id": "cec4b53942ed489f8f8b63d0e9d4f3e5",
    "deepnote_cell_type": "markdown",
    "id": "aQqZT9fSkBK8"
   },
   "source": [
    "Eso ha sido todo por ahora!! Esperamos que este laboratorio les haya gustado y servido para trabajar con `Git`. Recuerden los dias de plazo que tienen disponibles y que ante cualquier duda no duden en contactar al equipo docente.\n",
    "\n",
    "Nos vemos!!\n",
    "\n",
    "<p align=\"center\">\n",
    "  <img src=\"https://media.tenor.com/OYLdav9k9LkAAAAd/kitty-cat.gif\" width=\"350\">\n",
    "</p>\n"
   ]
  }
 ],
 "metadata": {
  "colab": {
   "provenance": []
  },
  "deepnote_execution_queue": [],
  "deepnote_notebook_id": "62cd20d52b9a4810ada15644630456dc",
  "kernelspec": {
   "display_name": "Python 3 (ipykernel)",
   "language": "python",
   "name": "python3"
  },
  "language_info": {
   "codemirror_mode": {
    "name": "ipython",
    "version": 3
   },
   "file_extension": ".py",
   "mimetype": "text/x-python",
   "name": "python",
   "nbconvert_exporter": "python",
   "pygments_lexer": "ipython3",
   "version": "3.8.10"
  }
 },
 "nbformat": 4,
 "nbformat_minor": 1
}
