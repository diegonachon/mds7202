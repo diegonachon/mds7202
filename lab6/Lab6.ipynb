{
 "cells": [
  {
   "cell_type": "markdown",
   "metadata": {
    "cell_id": "ac9155b9f5e04400957a6f8bb3f6610c",
    "deepnote_cell_type": "markdown",
    "id": "2v2D1coL7I8i"
   },
   "source": [
    "<h1><center>Laboratorio 6: La solicitud de Sergio 🤗</center></h1>\n",
    "\n",
    "<center><strong>MDS7202: Laboratorio de Programación Científica para Ciencia de Datos</strong></center>"
   ]
  },
  {
   "cell_type": "markdown",
   "metadata": {
    "cell_id": "d3d6f6d405c54dbe985a5f4b3e4f9120",
    "deepnote_cell_type": "markdown",
    "id": "YxdTmIPD7L_x"
   },
   "source": [
    "### Cuerpo Docente:\n",
    "\n",
    "- Profesores: Ignacio Meza, Sebastián Tinoco\n",
    "- Auxiliar: Catherine Benavides\n",
    "- Ayudante: Nicolás Ojeda, Eduardo Moya"
   ]
  },
  {
   "cell_type": "markdown",
   "metadata": {
    "cell_id": "851a7788e8214942863cbd4099064ab2",
    "deepnote_cell_type": "markdown",
    "id": "Y2Gyrj-x7N2L"
   },
   "source": [
    "### Equipo: SUPER IMPORTANTE - notebooks sin nombre no serán revisados\n",
    "\n",
    "- Nombre de alumno 1: Diego Cornejo\n"
   ]
  },
  {
   "cell_type": "markdown",
   "metadata": {
    "cell_id": "f23a189afdec4e198683308db70e43b7",
    "deepnote_cell_type": "markdown",
    "id": "jQ9skYc57Pxi"
   },
   "source": [
    "### **Link de repositorio de GitHub:** `https://github.com/diegonachon/mds7202/tree/main/lab6`"
   ]
  },
  {
   "cell_type": "markdown",
   "metadata": {
    "cell_id": "b5318f41cda64d4290a7a548956ed725",
    "deepnote_cell_type": "markdown",
    "id": "1M4PoEWm7S80"
   },
   "source": [
    "## Temas a tratar\n",
    "- Aplicar Pandas para obtener características de un DataFrame.\n",
    "- Aplicar Pipelines y Column Transformers.\n",
    "- Utilizar diferentes algoritmos de cluster y ver el desempeño.\n",
    "\n",
    "## Reglas:\n",
    "\n",
    "- **Grupos de 2 personas**\n",
    "- Cualquier duda fuera del horario de clases al foro. Mensajes al equipo docente serán respondidos por este medio.\n",
    "- Prohibidas las copias.\n",
    "- Pueden usar cualquer matrial del curso que estimen conveniente.\n",
    "- Código que no se pueda ejecutar, no será revisado.\n",
    "\n",
    "### Objetivos principales del laboratorio\n",
    "- Comprender cómo aplicar pipelines de Scikit-Learn para generar clusters.\n",
    "- Familiarizarse con plotly.\n",
    "\n",
    "El laboratorio deberá ser desarrollado sin el uso indiscriminado de iteradores nativos de python (aka \"for\", \"while\"). La idea es que aprendan a exprimir al máximo las funciones optimizadas que nos entrega `numpy`, las cuales vale mencionar, son bastante más eficientes que los iteradores nativos sobre arreglos (*o tensores*)."
   ]
  },
  {
   "cell_type": "markdown",
   "metadata": {
    "cell_id": "858df483d9e64780a21674afed1d34b8",
    "deepnote_cell_type": "markdown",
    "id": "SuMbiyQZG2Cc"
   },
   "source": [
    "## Descripción del laboratorio"
   ]
  },
  {
   "cell_type": "markdown",
   "metadata": {
    "cell_id": "403ffe48ec994afda4b91e670a08d0ef",
    "deepnote_cell_type": "markdown",
    "id": "QZsNO4rUrqCz"
   },
   "source": [
    "<center>\n",
    "<img src=\"https://i.pinimg.com/originals/5a/a6/af/5aa6afde8490da403a21601adf7a7240.gif\" width=400 />"
   ]
  },
  {
   "cell_type": "markdown",
   "metadata": {
    "cell_id": "0303baa17d4546feae8c9b88c58470bf",
    "deepnote_cell_type": "markdown",
    "id": "2o0MPuk8rqCz"
   },
   "source": [
    "En el corazón de las operaciones de Aerolínea Lucero, Sergio, el gerente de análisis de datos, reunió a un talentoso equipo de jóvenes científicos de datos para un desafío crucial: segmentar la base de datos de los clientes. “Nuestro objetivo es descubrir patrones en el comportamiento de los pasajeros que nos permitan personalizar servicios y optimizar nuestras campañas de marketing,” explicó Sergio, mientras desplegaba un amplio rango de datos que incluían desde hábitos de compra hasta opiniones sobre los vuelos.\n",
    "\n",
    "Sergio encargó a los científicos de datos la tarea de aplicar técnicas avanzadas de clustering para identificar distintos segmentos de clientes, como los viajeros frecuentes y aquellos que eligen la aerolínea para celebrar ocasiones especiales. La meta principal era entender profundamente cómo estos grupos perciben la calidad y satisfacción de los servicios ofrecidos por la aerolínea.\n",
    "\n",
    "A través de un enfoque meticuloso y colaborativo, los científicos de datos se abocaron a la tarea, buscando transformar los datos brutos en valiosos insights que permitirían a Aerolínea Lucero no solo mejorar su servicio, sino también fortalecer las relaciones con sus clientes mediante una oferta más personalizada y efectiva."
   ]
  },
  {
   "cell_type": "markdown",
   "metadata": {
    "cell_id": "e78cb41b144041af98928ab26dcfdaa9",
    "deepnote_cell_type": "markdown",
    "id": "hs4KKWF1Hdpo"
   },
   "source": [
    "## Importamos librerias utiles 😸"
   ]
  },
  {
   "cell_type": "code",
   "execution_count": 1,
   "metadata": {
    "cell_id": "95a5533cfd6d49cfb9afc111c44d224f",
    "deepnote_cell_type": "code",
    "deepnote_to_be_reexecuted": false,
    "execution_millis": 15,
    "execution_start": 1714107106552,
    "id": "a4YpMafirqC0",
    "source_hash": null
   },
   "outputs": [],
   "source": [
    "import numpy as np\n",
    "import pandas as pd\n",
    "\n",
    "from sklearn import datasets\n",
    "\n",
    "import plotly.express as px\n",
    "import plotly.graph_objects as go\n",
    "from plotly.subplots import make_subplots"
   ]
  },
  {
   "cell_type": "markdown",
   "metadata": {
    "cell_id": "acbeab32db6146678e75448dddf43da8",
    "deepnote_cell_type": "markdown",
    "id": "UQOXod4gHhSq",
    "tags": []
   },
   "source": [
    "## 1. Estudio de Performance 📈\n",
    "\n"
   ]
  },
  {
   "cell_type": "markdown",
   "metadata": {
    "cell_id": "704b56b978254ad3ae12cdbf58f4832d",
    "deepnote_cell_type": "markdown",
    "id": "Gn5u5ICkrqC2"
   },
   "source": [
    "<center>\n",
    "<img src=\"https://user-images.githubusercontent.com/57133330/188281408-c67df9ee-fd1f-4b37-833b-f02848f1ce02.gif\" width=300>"
   ]
  },
  {
   "cell_type": "markdown",
   "metadata": {
    "cell_id": "d35fbdcc5ef045d6a2822622f0714179",
    "deepnote_cell_type": "markdown",
    "id": "y4Z0jTjtrqC2"
   },
   "source": [
    "Don Sergio les ha encomendado su primera tarea: analizar diversas técnicas de clustering. Su objetivo es entender detalladamente cómo funcionan estos métodos en términos de segmentación y eficiencia en tiempo de ejecución.\n",
    "\n",
    "Analice y compare el desempeño, tiempo de ejecución y visualizaciones de cuatro algoritmos de clustering (k-means, DBSCAN, Ward y GMM) aplicados a tres conjuntos de datos, incrementando progresivamente su tamaño. Utilice Plotly para las gráficas y discuta los resultados tanto cualitativa como cuantitativamente.\n",
    "\n",
    "Uno de los requisitos establecidos por Sergio es que el análisis se lleve a cabo utilizando Plotly; de no ser así, se considerará incorrecto. Para facilitar este proceso, se ha proporcionado un código de Plotly que puede servir como base para realizar las gráficas. Apóyese en el código entregado para efectuar el análisis y tome como referencia la siguiente imagen para realizar los gráficos:\n",
    "\n",
    "<img src='https://gitlab.com/imezadelajara/datos_clase_7_mds7202/-/raw/main/misc_images/Screenshot_2024-04-26_at_9.10.44_AM.png' width=900 />\n",
    "\n",
    "En el gráfico se visualizan en dos dimensiones los diferentes tipos de datos proporcionados en `datasets`. Cada columna corresponde a un modelo de clustering diferente, mientras que cada fila representa un conjunto de datos distinto. Cada uno de los gráficos incluye el tiempo en segundos que tarda el análisis y la métrica Silhouette obtenida."
   ]
  },
  {
   "cell_type": "markdown",
   "metadata": {
    "cell_id": "37580aab6cef4238a8ce42c50a6d35de",
    "deepnote_cell_type": "markdown",
    "id": "maCUNAvZrqC2"
   },
   "source": [
    "Para ser más específicos, usted debe cumplir los siguientes objetivos:\n",
    "1. Generar una función que permita replicar el gráfico expuesto en la imagen (no importa que los colores calcen). [4 puntos]\n",
    "2. Ejecuta la función para un `n_samples` igual a 1000, 5000, 20000. [2 puntos]\n",
    "3. Analice y compare el desempeño, tiempo de ejecución y visualizaciones de cuatro algoritmos de clustering. [4 puntos]\n",
    "\n",
    "\n",
    "> ❗ Tiene libertad absoluta de escoger los hiper parámetros de los cluster, sin embargo, se recomienda verificar el dominio de las variables para realizar la segmentación.\n",
    "> ❗ Recuerde que es obligatorio el uso de plotly.\n"
   ]
  },
  {
   "cell_type": "markdown",
   "metadata": {},
   "source": [
    "**<font color=\"red\">DISCLAIMER!</font>**\n",
    "\n",
    "**<font color=\"red\">POR TEMAS DE ALMACENAMIENTO, SE COMENTARON LOS GRÁFICOS GENERADOS</font>**\n",
    "\n",
    "**<font color=\"red\">FIN DE DISCLAIMER!</font>**"
   ]
  },
  {
   "cell_type": "code",
   "execution_count": 2,
   "metadata": {},
   "outputs": [],
   "source": [
    "\"\"\"\n",
    "En la siguiente celda se crean los datos ficticios a usar en la sección 1 del lab.\n",
    "❗No realice cambios a esta celda\n",
    "\"\"\"\n",
    "\n",
    "# Datos a utilizar\n",
    "\n",
    "# Configuracion\n",
    "n_samples = 5000\n",
    "\n",
    "# Lunas\n",
    "moons = datasets.make_moons(n_samples=n_samples, noise=0.05, random_state=30)\n",
    "\n",
    "# Blobs\n",
    "blobs = datasets.make_blobs(n_samples=n_samples, random_state=172)\n",
    "\n",
    "# Datos desiguales\n",
    "transformation = [[0.6, -0.6], [-0.4, 0.8]]\n",
    "mutated = (np.dot(blobs[0], transformation), blobs[1])\n",
    "\n",
    "# Generamos Dataset\n",
    "datasets = {\n",
    "    'moons':{\n",
    "        'x': moons[0], 'classes': moons[1], 'n_cluster': 2\n",
    "    },\n",
    "    'blobs':{\n",
    "        'x': blobs[0], 'classes': blobs[1], 'n_cluster': 3\n",
    "    },\n",
    "    'mutated':{\n",
    "        'x': mutated[0], 'classes': mutated[1], 'n_cluster': 3\n",
    "    }\n",
    "}"
   ]
  },
  {
   "cell_type": "code",
   "execution_count": 3,
   "metadata": {},
   "outputs": [],
   "source": [
    "# # Función scatter\n",
    "# def plot_scatter(x, y, color):\n",
    "#     fig = go.Figure(data=[go.Scatter(\n",
    "#         x=x, y=y, mode='markers',\n",
    "#         marker=dict(\n",
    "#             size=8,\n",
    "#             color=color,  # corresponde a una variable por el cual colorear\n",
    "#             showscale=False  # esconde la escala de color\n",
    "#         )\n",
    "#     )])\n",
    "#     return fig\n",
    "\n",
    "# # Multiples plots con plotly\n",
    "# fig = make_subplots(rows=3, cols=1)\n",
    "# fig.add_trace(\n",
    "#     plot_scatter(\n",
    "#         x=datasets['moons']['x'][:, 0],\n",
    "#         y=datasets['moons']['x'][:, 1],\n",
    "#         color=datasets['moons']['classes']\n",
    "#     )._data[0],\n",
    "#     row=1, col=1\n",
    "# )\n",
    "# fig.add_trace(\n",
    "#     plot_scatter(\n",
    "#         x=datasets['blobs']['x'][:, 0],\n",
    "#         y=datasets['blobs']['x'][:, 1],\n",
    "#         color=datasets['blobs']['classes']\n",
    "#     )._data[0],\n",
    "#     row=2, col=1\n",
    "# )\n",
    "# fig.add_trace(\n",
    "#     plot_scatter(\n",
    "#         x=datasets['mutated']['x'][:, 0],\n",
    "#         y=datasets['mutated']['x'][:, 1],\n",
    "#         color=datasets['mutated']['classes']\n",
    "#     )._data[0],\n",
    "#     row=3, col=1\n",
    "# )\n",
    "# fig.update_layout(\n",
    "#     showlegend=False, template='simple_white'\n",
    "# )"
   ]
  },
  {
   "cell_type": "markdown",
   "metadata": {},
   "source": [
    "**Respuesta**"
   ]
  },
  {
   "cell_type": "code",
   "execution_count": 3,
   "metadata": {},
   "outputs": [],
   "source": [
    "def plot_scatter(x, y, color):\n",
    "    fig = go.Figure(data=[go.Scatter(\n",
    "        x=x, y=y, mode='markers',\n",
    "        marker=dict(\n",
    "            size=8,\n",
    "            color=color,  # corresponde a una variable por el cual colorear\n",
    "            showscale=False  # esconde la escala de color\n",
    "        )\n",
    "    )])\n",
    "    return fig"
   ]
  },
  {
   "cell_type": "code",
   "execution_count": 4,
   "metadata": {},
   "outputs": [],
   "source": [
    "from sklearn.cluster import KMeans\n",
    "from sklearn.mixture import GaussianMixture\n",
    "from sklearn.cluster import AgglomerativeClustering\n",
    "from sklearn.cluster import DBSCAN\n",
    "from sklearn.metrics import silhouette_score\n",
    "import time"
   ]
  },
  {
   "cell_type": "code",
   "execution_count": 5,
   "metadata": {},
   "outputs": [],
   "source": [
    "def generate_plots(n_samples):\n",
    "    from sklearn import datasets\n",
    "    # Datos a utilizar\n",
    "    # Configuracion\n",
    "    n_samples = n_samples\n",
    "    # Lunas\n",
    "    moons = datasets.make_moons(n_samples=n_samples, noise=0.05, random_state=30)\n",
    "    # Blobs\n",
    "    blobs = datasets.make_blobs(n_samples=n_samples, random_state=172)\n",
    "    # Datos desiguales\n",
    "    transformation = [[0.6, -0.6], [-0.4, 0.8]]\n",
    "    mutated = (np.dot(blobs[0], transformation), blobs[1])\n",
    "    # Generamos Dataset\n",
    "    datasets = {'moons':{'x': moons[0], 'classes': moons[1], 'n_cluster': 2},\n",
    "                'blobs':{'x': blobs[0], 'classes': blobs[1], 'n_cluster': 3},\n",
    "                'mutated':{'x': mutated[0], 'classes': mutated[1], 'n_cluster': 3}}\n",
    "    \n",
    "    X_moons = moons[0]\n",
    "    X_blobs = blobs[0]\n",
    "    X_mutat = mutated[0]\n",
    "    \n",
    "    silhouettes = np.zeros(12)\n",
    "    times = np.zeros(12)\n",
    "    \n",
    "    dict_algorithms = ['kmeans', 'gmm', 'ward', 'dbscan']\n",
    "    \n",
    "    # Multiples plots con plotly\n",
    "    fig = make_subplots(rows=3, \n",
    "                        cols=4, \n",
    "                        subplot_titles = ('a', ) * 12,\n",
    "                        column_titles = ['KMeans', 'GMM', 'WARD', 'DBSCAN'])\n",
    "    \n",
    "    for algorithm in dict_algorithms:\n",
    "        \n",
    "        if algorithm == 'kmeans':\n",
    "            list_indexs = 0\n",
    "            row = 1\n",
    "            for data in datasets:\n",
    "                time_start = time.time()\n",
    "                kmean = KMeans(n_clusters = datasets[data]['n_cluster'], random_state = 666)\n",
    "                kmean.fit(datasets[data]['x'])\n",
    "                kmean_labels = kmean.labels_\n",
    "                kmean_silhoutte = silhouette_score(datasets[data]['x'], kmean_labels)\n",
    "                time_end = time.time() - time_start\n",
    "                silhouettes[list_indexs] = kmean_silhoutte\n",
    "                times[list_indexs] = time_end\n",
    "                \n",
    "                fig.add_trace(\n",
    "                plot_scatter(\n",
    "                    x = datasets[data]['x'][:, 0],\n",
    "                    y = datasets[data]['x'][:, 1],\n",
    "                    color = kmean_labels\n",
    "                )._data[0],\n",
    "                row = row, col = 1\n",
    "                )\n",
    "                list_indexs += 4\n",
    "                row += 1\n",
    "                                \n",
    "        elif algorithm == 'gmm':\n",
    "            list_indexs = 1\n",
    "            row = 1\n",
    "            for data in datasets:\n",
    "                time_start = time.time()\n",
    "                gmm = GaussianMixture(n_components = datasets[data]['n_cluster'], random_state = 666)\n",
    "                gmm.fit(datasets[data]['x'])\n",
    "                gmm_labels = gmm.predict(datasets[data]['x'])\n",
    "                gmm_silhoutte = silhouette_score(datasets[data]['x'], gmm_labels)\n",
    "                time_end = time.time() - time_start\n",
    "                silhouettes[list_indexs] = gmm_silhoutte\n",
    "                times[list_indexs] = time_end\n",
    "                \n",
    "                \n",
    "                fig.add_trace(\n",
    "                plot_scatter(\n",
    "                    x = datasets[data]['x'][:, 0],\n",
    "                    y = datasets[data]['x'][:, 1],\n",
    "                    color = gmm_labels\n",
    "                )._data[0],\n",
    "                row = row, col = 2\n",
    "                )\n",
    "                list_indexs += 4\n",
    "                row += 1\n",
    "                \n",
    "        elif algorithm == 'ward':\n",
    "            list_indexs = 2\n",
    "            row = 1\n",
    "            for data in datasets:\n",
    "                time_start = time.time()\n",
    "                ward = AgglomerativeClustering(n_clusters = datasets[data]['n_cluster'], linkage='ward')\n",
    "                ward.fit(datasets[data]['x'])\n",
    "                ward_labels = ward.labels_\n",
    "                ward_silhoutte = silhouette_score(datasets[data]['x'], ward_labels)\n",
    "                time_end = time.time() - time_start\n",
    "                silhouettes[list_indexs] = ward_silhoutte\n",
    "                times[list_indexs] = time_end\n",
    "                fig.add_trace(\n",
    "                plot_scatter(\n",
    "                    x = datasets[data]['x'][:, 0],\n",
    "                    y = datasets[data]['x'][:, 1],\n",
    "                    color = ward_labels\n",
    "                )._data[0],\n",
    "                row = row, col = 3\n",
    "                )\n",
    "                list_indexs += 4\n",
    "                row += 1\n",
    "                \n",
    "        else:\n",
    "            list_indexs = 3\n",
    "            row = 1\n",
    "            min_samples = [3, 10, 10]\n",
    "            for data in datasets:\n",
    "                time_start = time.time()\n",
    "                dbscan = DBSCAN(eps = 0.2, min_samples = min_samples[row - 1])\n",
    "                dbscan_labels = dbscan.fit_predict(datasets[data]['x'])\n",
    "                dbscan_silhoutte = silhouette_score(datasets[data]['x'], dbscan_labels)\n",
    "                time_end = time.time() - time_start\n",
    "                silhouettes[list_indexs] = dbscan_silhoutte\n",
    "                times[list_indexs] = time_end\n",
    "                fig.add_trace(\n",
    "                plot_scatter(\n",
    "                    x = datasets[data]['x'][:, 0],\n",
    "                    y = datasets[data]['x'][:, 1],\n",
    "                    color = dbscan_labels\n",
    "                )._data[0],\n",
    "                row = row, col = 4\n",
    "                )\n",
    "                list_indexs += 4\n",
    "                row += 1\n",
    "\n",
    "    for i in range(len(times)):\n",
    "        title = f'{times[i]:.2f} [s] | s: {silhouettes[i]:.2f}'\n",
    "        fig.layout['annotations'][i].update(text = title)\n",
    "        fig.layout['annotations'][i]['font'].update(size = 8)\n",
    "    \n",
    "    for i in range(1,5):\n",
    "        fig.layout['annotations'][-i].update(y = 1.05)     \n",
    "    \n",
    "    fig.update_layout(\n",
    "        showlegend=False, \n",
    "        template='simple_white',\n",
    "        height = 800,\n",
    "        width = 1000\n",
    "    )   \n",
    "    \n",
    "#     print('silhouettes')\n",
    "#     print(silhouettes[:4])\n",
    "#     print(silhouettes[4:8])\n",
    "#     print(silhouettes[8:])\n",
    "    \n",
    "#     print('tiempos')\n",
    "#     print(times[:4])\n",
    "#     print(times[4:8])\n",
    "#     print(times[8:])\n",
    "    \n",
    "    return(fig.show())\n",
    "\n",
    "        "
   ]
  },
  {
   "cell_type": "code",
   "execution_count": null,
   "metadata": {},
   "outputs": [],
   "source": [
    "generate_plots(1000)"
   ]
  },
  {
   "cell_type": "code",
   "execution_count": 8,
   "metadata": {},
   "outputs": [],
   "source": [
    "generate_plots(5000)"
   ]
  },
  {
   "cell_type": "code",
   "execution_count": 9,
   "metadata": {},
   "outputs": [],
   "source": [
    "generate_plots(20000)"
   ]
  },
  {
   "cell_type": "markdown",
   "metadata": {},
   "source": [
    "**Respuesta**\n",
    "\n",
    "Analice y compare el desempeño, tiempo de ejecución y visualizaciones de cuatro algoritmos de clustering\n",
    "\n"
   ]
  },
  {
   "cell_type": "markdown",
   "metadata": {},
   "source": [
    "* Análisis por desempeño: A partir del coeficiente de Silueta, se tiene que en el algoritmo de K-means se comporta de mejor manera en los sets de moons y mutated, con cualquier cantidad de samples; mientras que en el set de blob, a niveles bajo de samples se comportan igual K-means, GMM y Ward; y a niveles alto solo K-means y GMM. Además, DBSCAN es el que obtuvo peores resultados en todos los niveles, muy probablemente por los hiperparámetros seleccionados.\n",
    "    \n",
    "    \n",
    "* Análisis por tiempo: Se tiene que DBSCAN es el algoritmo con menor tiempo de ejecución en promedio, tanto por el tipo de datos, como por la cantidad de muestras. En cuanto al que más se demora, se tiene que a bajas cantidades de muestras, K-means en promedio se demora más, sin embargo, con alta cantidad de datos Wards es el más lento. Finalmente, entre 1.000, 5.000 y 20.000, existe un incremento de tiempo de ejecución de casi un 1.000% por muestra en cada uno de los algoritmos, a excepción de Wards, que aumenta alrededor de 2.000% entre las 5.000 y 20.000 muestras.\n",
    "    \n",
    "* Análisis de visualización: A medida que aumenta la cantidad de datos, se observa un engrosamiento en los clusters visibles. En cuanto a la clasificación de estos, con 2.000 y 5.000 muestras no se observan diferencias notorias en los algoritmos, a excepción de DBSCAN, donde en los datos blob y mutated se empiezan identificar las clases de manera más visual. Cuando hay 20.000 casos, en DBSCAN, con los datos de mutated, hay dos clusters pasan a ser identificados como uno, dado que la cantidad de datos aumentó e hizo que estos grupos se tocaran."
   ]
  },
  {
   "cell_type": "markdown",
   "metadata": {
    "cell_id": "13c5cb8067d9415f83b3d497954a437a",
    "deepnote_cell_type": "markdown",
    "id": "3mCbZc86rqC6",
    "tags": []
   },
   "source": [
    "## 2. Análisis de Satisfacción de Vuelos"
   ]
  },
  {
   "cell_type": "markdown",
   "metadata": {
    "cell_id": "fd6e991646b44f50a4b13f01d1542415",
    "deepnote_cell_type": "markdown",
    "id": "JI33m5jbrqC6"
   },
   "source": [
    "<center>\n",
    "<img src=\"https://i.gifer.com/2Hci.gif\" width=400 />"
   ]
  },
  {
   "cell_type": "markdown",
   "metadata": {
    "cell_id": "5742dfbd5a2e43778ff250436bab1005",
    "deepnote_cell_type": "markdown",
    "id": "h5k24znirqC7"
   },
   "source": [
    "Habiendo entendido cómo funcionan los modelos de aprendizaje no supervisado, *Don Sergio* le encomienda estudiar la satisfacción de pasajeros al haber tomado un vuelo en alguna de sus aerolineas. Para esto, el magnate le dispone del dataset `aerolineas_licer.parquet`, el cual contiene el grado de satisfacción de los clientes frente a diferentes aspectos del vuelo. Las características del vuelo se definen a continuación:\n",
    "\n",
    "- *Gender*: Género de los pasajeros (Femenino, Masculino)\n",
    "- *Customer Type*: Tipo de cliente (Cliente habitual, cliente no habitual)\n",
    "- *Age*: Edad actual de los pasajeros\n",
    "- *Type of Travel*: Propósito del vuelo de los pasajeros (Viaje personal, Viaje de negocios)\n",
    "- *Class*: Clase de viaje en el avión de los pasajeros (Business, Eco, Eco Plus)\n",
    "- *Flight distance*: Distancia del vuelo de este viaje\n",
    "- *Inflight wifi service*: Nivel de satisfacción del servicio de wifi durante el vuelo (0:No Aplicable; 1-5)\n",
    "- *Departure/Arrival time convenient*: Nivel de satisfacción con la conveniencia del horario de salida/llegada\n",
    "- *Ease of Online booking*: Nivel de satisfacción con la facilidad de reserva en línea\n",
    "- *Gate location*: Nivel de satisfacción con la ubicación de la puerta\n",
    "- *Food and drink*: Nivel de satisfacción con la comida y la bebida\n",
    "- *Online boarding*: Nivel de satisfacción con el embarque en línea\n",
    "- *Seat comfort*: Nivel de satisfacción con la comodidad del asiento\n",
    "- *Inflight entertainment*: Nivel de satisfacción con el entretenimiento durante el vuelo\n",
    "- *On-board service*: Nivel de satisfacción con el servicio a bordo\n",
    "- *Leg room service*: Nivel de satisfacción con el espacio para las piernas\n",
    "- *Baggage handling*: Nivel de satisfacción con el manejo del equipaje\n",
    "- *Check-in service*: Nivel de satisfacción con el servicio de check-in\n",
    "- *Inflight service*: Nivel de satisfacción con el servicio durante el vuelo\n",
    "- *Cleanliness*: Nivel de satisfacción con la limpieza\n",
    "- *Departure Delay in Minutes*: Minutos de retraso en la salida\n",
    "- *Arrival Delay in Minutes*: Minutos de retraso en la llegada"
   ]
  },
  {
   "cell_type": "markdown",
   "metadata": {
    "id": "sOoIFHpw5xCW"
   },
   "source": [
    "En consideración de lo anterior, realice las siguientes tareas:\n",
    "\n",
    "0. Ingeste el dataset a su ambiente de trabajo.\n",
    "\n",
    "1. Seleccione **sólo las variables numéricas del dataset**.  Explique qué éfectos podría usar variables categóricas en un algoritmo no supervisado. Los datos se encuentran en el siguiente [enlace](https://gitlab.com/imezadelajara/datos_clase_7_mds7202/-/raw/main/aerolineas_lucer.parquet). [2 puntos]\n",
    "\n",
    "2. Realice una visualización de la distribución de cada variable y analice cada una de estas distribuciones. [2 puntos]\n",
    "\n",
    "3. Basándose en los gráficos, evalúe la necesidad de escalar los datos y explique el motivo de su decisión. [2 puntos]\n",
    "\n",
    "4. Examine la correlación entre las variables mediante un correlograma. [2 puntos]\n",
    "\n",
    "5. De acuerdo con los resultados obtenidos en 5, reduzca la dimensionalidad del conjunto de datos a cuatro variables, justificando su elección respecto a las variables que decide eliminar. [2 puntos]"
   ]
  },
  {
   "cell_type": "markdown",
   "metadata": {
    "id": "tO6tcVBCtxxS"
   },
   "source": [
    "**Respuesta:**"
   ]
  },
  {
   "cell_type": "markdown",
   "metadata": {},
   "source": [
    "**P0**"
   ]
  },
  {
   "cell_type": "code",
   "execution_count": 7,
   "metadata": {},
   "outputs": [],
   "source": [
    "df = pd.read_parquet('aerolineas_lucer.parquet')"
   ]
  },
  {
   "cell_type": "markdown",
   "metadata": {},
   "source": [
    "**P1**"
   ]
  },
  {
   "cell_type": "markdown",
   "metadata": {},
   "source": [
    "Usar variables categóricas en un algoritmo no supervisado puede traer distintos tipos de problemas, como por ejemplo:\n",
    "\n",
    "- Errores en las distancias: Como estos algoritmos, por lo general, se basan en distancias para agrupar datos, si no se manejan adecuadamente las variables categóricas pueden ser malinterpretadas estas distancias, generando errores en cuanto a las agrupaciones de datos que se realizan o teniendo impacto en algún tipo de reducción de dimensionalidad que se quiera realizar, como un PCA.\n",
    "\n",
    "- Problemas de escala: Existen algoritmos que son sensibles a la escala de las variables, por lo que si no se tratan correctamente estas variables, se pueden distorsionar los resultados obtenidos.\n",
    "\n",
    "- Pérdida de información: Al representar las variables categóricas como números, se pierde la información de la categoría original, como pueden ser las escalas nominales."
   ]
  },
  {
   "cell_type": "code",
   "execution_count": 8,
   "metadata": {},
   "outputs": [
    {
     "data": {
      "text/html": [
       "<div>\n",
       "<style scoped>\n",
       "    .dataframe tbody tr th:only-of-type {\n",
       "        vertical-align: middle;\n",
       "    }\n",
       "\n",
       "    .dataframe tbody tr th {\n",
       "        vertical-align: top;\n",
       "    }\n",
       "\n",
       "    .dataframe thead th {\n",
       "        text-align: right;\n",
       "    }\n",
       "</style>\n",
       "<table border=\"1\" class=\"dataframe\">\n",
       "  <thead>\n",
       "    <tr style=\"text-align: right;\">\n",
       "      <th></th>\n",
       "      <th>id</th>\n",
       "      <th>Age</th>\n",
       "      <th>Flight Distance</th>\n",
       "      <th>Inflight wifi service</th>\n",
       "      <th>Departure/Arrival time convenient</th>\n",
       "      <th>Ease of Online booking</th>\n",
       "      <th>Gate location</th>\n",
       "      <th>Food and drink</th>\n",
       "      <th>Online boarding</th>\n",
       "      <th>Seat comfort</th>\n",
       "      <th>Inflight entertainment</th>\n",
       "      <th>On-board service</th>\n",
       "      <th>Leg room service</th>\n",
       "      <th>Baggage handling</th>\n",
       "      <th>Checkin service</th>\n",
       "      <th>Inflight service</th>\n",
       "      <th>Cleanliness</th>\n",
       "      <th>Departure Delay in Minutes</th>\n",
       "      <th>Arrival Delay in Minutes</th>\n",
       "    </tr>\n",
       "  </thead>\n",
       "  <tbody>\n",
       "    <tr>\n",
       "      <th>0</th>\n",
       "      <td>70172</td>\n",
       "      <td>13</td>\n",
       "      <td>460</td>\n",
       "      <td>3</td>\n",
       "      <td>4</td>\n",
       "      <td>3</td>\n",
       "      <td>1</td>\n",
       "      <td>5</td>\n",
       "      <td>3</td>\n",
       "      <td>5</td>\n",
       "      <td>5</td>\n",
       "      <td>4</td>\n",
       "      <td>3.0</td>\n",
       "      <td>4</td>\n",
       "      <td>4.0</td>\n",
       "      <td>5.0</td>\n",
       "      <td>5</td>\n",
       "      <td>25</td>\n",
       "      <td>18.0</td>\n",
       "    </tr>\n",
       "    <tr>\n",
       "      <th>1</th>\n",
       "      <td>5047</td>\n",
       "      <td>25</td>\n",
       "      <td>235</td>\n",
       "      <td>3</td>\n",
       "      <td>2</td>\n",
       "      <td>3</td>\n",
       "      <td>3</td>\n",
       "      <td>1</td>\n",
       "      <td>3</td>\n",
       "      <td>1</td>\n",
       "      <td>1</td>\n",
       "      <td>1</td>\n",
       "      <td>5.0</td>\n",
       "      <td>3</td>\n",
       "      <td>1.0</td>\n",
       "      <td>4.0</td>\n",
       "      <td>1</td>\n",
       "      <td>1</td>\n",
       "      <td>6.0</td>\n",
       "    </tr>\n",
       "    <tr>\n",
       "      <th>2</th>\n",
       "      <td>110028</td>\n",
       "      <td>26</td>\n",
       "      <td>1142</td>\n",
       "      <td>2</td>\n",
       "      <td>2</td>\n",
       "      <td>2</td>\n",
       "      <td>2</td>\n",
       "      <td>5</td>\n",
       "      <td>5</td>\n",
       "      <td>5</td>\n",
       "      <td>5</td>\n",
       "      <td>4</td>\n",
       "      <td>3.0</td>\n",
       "      <td>4</td>\n",
       "      <td>4.0</td>\n",
       "      <td>4.0</td>\n",
       "      <td>5</td>\n",
       "      <td>0</td>\n",
       "      <td>0.0</td>\n",
       "    </tr>\n",
       "    <tr>\n",
       "      <th>3</th>\n",
       "      <td>24026</td>\n",
       "      <td>25</td>\n",
       "      <td>562</td>\n",
       "      <td>2</td>\n",
       "      <td>5</td>\n",
       "      <td>5</td>\n",
       "      <td>5</td>\n",
       "      <td>2</td>\n",
       "      <td>2</td>\n",
       "      <td>2</td>\n",
       "      <td>2</td>\n",
       "      <td>2</td>\n",
       "      <td>5.0</td>\n",
       "      <td>3</td>\n",
       "      <td>1.0</td>\n",
       "      <td>4.0</td>\n",
       "      <td>2</td>\n",
       "      <td>11</td>\n",
       "      <td>9.0</td>\n",
       "    </tr>\n",
       "    <tr>\n",
       "      <th>4</th>\n",
       "      <td>119299</td>\n",
       "      <td>61</td>\n",
       "      <td>214</td>\n",
       "      <td>3</td>\n",
       "      <td>3</td>\n",
       "      <td>3</td>\n",
       "      <td>3</td>\n",
       "      <td>4</td>\n",
       "      <td>5</td>\n",
       "      <td>5</td>\n",
       "      <td>3</td>\n",
       "      <td>3</td>\n",
       "      <td>4.0</td>\n",
       "      <td>4</td>\n",
       "      <td>3.0</td>\n",
       "      <td>3.0</td>\n",
       "      <td>3</td>\n",
       "      <td>0</td>\n",
       "      <td>0.0</td>\n",
       "    </tr>\n",
       "  </tbody>\n",
       "</table>\n",
       "</div>"
      ],
      "text/plain": [
       "       id  Age  Flight Distance  Inflight wifi service  \\\n",
       "0   70172   13              460                      3   \n",
       "1    5047   25              235                      3   \n",
       "2  110028   26             1142                      2   \n",
       "3   24026   25              562                      2   \n",
       "4  119299   61              214                      3   \n",
       "\n",
       "   Departure/Arrival time convenient  Ease of Online booking  Gate location  \\\n",
       "0                                  4                       3              1   \n",
       "1                                  2                       3              3   \n",
       "2                                  2                       2              2   \n",
       "3                                  5                       5              5   \n",
       "4                                  3                       3              3   \n",
       "\n",
       "   Food and drink  Online boarding  Seat comfort  Inflight entertainment  \\\n",
       "0               5                3             5                       5   \n",
       "1               1                3             1                       1   \n",
       "2               5                5             5                       5   \n",
       "3               2                2             2                       2   \n",
       "4               4                5             5                       3   \n",
       "\n",
       "   On-board service  Leg room service  Baggage handling  Checkin service  \\\n",
       "0                 4               3.0                 4              4.0   \n",
       "1                 1               5.0                 3              1.0   \n",
       "2                 4               3.0                 4              4.0   \n",
       "3                 2               5.0                 3              1.0   \n",
       "4                 3               4.0                 4              3.0   \n",
       "\n",
       "   Inflight service  Cleanliness  Departure Delay in Minutes  \\\n",
       "0               5.0            5                          25   \n",
       "1               4.0            1                           1   \n",
       "2               4.0            5                           0   \n",
       "3               4.0            2                          11   \n",
       "4               3.0            3                           0   \n",
       "\n",
       "   Arrival Delay in Minutes  \n",
       "0                      18.0  \n",
       "1                       6.0  \n",
       "2                       0.0  \n",
       "3                       9.0  \n",
       "4                       0.0  "
      ]
     },
     "execution_count": 8,
     "metadata": {},
     "output_type": "execute_result"
    }
   ],
   "source": [
    "df_numerics_var = df.select_dtypes(include=['number'])\n",
    "df_numerics_var.head()"
   ]
  },
  {
   "cell_type": "markdown",
   "metadata": {},
   "source": [
    "**P2**"
   ]
  },
  {
   "cell_type": "code",
   "execution_count": 12,
   "metadata": {},
   "outputs": [],
   "source": [
    "# for col in df_numerics_var.columns:\n",
    "#     print(f'''\n",
    "#     fig = px.histogram(df_numerics_var, x = '{col}', title = '{col} Histogram')\n",
    "#     fig.show()\n",
    "#     ''')"
   ]
  },
  {
   "cell_type": "code",
   "execution_count": 9,
   "metadata": {},
   "outputs": [
    {
     "data": {
      "text/html": [
       "<div>\n",
       "<style scoped>\n",
       "    .dataframe tbody tr th:only-of-type {\n",
       "        vertical-align: middle;\n",
       "    }\n",
       "\n",
       "    .dataframe tbody tr th {\n",
       "        vertical-align: top;\n",
       "    }\n",
       "\n",
       "    .dataframe thead th {\n",
       "        text-align: right;\n",
       "    }\n",
       "</style>\n",
       "<table border=\"1\" class=\"dataframe\">\n",
       "  <thead>\n",
       "    <tr style=\"text-align: right;\">\n",
       "      <th></th>\n",
       "      <th>id</th>\n",
       "      <th>Age</th>\n",
       "      <th>Flight Distance</th>\n",
       "      <th>Inflight wifi service</th>\n",
       "      <th>Departure/Arrival time convenient</th>\n",
       "      <th>Ease of Online booking</th>\n",
       "      <th>Gate location</th>\n",
       "      <th>Food and drink</th>\n",
       "      <th>Online boarding</th>\n",
       "      <th>Seat comfort</th>\n",
       "      <th>Inflight entertainment</th>\n",
       "      <th>On-board service</th>\n",
       "      <th>Leg room service</th>\n",
       "      <th>Baggage handling</th>\n",
       "      <th>Checkin service</th>\n",
       "      <th>Inflight service</th>\n",
       "      <th>Cleanliness</th>\n",
       "      <th>Departure Delay in Minutes</th>\n",
       "      <th>Arrival Delay in Minutes</th>\n",
       "    </tr>\n",
       "  </thead>\n",
       "  <tbody>\n",
       "    <tr>\n",
       "      <th>count</th>\n",
       "      <td>236114.000000</td>\n",
       "      <td>236114.000000</td>\n",
       "      <td>236114.000000</td>\n",
       "      <td>236114.000000</td>\n",
       "      <td>236114.000000</td>\n",
       "      <td>236114.000000</td>\n",
       "      <td>236114.000000</td>\n",
       "      <td>236114.000000</td>\n",
       "      <td>236114.000000</td>\n",
       "      <td>236114.000000</td>\n",
       "      <td>236114.000000</td>\n",
       "      <td>236114.000000</td>\n",
       "      <td>236114.000000</td>\n",
       "      <td>236114.000000</td>\n",
       "      <td>236114.000000</td>\n",
       "      <td>236114.000000</td>\n",
       "      <td>236114.000000</td>\n",
       "      <td>236114.000000</td>\n",
       "      <td>236114.000000</td>\n",
       "    </tr>\n",
       "    <tr>\n",
       "      <th>mean</th>\n",
       "      <td>64976.757820</td>\n",
       "      <td>39.385297</td>\n",
       "      <td>1190.646891</td>\n",
       "      <td>2.729199</td>\n",
       "      <td>3.060598</td>\n",
       "      <td>2.758464</td>\n",
       "      <td>2.978536</td>\n",
       "      <td>3.202478</td>\n",
       "      <td>3.250218</td>\n",
       "      <td>3.439584</td>\n",
       "      <td>3.360131</td>\n",
       "      <td>3.383416</td>\n",
       "      <td>3.353338</td>\n",
       "      <td>3.632991</td>\n",
       "      <td>3.303980</td>\n",
       "      <td>3.641978</td>\n",
       "      <td>3.286396</td>\n",
       "      <td>14.765512</td>\n",
       "      <td>15.213676</td>\n",
       "    </tr>\n",
       "    <tr>\n",
       "      <th>std</th>\n",
       "      <td>37475.512146</td>\n",
       "      <td>15.125768</td>\n",
       "      <td>999.005937</td>\n",
       "      <td>1.326889</td>\n",
       "      <td>1.524643</td>\n",
       "      <td>1.399083</td>\n",
       "      <td>1.278132</td>\n",
       "      <td>1.328406</td>\n",
       "      <td>1.349914</td>\n",
       "      <td>1.317642</td>\n",
       "      <td>1.332025</td>\n",
       "      <td>1.287594</td>\n",
       "      <td>1.315401</td>\n",
       "      <td>1.180697</td>\n",
       "      <td>1.266034</td>\n",
       "      <td>1.174758</td>\n",
       "      <td>1.311961</td>\n",
       "      <td>38.114330</td>\n",
       "      <td>38.705523</td>\n",
       "    </tr>\n",
       "    <tr>\n",
       "      <th>min</th>\n",
       "      <td>1.000000</td>\n",
       "      <td>7.000000</td>\n",
       "      <td>31.000000</td>\n",
       "      <td>0.000000</td>\n",
       "      <td>0.000000</td>\n",
       "      <td>0.000000</td>\n",
       "      <td>0.000000</td>\n",
       "      <td>0.000000</td>\n",
       "      <td>0.000000</td>\n",
       "      <td>0.000000</td>\n",
       "      <td>0.000000</td>\n",
       "      <td>0.000000</td>\n",
       "      <td>0.000000</td>\n",
       "      <td>1.000000</td>\n",
       "      <td>0.000000</td>\n",
       "      <td>0.000000</td>\n",
       "      <td>0.000000</td>\n",
       "      <td>0.000000</td>\n",
       "      <td>0.000000</td>\n",
       "    </tr>\n",
       "    <tr>\n",
       "      <th>25%</th>\n",
       "      <td>32573.000000</td>\n",
       "      <td>27.000000</td>\n",
       "      <td>414.000000</td>\n",
       "      <td>2.000000</td>\n",
       "      <td>2.000000</td>\n",
       "      <td>2.000000</td>\n",
       "      <td>2.000000</td>\n",
       "      <td>2.000000</td>\n",
       "      <td>2.000000</td>\n",
       "      <td>2.000000</td>\n",
       "      <td>2.000000</td>\n",
       "      <td>2.000000</td>\n",
       "      <td>2.000000</td>\n",
       "      <td>3.000000</td>\n",
       "      <td>3.000000</td>\n",
       "      <td>3.000000</td>\n",
       "      <td>2.000000</td>\n",
       "      <td>0.000000</td>\n",
       "      <td>0.000000</td>\n",
       "    </tr>\n",
       "    <tr>\n",
       "      <th>50%</th>\n",
       "      <td>64945.000000</td>\n",
       "      <td>40.000000</td>\n",
       "      <td>843.000000</td>\n",
       "      <td>3.000000</td>\n",
       "      <td>3.000000</td>\n",
       "      <td>3.000000</td>\n",
       "      <td>3.000000</td>\n",
       "      <td>3.000000</td>\n",
       "      <td>3.000000</td>\n",
       "      <td>4.000000</td>\n",
       "      <td>4.000000</td>\n",
       "      <td>4.000000</td>\n",
       "      <td>4.000000</td>\n",
       "      <td>4.000000</td>\n",
       "      <td>3.000000</td>\n",
       "      <td>4.000000</td>\n",
       "      <td>3.000000</td>\n",
       "      <td>0.000000</td>\n",
       "      <td>0.000000</td>\n",
       "    </tr>\n",
       "    <tr>\n",
       "      <th>75%</th>\n",
       "      <td>97414.000000</td>\n",
       "      <td>51.000000</td>\n",
       "      <td>1744.000000</td>\n",
       "      <td>4.000000</td>\n",
       "      <td>4.000000</td>\n",
       "      <td>4.000000</td>\n",
       "      <td>4.000000</td>\n",
       "      <td>4.000000</td>\n",
       "      <td>4.000000</td>\n",
       "      <td>5.000000</td>\n",
       "      <td>4.000000</td>\n",
       "      <td>4.000000</td>\n",
       "      <td>4.000000</td>\n",
       "      <td>5.000000</td>\n",
       "      <td>4.000000</td>\n",
       "      <td>5.000000</td>\n",
       "      <td>4.000000</td>\n",
       "      <td>12.000000</td>\n",
       "      <td>13.000000</td>\n",
       "    </tr>\n",
       "    <tr>\n",
       "      <th>max</th>\n",
       "      <td>129880.000000</td>\n",
       "      <td>85.000000</td>\n",
       "      <td>4983.000000</td>\n",
       "      <td>5.000000</td>\n",
       "      <td>5.000000</td>\n",
       "      <td>5.000000</td>\n",
       "      <td>5.000000</td>\n",
       "      <td>5.000000</td>\n",
       "      <td>5.000000</td>\n",
       "      <td>5.000000</td>\n",
       "      <td>5.000000</td>\n",
       "      <td>5.000000</td>\n",
       "      <td>5.000000</td>\n",
       "      <td>5.000000</td>\n",
       "      <td>5.000000</td>\n",
       "      <td>5.000000</td>\n",
       "      <td>5.000000</td>\n",
       "      <td>1592.000000</td>\n",
       "      <td>1584.000000</td>\n",
       "    </tr>\n",
       "  </tbody>\n",
       "</table>\n",
       "</div>"
      ],
      "text/plain": [
       "                  id            Age  Flight Distance  Inflight wifi service  \\\n",
       "count  236114.000000  236114.000000    236114.000000          236114.000000   \n",
       "mean    64976.757820      39.385297      1190.646891               2.729199   \n",
       "std     37475.512146      15.125768       999.005937               1.326889   \n",
       "min         1.000000       7.000000        31.000000               0.000000   \n",
       "25%     32573.000000      27.000000       414.000000               2.000000   \n",
       "50%     64945.000000      40.000000       843.000000               3.000000   \n",
       "75%     97414.000000      51.000000      1744.000000               4.000000   \n",
       "max    129880.000000      85.000000      4983.000000               5.000000   \n",
       "\n",
       "       Departure/Arrival time convenient  Ease of Online booking  \\\n",
       "count                      236114.000000           236114.000000   \n",
       "mean                            3.060598                2.758464   \n",
       "std                             1.524643                1.399083   \n",
       "min                             0.000000                0.000000   \n",
       "25%                             2.000000                2.000000   \n",
       "50%                             3.000000                3.000000   \n",
       "75%                             4.000000                4.000000   \n",
       "max                             5.000000                5.000000   \n",
       "\n",
       "       Gate location  Food and drink  Online boarding   Seat comfort  \\\n",
       "count  236114.000000   236114.000000    236114.000000  236114.000000   \n",
       "mean        2.978536        3.202478         3.250218       3.439584   \n",
       "std         1.278132        1.328406         1.349914       1.317642   \n",
       "min         0.000000        0.000000         0.000000       0.000000   \n",
       "25%         2.000000        2.000000         2.000000       2.000000   \n",
       "50%         3.000000        3.000000         3.000000       4.000000   \n",
       "75%         4.000000        4.000000         4.000000       5.000000   \n",
       "max         5.000000        5.000000         5.000000       5.000000   \n",
       "\n",
       "       Inflight entertainment  On-board service  Leg room service  \\\n",
       "count           236114.000000     236114.000000     236114.000000   \n",
       "mean                 3.360131          3.383416          3.353338   \n",
       "std                  1.332025          1.287594          1.315401   \n",
       "min                  0.000000          0.000000          0.000000   \n",
       "25%                  2.000000          2.000000          2.000000   \n",
       "50%                  4.000000          4.000000          4.000000   \n",
       "75%                  4.000000          4.000000          4.000000   \n",
       "max                  5.000000          5.000000          5.000000   \n",
       "\n",
       "       Baggage handling  Checkin service  Inflight service    Cleanliness  \\\n",
       "count     236114.000000    236114.000000     236114.000000  236114.000000   \n",
       "mean           3.632991         3.303980          3.641978       3.286396   \n",
       "std            1.180697         1.266034          1.174758       1.311961   \n",
       "min            1.000000         0.000000          0.000000       0.000000   \n",
       "25%            3.000000         3.000000          3.000000       2.000000   \n",
       "50%            4.000000         3.000000          4.000000       3.000000   \n",
       "75%            5.000000         4.000000          5.000000       4.000000   \n",
       "max            5.000000         5.000000          5.000000       5.000000   \n",
       "\n",
       "       Departure Delay in Minutes  Arrival Delay in Minutes  \n",
       "count               236114.000000             236114.000000  \n",
       "mean                    14.765512                 15.213676  \n",
       "std                     38.114330                 38.705523  \n",
       "min                      0.000000                  0.000000  \n",
       "25%                      0.000000                  0.000000  \n",
       "50%                      0.000000                  0.000000  \n",
       "75%                     12.000000                 13.000000  \n",
       "max                   1592.000000               1584.000000  "
      ]
     },
     "execution_count": 9,
     "metadata": {},
     "output_type": "execute_result"
    }
   ],
   "source": [
    "df_numerics_var.describe()"
   ]
  },
  {
   "cell_type": "markdown",
   "metadata": {},
   "source": [
    "- **Age** : Presenta una distribución normal, donde los valores más comúnes se encuentran en el centro. Se tiene como promedio 39 años con una desviación estandar de +- 15 años; eñ 50% de los pasajeros tienen al menos 40 años, mientras que el 75% de estos tienen al menos 51 años.\n"
   ]
  },
  {
   "cell_type": "code",
   "execution_count": 14,
   "metadata": {},
   "outputs": [],
   "source": [
    "fig = px.histogram(df_numerics_var, x = 'Age', title = 'Age Histogram')\n",
    "fig.show()"
   ]
  },
  {
   "cell_type": "markdown",
   "metadata": {},
   "source": [
    "* Fligh Distance: La distancia promedio de viaje es de 1.190 (no se especifica si son millas o kilometros), con una desviación estandar de +- cercana a 1.000. El 50% de los vuelos recorren al menos 843, mientras que el 75% recorren al menos 1.744. Presenta una distribución normal desplazada."
   ]
  },
  {
   "cell_type": "code",
   "execution_count": 15,
   "metadata": {},
   "outputs": [],
   "source": [
    "fig = px.histogram(df_numerics_var, x = 'Flight Distance', title = 'Flight Distance Histogram')\n",
    "fig.show()"
   ]
  },
  {
   "cell_type": "markdown",
   "metadata": {},
   "source": [
    "* *Inflight wifi service*: Corresponde a una variable categórica que va de 0 a 5. Presenta una distribución normal, teniendo que los niveles 2 y 3 son las más repetidas; mientras que el nivel 0 con menos."
   ]
  },
  {
   "cell_type": "code",
   "execution_count": 16,
   "metadata": {},
   "outputs": [],
   "source": [
    "fig = px.histogram(df_numerics_var, x = 'Inflight wifi service', title = 'Inflight wifi service Histogram')\n",
    "fig.show()"
   ]
  },
  {
   "cell_type": "markdown",
   "metadata": {},
   "source": [
    "* *Departure/Arrival time convenient*: Corresponde a una variable categórica  que va de 0 a 5. Presenta una distribución normal, teniendo el nivel 4 con mayor cantidad de observaciones; y el nivel 0 con menos."
   ]
  },
  {
   "cell_type": "code",
   "execution_count": 17,
   "metadata": {},
   "outputs": [],
   "source": [
    "fig = px.histogram(df_numerics_var, x = 'Departure/Arrival time convenient', title = 'Departure/Arrival time convenient Histogram')\n",
    "fig.show()"
   ]
  },
  {
   "cell_type": "markdown",
   "metadata": {},
   "source": [
    "* *Ease of Online booking*: Corresponde a una variable categórica que va de 0 a 5. Presenta una distribución normal, donde los niveles 2 y 3 son los que poseen mayor cantidad de observaciones, teniendo el 3 ligeramente más; y el 0 con menos."
   ]
  },
  {
   "cell_type": "code",
   "execution_count": 18,
   "metadata": {},
   "outputs": [],
   "source": [
    "fig = px.histogram(df_numerics_var, x = 'Ease of Online booking', title = 'Ease of Online booking Histogram')\n",
    "fig.show()"
   ]
  },
  {
   "cell_type": "markdown",
   "metadata": {},
   "source": [
    "* *Gate location*: Corresponde a una variable categórica que va de 0 a 5. Presenta una distribución normal, donde el nivel 3 es el que posee mayor cantidad de observaciones. Así mismo, 0 es el que menos posee, teniendo solo 2 datos, lo cuál puede indicar que son outliers o casos muy específicos."
   ]
  },
  {
   "cell_type": "code",
   "execution_count": 19,
   "metadata": {},
   "outputs": [],
   "source": [
    "fig = px.histogram(df_numerics_var, x = 'Gate location', title = 'Gate location Histogram')\n",
    "fig.show()"
   ]
  },
  {
   "cell_type": "markdown",
   "metadata": {},
   "source": [
    "* *Food and drink*: Corresponde a una variable categórica que va de 0 a 5. Presenta una distribución normal, teniendo una cantidad de observaciones similares los niveles 2, 3, 4 y 5, siendo 4 el que posee ligeramente más. Por otro lado, el que menos posee es 0, con 242 observaciones."
   ]
  },
  {
   "cell_type": "code",
   "execution_count": 20,
   "metadata": {},
   "outputs": [],
   "source": [
    "fig = px.histogram(df_numerics_var, x = 'Food and drink', title = 'Food and drink Histogram')\n",
    "fig.show()"
   ]
  },
  {
   "cell_type": "markdown",
   "metadata": {},
   "source": [
    "* *Online boarding*: Corresponde a una variable categórica que va de 0 a 5. Presenta una distribución normal, donde el nivel 4 es el que presenta mayor cantidad de observaciones; mientras que el nivel 0 posee la menor."
   ]
  },
  {
   "cell_type": "code",
   "execution_count": 21,
   "metadata": {},
   "outputs": [],
   "source": [
    "fig = px.histogram(df_numerics_var, x = 'Online boarding', title = 'Online boarding Histogram')\n",
    "fig.show()"
   ]
  },
  {
   "cell_type": "markdown",
   "metadata": {},
   "source": [
    "* *Seat comfort*: Corresponde a una variable categórica que va de 0 a 5. Presenta una distribución normal, donde el nivel 4 es el que presenta mayor cantidad de observaciones; mientras que el nivel 0 posee la menor. Así mismo, este último presenta solo 2 observaciones, lo que puede indicar que son outliers o casos específicos, teniendo como según menor nivel el 1."
   ]
  },
  {
   "cell_type": "code",
   "execution_count": 22,
   "metadata": {},
   "outputs": [],
   "source": [
    "fig = px.histogram(df_numerics_var, x = 'Seat comfort', title = 'Seat comfort Histogram')\n",
    "fig.show()"
   ]
  },
  {
   "cell_type": "markdown",
   "metadata": {},
   "source": [
    "* *Inflight entertainment*: Corresponde a una variable categórica que va de 0 a 5. Presenta una distribución normal, donde 4 es el que presenta mayor cantidad de observaciones; mientras que el nivel 0 posee la menor."
   ]
  },
  {
   "cell_type": "code",
   "execution_count": 23,
   "metadata": {},
   "outputs": [],
   "source": [
    "fig = px.histogram(df_numerics_var, x = 'Inflight entertainment', title = 'Inflight entertainment Histogram')\n",
    "fig.show()"
   ]
  },
  {
   "cell_type": "markdown",
   "metadata": {},
   "source": [
    "* *On-board service*: Corresponde a una variable categórica que va de 0 a 5. Presenta una distribución normal, donde 4 es el que presenta mayor cantidad de observaciones; mientras que el nivel 0 posee la menor. "
   ]
  },
  {
   "cell_type": "code",
   "execution_count": 24,
   "metadata": {},
   "outputs": [],
   "source": [
    "fig = px.histogram(df_numerics_var, x = 'On-board service', title = 'On-board service Histogram')\n",
    "fig.show()"
   ]
  },
  {
   "cell_type": "markdown",
   "metadata": {},
   "source": [
    "* *Leg room service*: Corresponde a una variable categórica que va de 0 a 5. Presenta una distribución normal, donde 4 es el que presenta mayor cantidad de observaciones; mientras que el nivel 0 posee la menor. "
   ]
  },
  {
   "cell_type": "code",
   "execution_count": 25,
   "metadata": {},
   "outputs": [],
   "source": [
    "fig = px.histogram(df_numerics_var, x = 'Leg room service', title = 'Leg room service Histogram')\n",
    "fig.show()"
   ]
  },
  {
   "cell_type": "markdown",
   "metadata": {},
   "source": [
    "* *Baggage handling*: Corresponde a una variable categórica que va de 0 a 5. Presenta una distribución normal, donde 4 es el que presenta mayor cantidad de observaciones; mientras que el nivel 0 posee la menor. "
   ]
  },
  {
   "cell_type": "code",
   "execution_count": 26,
   "metadata": {},
   "outputs": [],
   "source": [
    "fig = px.histogram(df_numerics_var, x = 'Baggage handling', title = 'Baggage handling Histogram')\n",
    "fig.show()"
   ]
  },
  {
   "cell_type": "markdown",
   "metadata": {},
   "source": [
    "* *Checkin service*: Corresponde a una variable categórica que va de 0 a 5. Presenta una distribución normal, donde 4 es el que presenta mayor cantidad de observaciones; mientras que el nivel 0 posee la menor. "
   ]
  },
  {
   "cell_type": "code",
   "execution_count": 27,
   "metadata": {},
   "outputs": [],
   "source": [
    "fig = px.histogram(df_numerics_var, x = 'Checkin service', title = 'Checkin service Histogram')\n",
    "fig.show()"
   ]
  },
  {
   "cell_type": "markdown",
   "metadata": {},
   "source": [
    "* *Inflight service*: Corresponde a una variable categórica que va de 0 a 5. Presenta una distribución normal, donde 4 es el que presenta mayor cantidad de observaciones; mientras que el nivel 0 posee la menor. "
   ]
  },
  {
   "cell_type": "code",
   "execution_count": 28,
   "metadata": {},
   "outputs": [],
   "source": [
    "fig = px.histogram(df_numerics_var, x = 'Inflight service', title = 'Inflight service Histogram')\n",
    "fig.show()"
   ]
  },
  {
   "cell_type": "markdown",
   "metadata": {},
   "source": [
    "* *Cleanliness*: Corresponde a una variable categórica que va de 0 a 5. Presenta una distribución normal, donde 4 es el que presenta mayor cantidad de observaciones, seguido por el 3; mientras que el nivel 0 posee la menor. "
   ]
  },
  {
   "cell_type": "code",
   "execution_count": 29,
   "metadata": {},
   "outputs": [],
   "source": [
    "fig = px.histogram(df_numerics_var, x = 'Cleanliness', title = 'Cleanliness Histogram')\n",
    "fig.show()"
   ]
  },
  {
   "cell_type": "markdown",
   "metadata": {},
   "source": [
    "* *Departure Delay in Minutes*: Se observa que la variable se encuentra mayormente concentrada en 0 minutos, indicando que es algo atípico el despegar con atraso. Así mismo, se tiene que el promedio de atraso son 14 minutos, con una desviación estándar de 38 minutos; teniendo que el 50% de los pasajeros tuvo un vuelos sin atraso, y que el 75% tuvo un atraso de al menos 12 minutos, teniendo como máximo atraso 1.592 minutos."
   ]
  },
  {
   "cell_type": "code",
   "execution_count": 30,
   "metadata": {},
   "outputs": [],
   "source": [
    "fig = px.histogram(df_numerics_var, x = 'Departure Delay in Minutes', title = 'Departure Delay in Minutes Histogram')\n",
    "fig.show()"
   ]
  },
  {
   "cell_type": "markdown",
   "metadata": {},
   "source": [
    "* *Arrival Delay in Minutes*: Se observa que la variable se encuentra mayormente concentrada en 0 minutos, indicando que es algo atípico el aterrizar con atraso. Así mismo, se tiene que el promedio de atraso son 15 minutos, con una desviación estándar de 38 minutos; teniendo que el 50% de los pasajeros tuvo un vuelos sin atraso, y que el 75% tuvo un atraso de al menos 13 minutos, teniendo como máximo atraso 1.584 minutos. Esta variable se encuentra muy correlacionada con *Departure Delay in Minutes*, ya que lógicamente, el tiempo de atraso que se tiene al partir es similar al tiempo de atraso que tendrá al llegar."
   ]
  },
  {
   "cell_type": "code",
   "execution_count": 31,
   "metadata": {},
   "outputs": [],
   "source": [
    "fig = px.histogram(df_numerics_var, x = 'Arrival Delay in Minutes', title = 'Arrival Delay in Minutes Histogram')\n",
    "fig.show()"
   ]
  },
  {
   "cell_type": "markdown",
   "metadata": {},
   "source": [
    "**P3**"
   ]
  },
  {
   "cell_type": "markdown",
   "metadata": {},
   "source": [
    "En vista de los datos y las distribuciones observadas, todas las variables deben ser transformadas. En particular, las que variables categoricas ordinales, como las correspondientes a niveles de satisfacción, y las continuas, como la edad, distancia de vuelo o retrasos tanto en inicio como llegada, deben ser escaladas, por ejemplo, por medio de *StandardScaler*, para que puedan ser comparables entre ellas; mientras que las variables categoricas nominales, como el tipo de viaje o la clase, deben ser transformadas por *One Hot*."
   ]
  },
  {
   "cell_type": "markdown",
   "metadata": {},
   "source": [
    "**P4**"
   ]
  },
  {
   "cell_type": "markdown",
   "metadata": {},
   "source": [
    "Se observa alta correlación entre las variables:\n",
    "\n",
    "* *Arrival Delay in Minutes* - *Departure Delay in Minutes* : 0.97\n",
    "* *Ease of Online booking* - *Inflight wifi service* : 0.72\n",
    "* *Inflight entertainment* - *Cleanliness* : 0.69\n",
    "* *Cleanliness* - *Seat comfort* : 0.68\n",
    "* *Food and drink* - *Cleanliness* : 0.66\n",
    "* *Baggage handling* - *Inflight service* : 0.63\n",
    "* *Inflight entertainment* - *Food and drink* : 0.62"
   ]
  },
  {
   "cell_type": "code",
   "execution_count": 10,
   "metadata": {},
   "outputs": [
    {
     "data": {
      "text/html": [
       "<div>\n",
       "<style scoped>\n",
       "    .dataframe tbody tr th:only-of-type {\n",
       "        vertical-align: middle;\n",
       "    }\n",
       "\n",
       "    .dataframe tbody tr th {\n",
       "        vertical-align: top;\n",
       "    }\n",
       "\n",
       "    .dataframe thead th {\n",
       "        text-align: right;\n",
       "    }\n",
       "</style>\n",
       "<table border=\"1\" class=\"dataframe\">\n",
       "  <thead>\n",
       "    <tr style=\"text-align: right;\">\n",
       "      <th></th>\n",
       "      <th>id</th>\n",
       "      <th>Age</th>\n",
       "      <th>Flight Distance</th>\n",
       "      <th>Inflight wifi service</th>\n",
       "      <th>Departure/Arrival time convenient</th>\n",
       "      <th>Ease of Online booking</th>\n",
       "      <th>Gate location</th>\n",
       "      <th>Food and drink</th>\n",
       "      <th>Online boarding</th>\n",
       "      <th>Seat comfort</th>\n",
       "      <th>Inflight entertainment</th>\n",
       "      <th>On-board service</th>\n",
       "      <th>Leg room service</th>\n",
       "      <th>Baggage handling</th>\n",
       "      <th>Checkin service</th>\n",
       "      <th>Inflight service</th>\n",
       "      <th>Cleanliness</th>\n",
       "      <th>Departure Delay in Minutes</th>\n",
       "      <th>Arrival Delay in Minutes</th>\n",
       "    </tr>\n",
       "  </thead>\n",
       "  <tbody>\n",
       "    <tr>\n",
       "      <th>id</th>\n",
       "      <td>1.000000</td>\n",
       "      <td>0.024276</td>\n",
       "      <td>0.095731</td>\n",
       "      <td>-0.021350</td>\n",
       "      <td>-0.002577</td>\n",
       "      <td>0.013705</td>\n",
       "      <td>-0.001756</td>\n",
       "      <td>0.002246</td>\n",
       "      <td>0.056320</td>\n",
       "      <td>0.056135</td>\n",
       "      <td>0.005128</td>\n",
       "      <td>0.055527</td>\n",
       "      <td>0.047001</td>\n",
       "      <td>0.077104</td>\n",
       "      <td>0.079611</td>\n",
       "      <td>0.079771</td>\n",
       "      <td>0.027865</td>\n",
       "      <td>-0.019847</td>\n",
       "      <td>-0.037604</td>\n",
       "    </tr>\n",
       "    <tr>\n",
       "      <th>Age</th>\n",
       "      <td>0.024276</td>\n",
       "      <td>1.000000</td>\n",
       "      <td>0.101150</td>\n",
       "      <td>0.017572</td>\n",
       "      <td>0.039008</td>\n",
       "      <td>0.024927</td>\n",
       "      <td>-0.001224</td>\n",
       "      <td>0.022470</td>\n",
       "      <td>0.207535</td>\n",
       "      <td>0.158939</td>\n",
       "      <td>0.076808</td>\n",
       "      <td>0.059467</td>\n",
       "      <td>0.042472</td>\n",
       "      <td>-0.046668</td>\n",
       "      <td>0.034976</td>\n",
       "      <td>-0.048948</td>\n",
       "      <td>0.052684</td>\n",
       "      <td>-0.009492</td>\n",
       "      <td>-0.011283</td>\n",
       "    </tr>\n",
       "    <tr>\n",
       "      <th>Flight Distance</th>\n",
       "      <td>0.095731</td>\n",
       "      <td>0.101150</td>\n",
       "      <td>1.000000</td>\n",
       "      <td>0.007187</td>\n",
       "      <td>-0.019793</td>\n",
       "      <td>0.066585</td>\n",
       "      <td>0.004086</td>\n",
       "      <td>0.057216</td>\n",
       "      <td>0.216355</td>\n",
       "      <td>0.158620</td>\n",
       "      <td>0.129742</td>\n",
       "      <td>0.109537</td>\n",
       "      <td>0.134848</td>\n",
       "      <td>0.064242</td>\n",
       "      <td>0.073001</td>\n",
       "      <td>0.057966</td>\n",
       "      <td>0.093521</td>\n",
       "      <td>0.001517</td>\n",
       "      <td>-0.002838</td>\n",
       "    </tr>\n",
       "    <tr>\n",
       "      <th>Inflight wifi service</th>\n",
       "      <td>-0.021350</td>\n",
       "      <td>0.017572</td>\n",
       "      <td>0.007187</td>\n",
       "      <td>1.000000</td>\n",
       "      <td>0.343414</td>\n",
       "      <td>0.715727</td>\n",
       "      <td>0.335391</td>\n",
       "      <td>0.134076</td>\n",
       "      <td>0.456805</td>\n",
       "      <td>0.122673</td>\n",
       "      <td>0.209171</td>\n",
       "      <td>0.123733</td>\n",
       "      <td>0.160075</td>\n",
       "      <td>0.121764</td>\n",
       "      <td>0.043869</td>\n",
       "      <td>0.111062</td>\n",
       "      <td>0.131513</td>\n",
       "      <td>-0.016213</td>\n",
       "      <td>-0.018254</td>\n",
       "    </tr>\n",
       "    <tr>\n",
       "      <th>Departure/Arrival time convenient</th>\n",
       "      <td>-0.002577</td>\n",
       "      <td>0.039008</td>\n",
       "      <td>-0.019793</td>\n",
       "      <td>0.343414</td>\n",
       "      <td>1.000000</td>\n",
       "      <td>0.437551</td>\n",
       "      <td>0.445463</td>\n",
       "      <td>0.004046</td>\n",
       "      <td>0.069607</td>\n",
       "      <td>0.010475</td>\n",
       "      <td>-0.005432</td>\n",
       "      <td>0.068800</td>\n",
       "      <td>0.011975</td>\n",
       "      <td>0.071662</td>\n",
       "      <td>0.092419</td>\n",
       "      <td>0.072624</td>\n",
       "      <td>0.013094</td>\n",
       "      <td>0.001257</td>\n",
       "      <td>-0.000484</td>\n",
       "    </tr>\n",
       "    <tr>\n",
       "      <th>Ease of Online booking</th>\n",
       "      <td>0.013705</td>\n",
       "      <td>0.024927</td>\n",
       "      <td>0.066585</td>\n",
       "      <td>0.715727</td>\n",
       "      <td>0.437551</td>\n",
       "      <td>1.000000</td>\n",
       "      <td>0.459608</td>\n",
       "      <td>0.030885</td>\n",
       "      <td>0.403554</td>\n",
       "      <td>0.029723</td>\n",
       "      <td>0.045944</td>\n",
       "      <td>0.039992</td>\n",
       "      <td>0.105803</td>\n",
       "      <td>0.038811</td>\n",
       "      <td>0.010731</td>\n",
       "      <td>0.034344</td>\n",
       "      <td>0.014853</td>\n",
       "      <td>-0.005398</td>\n",
       "      <td>-0.007521</td>\n",
       "    </tr>\n",
       "    <tr>\n",
       "      <th>Gate location</th>\n",
       "      <td>-0.001756</td>\n",
       "      <td>-0.001224</td>\n",
       "      <td>0.004086</td>\n",
       "      <td>0.335391</td>\n",
       "      <td>0.445463</td>\n",
       "      <td>0.459608</td>\n",
       "      <td>1.000000</td>\n",
       "      <td>-0.002524</td>\n",
       "      <td>0.000604</td>\n",
       "      <td>0.002927</td>\n",
       "      <td>0.002505</td>\n",
       "      <td>-0.028939</td>\n",
       "      <td>-0.005701</td>\n",
       "      <td>0.002054</td>\n",
       "      <td>-0.036950</td>\n",
       "      <td>0.001578</td>\n",
       "      <td>-0.005250</td>\n",
       "      <td>0.007009</td>\n",
       "      <td>0.006503</td>\n",
       "    </tr>\n",
       "    <tr>\n",
       "      <th>Food and drink</th>\n",
       "      <td>0.002246</td>\n",
       "      <td>0.022470</td>\n",
       "      <td>0.057216</td>\n",
       "      <td>0.134076</td>\n",
       "      <td>0.004046</td>\n",
       "      <td>0.030885</td>\n",
       "      <td>-0.002524</td>\n",
       "      <td>1.000000</td>\n",
       "      <td>0.234091</td>\n",
       "      <td>0.573868</td>\n",
       "      <td>0.621910</td>\n",
       "      <td>0.060877</td>\n",
       "      <td>0.032909</td>\n",
       "      <td>0.036567</td>\n",
       "      <td>0.086733</td>\n",
       "      <td>0.034891</td>\n",
       "      <td>0.656454</td>\n",
       "      <td>-0.031652</td>\n",
       "      <td>-0.034578</td>\n",
       "    </tr>\n",
       "    <tr>\n",
       "      <th>Online boarding</th>\n",
       "      <td>0.056320</td>\n",
       "      <td>0.207535</td>\n",
       "      <td>0.216355</td>\n",
       "      <td>0.456805</td>\n",
       "      <td>0.069607</td>\n",
       "      <td>0.403554</td>\n",
       "      <td>0.000604</td>\n",
       "      <td>0.234091</td>\n",
       "      <td>1.000000</td>\n",
       "      <td>0.419581</td>\n",
       "      <td>0.285057</td>\n",
       "      <td>0.157237</td>\n",
       "      <td>0.123457</td>\n",
       "      <td>0.084605</td>\n",
       "      <td>0.204856</td>\n",
       "      <td>0.075527</td>\n",
       "      <td>0.331070</td>\n",
       "      <td>-0.017276</td>\n",
       "      <td>-0.021021</td>\n",
       "    </tr>\n",
       "    <tr>\n",
       "      <th>Seat comfort</th>\n",
       "      <td>0.056135</td>\n",
       "      <td>0.158939</td>\n",
       "      <td>0.158620</td>\n",
       "      <td>0.122673</td>\n",
       "      <td>0.010475</td>\n",
       "      <td>0.029723</td>\n",
       "      <td>0.002927</td>\n",
       "      <td>0.573868</td>\n",
       "      <td>0.419581</td>\n",
       "      <td>1.000000</td>\n",
       "      <td>0.611278</td>\n",
       "      <td>0.134838</td>\n",
       "      <td>0.106345</td>\n",
       "      <td>0.076402</td>\n",
       "      <td>0.192392</td>\n",
       "      <td>0.071122</td>\n",
       "      <td>0.677988</td>\n",
       "      <td>-0.027108</td>\n",
       "      <td>-0.030104</td>\n",
       "    </tr>\n",
       "    <tr>\n",
       "      <th>Inflight entertainment</th>\n",
       "      <td>0.005128</td>\n",
       "      <td>0.076808</td>\n",
       "      <td>0.129742</td>\n",
       "      <td>0.209171</td>\n",
       "      <td>-0.005432</td>\n",
       "      <td>0.045944</td>\n",
       "      <td>0.002505</td>\n",
       "      <td>0.621910</td>\n",
       "      <td>0.285057</td>\n",
       "      <td>0.611278</td>\n",
       "      <td>1.000000</td>\n",
       "      <td>0.422387</td>\n",
       "      <td>0.300647</td>\n",
       "      <td>0.380195</td>\n",
       "      <td>0.121518</td>\n",
       "      <td>0.405843</td>\n",
       "      <td>0.691729</td>\n",
       "      <td>-0.028503</td>\n",
       "      <td>-0.031444</td>\n",
       "    </tr>\n",
       "    <tr>\n",
       "      <th>On-board service</th>\n",
       "      <td>0.055527</td>\n",
       "      <td>0.059467</td>\n",
       "      <td>0.109537</td>\n",
       "      <td>0.123733</td>\n",
       "      <td>0.068800</td>\n",
       "      <td>0.039992</td>\n",
       "      <td>-0.028939</td>\n",
       "      <td>0.060877</td>\n",
       "      <td>0.157237</td>\n",
       "      <td>0.134838</td>\n",
       "      <td>0.422387</td>\n",
       "      <td>1.000000</td>\n",
       "      <td>0.356395</td>\n",
       "      <td>0.518662</td>\n",
       "      <td>0.243345</td>\n",
       "      <td>0.551498</td>\n",
       "      <td>0.125499</td>\n",
       "      <td>-0.031093</td>\n",
       "      <td>-0.034578</td>\n",
       "    </tr>\n",
       "    <tr>\n",
       "      <th>Leg room service</th>\n",
       "      <td>0.047001</td>\n",
       "      <td>0.042472</td>\n",
       "      <td>0.134848</td>\n",
       "      <td>0.160075</td>\n",
       "      <td>0.011975</td>\n",
       "      <td>0.105803</td>\n",
       "      <td>-0.005701</td>\n",
       "      <td>0.032909</td>\n",
       "      <td>0.123457</td>\n",
       "      <td>0.106345</td>\n",
       "      <td>0.300647</td>\n",
       "      <td>0.356395</td>\n",
       "      <td>1.000000</td>\n",
       "      <td>0.369787</td>\n",
       "      <td>0.153266</td>\n",
       "      <td>0.369005</td>\n",
       "      <td>0.097740</td>\n",
       "      <td>0.014723</td>\n",
       "      <td>0.012072</td>\n",
       "    </tr>\n",
       "    <tr>\n",
       "      <th>Baggage handling</th>\n",
       "      <td>0.077104</td>\n",
       "      <td>-0.046668</td>\n",
       "      <td>0.064242</td>\n",
       "      <td>0.121764</td>\n",
       "      <td>0.071662</td>\n",
       "      <td>0.038811</td>\n",
       "      <td>0.002054</td>\n",
       "      <td>0.036567</td>\n",
       "      <td>0.084605</td>\n",
       "      <td>0.076402</td>\n",
       "      <td>0.380195</td>\n",
       "      <td>0.518662</td>\n",
       "      <td>0.369787</td>\n",
       "      <td>1.000000</td>\n",
       "      <td>0.233907</td>\n",
       "      <td>0.628389</td>\n",
       "      <td>0.098555</td>\n",
       "      <td>-0.005124</td>\n",
       "      <td>-0.007782</td>\n",
       "    </tr>\n",
       "    <tr>\n",
       "      <th>Checkin service</th>\n",
       "      <td>0.079611</td>\n",
       "      <td>0.034976</td>\n",
       "      <td>0.073001</td>\n",
       "      <td>0.043869</td>\n",
       "      <td>0.092419</td>\n",
       "      <td>0.010731</td>\n",
       "      <td>-0.036950</td>\n",
       "      <td>0.086733</td>\n",
       "      <td>0.204856</td>\n",
       "      <td>0.192392</td>\n",
       "      <td>0.121518</td>\n",
       "      <td>0.243345</td>\n",
       "      <td>0.153266</td>\n",
       "      <td>0.233907</td>\n",
       "      <td>1.000000</td>\n",
       "      <td>0.237598</td>\n",
       "      <td>0.180586</td>\n",
       "      <td>-0.017795</td>\n",
       "      <td>-0.020166</td>\n",
       "    </tr>\n",
       "    <tr>\n",
       "      <th>Inflight service</th>\n",
       "      <td>0.079771</td>\n",
       "      <td>-0.048948</td>\n",
       "      <td>0.057966</td>\n",
       "      <td>0.111062</td>\n",
       "      <td>0.072624</td>\n",
       "      <td>0.034344</td>\n",
       "      <td>0.001578</td>\n",
       "      <td>0.034891</td>\n",
       "      <td>0.075527</td>\n",
       "      <td>0.071122</td>\n",
       "      <td>0.405843</td>\n",
       "      <td>0.551498</td>\n",
       "      <td>0.369005</td>\n",
       "      <td>0.628389</td>\n",
       "      <td>0.237598</td>\n",
       "      <td>1.000000</td>\n",
       "      <td>0.090562</td>\n",
       "      <td>-0.052376</td>\n",
       "      <td>-0.056927</td>\n",
       "    </tr>\n",
       "    <tr>\n",
       "      <th>Cleanliness</th>\n",
       "      <td>0.027865</td>\n",
       "      <td>0.052684</td>\n",
       "      <td>0.093521</td>\n",
       "      <td>0.131513</td>\n",
       "      <td>0.013094</td>\n",
       "      <td>0.014853</td>\n",
       "      <td>-0.005250</td>\n",
       "      <td>0.656454</td>\n",
       "      <td>0.331070</td>\n",
       "      <td>0.677988</td>\n",
       "      <td>0.691729</td>\n",
       "      <td>0.125499</td>\n",
       "      <td>0.097740</td>\n",
       "      <td>0.098555</td>\n",
       "      <td>0.180586</td>\n",
       "      <td>0.090562</td>\n",
       "      <td>1.000000</td>\n",
       "      <td>-0.013835</td>\n",
       "      <td>-0.016186</td>\n",
       "    </tr>\n",
       "    <tr>\n",
       "      <th>Departure Delay in Minutes</th>\n",
       "      <td>-0.019847</td>\n",
       "      <td>-0.009492</td>\n",
       "      <td>0.001517</td>\n",
       "      <td>-0.016213</td>\n",
       "      <td>0.001257</td>\n",
       "      <td>-0.005398</td>\n",
       "      <td>0.007009</td>\n",
       "      <td>-0.031652</td>\n",
       "      <td>-0.017276</td>\n",
       "      <td>-0.027108</td>\n",
       "      <td>-0.028503</td>\n",
       "      <td>-0.031093</td>\n",
       "      <td>0.014723</td>\n",
       "      <td>-0.005124</td>\n",
       "      <td>-0.017795</td>\n",
       "      <td>-0.052376</td>\n",
       "      <td>-0.013835</td>\n",
       "      <td>1.000000</td>\n",
       "      <td>0.965156</td>\n",
       "    </tr>\n",
       "    <tr>\n",
       "      <th>Arrival Delay in Minutes</th>\n",
       "      <td>-0.037604</td>\n",
       "      <td>-0.011283</td>\n",
       "      <td>-0.002838</td>\n",
       "      <td>-0.018254</td>\n",
       "      <td>-0.000484</td>\n",
       "      <td>-0.007521</td>\n",
       "      <td>0.006503</td>\n",
       "      <td>-0.034578</td>\n",
       "      <td>-0.021021</td>\n",
       "      <td>-0.030104</td>\n",
       "      <td>-0.031444</td>\n",
       "      <td>-0.034578</td>\n",
       "      <td>0.012072</td>\n",
       "      <td>-0.007782</td>\n",
       "      <td>-0.020166</td>\n",
       "      <td>-0.056927</td>\n",
       "      <td>-0.016186</td>\n",
       "      <td>0.965156</td>\n",
       "      <td>1.000000</td>\n",
       "    </tr>\n",
       "  </tbody>\n",
       "</table>\n",
       "</div>"
      ],
      "text/plain": [
       "                                         id       Age  Flight Distance  \\\n",
       "id                                 1.000000  0.024276         0.095731   \n",
       "Age                                0.024276  1.000000         0.101150   \n",
       "Flight Distance                    0.095731  0.101150         1.000000   \n",
       "Inflight wifi service             -0.021350  0.017572         0.007187   \n",
       "Departure/Arrival time convenient -0.002577  0.039008        -0.019793   \n",
       "Ease of Online booking             0.013705  0.024927         0.066585   \n",
       "Gate location                     -0.001756 -0.001224         0.004086   \n",
       "Food and drink                     0.002246  0.022470         0.057216   \n",
       "Online boarding                    0.056320  0.207535         0.216355   \n",
       "Seat comfort                       0.056135  0.158939         0.158620   \n",
       "Inflight entertainment             0.005128  0.076808         0.129742   \n",
       "On-board service                   0.055527  0.059467         0.109537   \n",
       "Leg room service                   0.047001  0.042472         0.134848   \n",
       "Baggage handling                   0.077104 -0.046668         0.064242   \n",
       "Checkin service                    0.079611  0.034976         0.073001   \n",
       "Inflight service                   0.079771 -0.048948         0.057966   \n",
       "Cleanliness                        0.027865  0.052684         0.093521   \n",
       "Departure Delay in Minutes        -0.019847 -0.009492         0.001517   \n",
       "Arrival Delay in Minutes          -0.037604 -0.011283        -0.002838   \n",
       "\n",
       "                                   Inflight wifi service  \\\n",
       "id                                             -0.021350   \n",
       "Age                                             0.017572   \n",
       "Flight Distance                                 0.007187   \n",
       "Inflight wifi service                           1.000000   \n",
       "Departure/Arrival time convenient               0.343414   \n",
       "Ease of Online booking                          0.715727   \n",
       "Gate location                                   0.335391   \n",
       "Food and drink                                  0.134076   \n",
       "Online boarding                                 0.456805   \n",
       "Seat comfort                                    0.122673   \n",
       "Inflight entertainment                          0.209171   \n",
       "On-board service                                0.123733   \n",
       "Leg room service                                0.160075   \n",
       "Baggage handling                                0.121764   \n",
       "Checkin service                                 0.043869   \n",
       "Inflight service                                0.111062   \n",
       "Cleanliness                                     0.131513   \n",
       "Departure Delay in Minutes                     -0.016213   \n",
       "Arrival Delay in Minutes                       -0.018254   \n",
       "\n",
       "                                   Departure/Arrival time convenient  \\\n",
       "id                                                         -0.002577   \n",
       "Age                                                         0.039008   \n",
       "Flight Distance                                            -0.019793   \n",
       "Inflight wifi service                                       0.343414   \n",
       "Departure/Arrival time convenient                           1.000000   \n",
       "Ease of Online booking                                      0.437551   \n",
       "Gate location                                               0.445463   \n",
       "Food and drink                                              0.004046   \n",
       "Online boarding                                             0.069607   \n",
       "Seat comfort                                                0.010475   \n",
       "Inflight entertainment                                     -0.005432   \n",
       "On-board service                                            0.068800   \n",
       "Leg room service                                            0.011975   \n",
       "Baggage handling                                            0.071662   \n",
       "Checkin service                                             0.092419   \n",
       "Inflight service                                            0.072624   \n",
       "Cleanliness                                                 0.013094   \n",
       "Departure Delay in Minutes                                  0.001257   \n",
       "Arrival Delay in Minutes                                   -0.000484   \n",
       "\n",
       "                                   Ease of Online booking  Gate location  \\\n",
       "id                                               0.013705      -0.001756   \n",
       "Age                                              0.024927      -0.001224   \n",
       "Flight Distance                                  0.066585       0.004086   \n",
       "Inflight wifi service                            0.715727       0.335391   \n",
       "Departure/Arrival time convenient                0.437551       0.445463   \n",
       "Ease of Online booking                           1.000000       0.459608   \n",
       "Gate location                                    0.459608       1.000000   \n",
       "Food and drink                                   0.030885      -0.002524   \n",
       "Online boarding                                  0.403554       0.000604   \n",
       "Seat comfort                                     0.029723       0.002927   \n",
       "Inflight entertainment                           0.045944       0.002505   \n",
       "On-board service                                 0.039992      -0.028939   \n",
       "Leg room service                                 0.105803      -0.005701   \n",
       "Baggage handling                                 0.038811       0.002054   \n",
       "Checkin service                                  0.010731      -0.036950   \n",
       "Inflight service                                 0.034344       0.001578   \n",
       "Cleanliness                                      0.014853      -0.005250   \n",
       "Departure Delay in Minutes                      -0.005398       0.007009   \n",
       "Arrival Delay in Minutes                        -0.007521       0.006503   \n",
       "\n",
       "                                   Food and drink  Online boarding  \\\n",
       "id                                       0.002246         0.056320   \n",
       "Age                                      0.022470         0.207535   \n",
       "Flight Distance                          0.057216         0.216355   \n",
       "Inflight wifi service                    0.134076         0.456805   \n",
       "Departure/Arrival time convenient        0.004046         0.069607   \n",
       "Ease of Online booking                   0.030885         0.403554   \n",
       "Gate location                           -0.002524         0.000604   \n",
       "Food and drink                           1.000000         0.234091   \n",
       "Online boarding                          0.234091         1.000000   \n",
       "Seat comfort                             0.573868         0.419581   \n",
       "Inflight entertainment                   0.621910         0.285057   \n",
       "On-board service                         0.060877         0.157237   \n",
       "Leg room service                         0.032909         0.123457   \n",
       "Baggage handling                         0.036567         0.084605   \n",
       "Checkin service                          0.086733         0.204856   \n",
       "Inflight service                         0.034891         0.075527   \n",
       "Cleanliness                              0.656454         0.331070   \n",
       "Departure Delay in Minutes              -0.031652        -0.017276   \n",
       "Arrival Delay in Minutes                -0.034578        -0.021021   \n",
       "\n",
       "                                   Seat comfort  Inflight entertainment  \\\n",
       "id                                     0.056135                0.005128   \n",
       "Age                                    0.158939                0.076808   \n",
       "Flight Distance                        0.158620                0.129742   \n",
       "Inflight wifi service                  0.122673                0.209171   \n",
       "Departure/Arrival time convenient      0.010475               -0.005432   \n",
       "Ease of Online booking                 0.029723                0.045944   \n",
       "Gate location                          0.002927                0.002505   \n",
       "Food and drink                         0.573868                0.621910   \n",
       "Online boarding                        0.419581                0.285057   \n",
       "Seat comfort                           1.000000                0.611278   \n",
       "Inflight entertainment                 0.611278                1.000000   \n",
       "On-board service                       0.134838                0.422387   \n",
       "Leg room service                       0.106345                0.300647   \n",
       "Baggage handling                       0.076402                0.380195   \n",
       "Checkin service                        0.192392                0.121518   \n",
       "Inflight service                       0.071122                0.405843   \n",
       "Cleanliness                            0.677988                0.691729   \n",
       "Departure Delay in Minutes            -0.027108               -0.028503   \n",
       "Arrival Delay in Minutes              -0.030104               -0.031444   \n",
       "\n",
       "                                   On-board service  Leg room service  \\\n",
       "id                                         0.055527          0.047001   \n",
       "Age                                        0.059467          0.042472   \n",
       "Flight Distance                            0.109537          0.134848   \n",
       "Inflight wifi service                      0.123733          0.160075   \n",
       "Departure/Arrival time convenient          0.068800          0.011975   \n",
       "Ease of Online booking                     0.039992          0.105803   \n",
       "Gate location                             -0.028939         -0.005701   \n",
       "Food and drink                             0.060877          0.032909   \n",
       "Online boarding                            0.157237          0.123457   \n",
       "Seat comfort                               0.134838          0.106345   \n",
       "Inflight entertainment                     0.422387          0.300647   \n",
       "On-board service                           1.000000          0.356395   \n",
       "Leg room service                           0.356395          1.000000   \n",
       "Baggage handling                           0.518662          0.369787   \n",
       "Checkin service                            0.243345          0.153266   \n",
       "Inflight service                           0.551498          0.369005   \n",
       "Cleanliness                                0.125499          0.097740   \n",
       "Departure Delay in Minutes                -0.031093          0.014723   \n",
       "Arrival Delay in Minutes                  -0.034578          0.012072   \n",
       "\n",
       "                                   Baggage handling  Checkin service  \\\n",
       "id                                         0.077104         0.079611   \n",
       "Age                                       -0.046668         0.034976   \n",
       "Flight Distance                            0.064242         0.073001   \n",
       "Inflight wifi service                      0.121764         0.043869   \n",
       "Departure/Arrival time convenient          0.071662         0.092419   \n",
       "Ease of Online booking                     0.038811         0.010731   \n",
       "Gate location                              0.002054        -0.036950   \n",
       "Food and drink                             0.036567         0.086733   \n",
       "Online boarding                            0.084605         0.204856   \n",
       "Seat comfort                               0.076402         0.192392   \n",
       "Inflight entertainment                     0.380195         0.121518   \n",
       "On-board service                           0.518662         0.243345   \n",
       "Leg room service                           0.369787         0.153266   \n",
       "Baggage handling                           1.000000         0.233907   \n",
       "Checkin service                            0.233907         1.000000   \n",
       "Inflight service                           0.628389         0.237598   \n",
       "Cleanliness                                0.098555         0.180586   \n",
       "Departure Delay in Minutes                -0.005124        -0.017795   \n",
       "Arrival Delay in Minutes                  -0.007782        -0.020166   \n",
       "\n",
       "                                   Inflight service  Cleanliness  \\\n",
       "id                                         0.079771     0.027865   \n",
       "Age                                       -0.048948     0.052684   \n",
       "Flight Distance                            0.057966     0.093521   \n",
       "Inflight wifi service                      0.111062     0.131513   \n",
       "Departure/Arrival time convenient          0.072624     0.013094   \n",
       "Ease of Online booking                     0.034344     0.014853   \n",
       "Gate location                              0.001578    -0.005250   \n",
       "Food and drink                             0.034891     0.656454   \n",
       "Online boarding                            0.075527     0.331070   \n",
       "Seat comfort                               0.071122     0.677988   \n",
       "Inflight entertainment                     0.405843     0.691729   \n",
       "On-board service                           0.551498     0.125499   \n",
       "Leg room service                           0.369005     0.097740   \n",
       "Baggage handling                           0.628389     0.098555   \n",
       "Checkin service                            0.237598     0.180586   \n",
       "Inflight service                           1.000000     0.090562   \n",
       "Cleanliness                                0.090562     1.000000   \n",
       "Departure Delay in Minutes                -0.052376    -0.013835   \n",
       "Arrival Delay in Minutes                  -0.056927    -0.016186   \n",
       "\n",
       "                                   Departure Delay in Minutes  \\\n",
       "id                                                  -0.019847   \n",
       "Age                                                 -0.009492   \n",
       "Flight Distance                                      0.001517   \n",
       "Inflight wifi service                               -0.016213   \n",
       "Departure/Arrival time convenient                    0.001257   \n",
       "Ease of Online booking                              -0.005398   \n",
       "Gate location                                        0.007009   \n",
       "Food and drink                                      -0.031652   \n",
       "Online boarding                                     -0.017276   \n",
       "Seat comfort                                        -0.027108   \n",
       "Inflight entertainment                              -0.028503   \n",
       "On-board service                                    -0.031093   \n",
       "Leg room service                                     0.014723   \n",
       "Baggage handling                                    -0.005124   \n",
       "Checkin service                                     -0.017795   \n",
       "Inflight service                                    -0.052376   \n",
       "Cleanliness                                         -0.013835   \n",
       "Departure Delay in Minutes                           1.000000   \n",
       "Arrival Delay in Minutes                             0.965156   \n",
       "\n",
       "                                   Arrival Delay in Minutes  \n",
       "id                                                -0.037604  \n",
       "Age                                               -0.011283  \n",
       "Flight Distance                                   -0.002838  \n",
       "Inflight wifi service                             -0.018254  \n",
       "Departure/Arrival time convenient                 -0.000484  \n",
       "Ease of Online booking                            -0.007521  \n",
       "Gate location                                      0.006503  \n",
       "Food and drink                                    -0.034578  \n",
       "Online boarding                                   -0.021021  \n",
       "Seat comfort                                      -0.030104  \n",
       "Inflight entertainment                            -0.031444  \n",
       "On-board service                                  -0.034578  \n",
       "Leg room service                                   0.012072  \n",
       "Baggage handling                                  -0.007782  \n",
       "Checkin service                                   -0.020166  \n",
       "Inflight service                                  -0.056927  \n",
       "Cleanliness                                       -0.016186  \n",
       "Departure Delay in Minutes                         0.965156  \n",
       "Arrival Delay in Minutes                           1.000000  "
      ]
     },
     "execution_count": 10,
     "metadata": {},
     "output_type": "execute_result"
    }
   ],
   "source": [
    "df_numerics_var.corr()"
   ]
  },
  {
   "cell_type": "markdown",
   "metadata": {},
   "source": [
    "**P5**"
   ]
  },
  {
   "cell_type": "markdown",
   "metadata": {},
   "source": [
    "Se escogieron las siguientes variables:\n",
    "\n",
    "* *Age*: Se escogió la edad de los pasajeros porque no estaba correlacionada con el resto de las variables, lo que reduce la multicolinealidad y le da más estabilidad a los algoritmos de clustering que se quieran utilizar. \n",
    "\n",
    "* *Flight Distance*: Al igual que con la edad, se escogió esta variable porque no estaba correlacionada con el resto de ellas.\n",
    "\n",
    "* *Online boarding*: Esta se encuentra correlacionada con otras variables, como por ejemplo *Inflight service* y *Ease of Online Booking*, entre otras; por lo que incorporaría de buena manera el resto de las características.\n",
    "\n",
    "* *Seat comfort*: Al igual que *Online boarding*, esta variable se encuentra correlacionada con otras, como por ejempo *Food and drink* y *Inflight entertainment*, incorporando de buena manera estas variables, que no serán consideradas.\n",
    "\n",
    "Las variables que se eliminaron fue porque no contaban con suficiente independencia, como las dos primeras; o porque estaban correlacionadas con una de estas dos últimas."
   ]
  },
  {
   "cell_type": "code",
   "execution_count": 11,
   "metadata": {},
   "outputs": [],
   "source": [
    "df_selected_var = df_numerics_var[['Age', 'Flight Distance', 'Online boarding', 'Seat comfort']]"
   ]
  },
  {
   "cell_type": "markdown",
   "metadata": {
    "cell_id": "4b6c047d994f40ea9e78a36a777042e0",
    "deepnote_cell_type": "markdown",
    "id": "PNGfTgtkrqC9"
   },
   "source": [
    "## 3. Preprocesamiento 🎭"
   ]
  },
  {
   "cell_type": "markdown",
   "metadata": {
    "cell_id": "713b3f0e61dd4841bb5b38c730d344d5",
    "deepnote_cell_type": "markdown",
    "id": "6RZD0fMNrqC-"
   },
   "source": [
    "<center>\n",
    "<img src=\"https://i.pinimg.com/originals/1e/a8/0e/1ea80e7cea0d429146580c7e91c5b944.gif\" width=400>"
   ]
  },
  {
   "cell_type": "markdown",
   "metadata": {
    "cell_id": "98400c7b5fec4af193eec3601f53891e",
    "deepnote_cell_type": "markdown",
    "id": "J6d4VEOTrqC-"
   },
   "source": [
    "Tras quedar satisfecho con los resultados presentados en el punto 2, el dueño de la empresa ha solicitado que se preprocesen los datos mediante un `pipeline`. Es crucial que este proceso tenga en cuenta las observaciones derivadas de los análisis anteriores. Adicionalmente, ha expresado su interés en visualizar el conjunto de datos en un gráfico de dos o tres dimensiones.\n",
    "\n",
    "Basándose en los análisis realizados anteriormente:\n",
    "1. Cree un `pipeline` que incluya PCA, utilizando las consideraciones mencionadas previamente para proyectar los datos a dos dimensiones. [4 puntos]\n",
    "2. Grafique los resultados obtenidos y comente lo visualizado. [6 puntos]"
   ]
  },
  {
   "cell_type": "markdown",
   "metadata": {
    "id": "paDSaGoq0OUp"
   },
   "source": [
    "**Respuestas:**"
   ]
  },
  {
   "cell_type": "markdown",
   "metadata": {},
   "source": [
    "**P1**"
   ]
  },
  {
   "cell_type": "markdown",
   "metadata": {},
   "source": [
    "Para poder crear un pipeline que incluya PCA, se debe aplicar una transformación previa a los datos, que corresponde a un escalamiento, utilizando StandardScaler."
   ]
  },
  {
   "cell_type": "code",
   "execution_count": 12,
   "metadata": {},
   "outputs": [],
   "source": [
    "from sklearn.decomposition import PCA\n",
    "from sklearn.pipeline import Pipeline\n",
    "from sklearn.preprocessing import StandardScaler\n",
    "from sklearn.compose import ColumnTransformer"
   ]
  },
  {
   "cell_type": "code",
   "execution_count": 13,
   "metadata": {},
   "outputs": [],
   "source": [
    "pipeline = Pipeline([\n",
    "    ('scaler', StandardScaler()),\n",
    "    ('pca', PCA(n_components=2))\n",
    "])"
   ]
  },
  {
   "cell_type": "code",
   "execution_count": 14,
   "metadata": {},
   "outputs": [],
   "source": [
    "df_transformed = pipeline.fit_transform(df_selected_var)"
   ]
  },
  {
   "cell_type": "code",
   "execution_count": 15,
   "metadata": {},
   "outputs": [
    {
     "data": {
      "text/plain": [
       "array([[ 0.39868591,  0.79900892],\n",
       "       [ 1.91273605,  0.03011604],\n",
       "       [-1.10375564,  0.65843408],\n",
       "       ...,\n",
       "       [ 0.26235398,  0.97919575],\n",
       "       [ 2.59029791,  0.66302231],\n",
       "       [ 2.17805482,  0.90884966]])"
      ]
     },
     "execution_count": 15,
     "metadata": {},
     "output_type": "execute_result"
    }
   ],
   "source": [
    "df_transformed"
   ]
  },
  {
   "cell_type": "markdown",
   "metadata": {},
   "source": [
    "**P2**"
   ]
  },
  {
   "cell_type": "code",
   "execution_count": 17,
   "metadata": {},
   "outputs": [],
   "source": [
    "fig = px.scatter(x = df_transformed[:, 0], \n",
    "                 y = df_transformed[:, 1],\n",
    "                 labels={'x' : \"Principal Component 1\",\n",
    "                         'y' : \"Principal Component 2\"},\n",
    "                 title = 'Scatter Plot 2D PCA')\n",
    "fig.show()"
   ]
  },
  {
   "cell_type": "markdown",
   "metadata": {},
   "source": [
    "Dada la distribución de la varianza en el gráfico de PCA, donde se tiene que esta centrada en el espacio, puede sugerir que existe cierto grado de correlación entre las variables originales, donde tanto la primera y la segunda componente estan capturando la mayor cantidad de varianza en la data."
   ]
  },
  {
   "cell_type": "markdown",
   "metadata": {
    "cell_id": "bd281470d3054764a63d857cfa7d52a6",
    "deepnote_cell_type": "text-cell-h2",
    "formattedRanges": [],
    "id": "7ENoOtIIrqC_"
   },
   "source": [
    "## 4. Outliers 🚫🙅‍♀️❌🙅‍♂️"
   ]
  },
  {
   "cell_type": "markdown",
   "metadata": {
    "cell_id": "db89e9c9f35c44abbd8991180226c0ea",
    "deepnote_cell_type": "markdown",
    "id": "fbGw6Sa-rqC_"
   },
   "source": [
    "<center>\n",
    "<img src=\"https://joachim-gassen.github.io/images/ani_sim_bad_leverage.gif\" width=250>"
   ]
  },
  {
   "cell_type": "markdown",
   "metadata": {
    "cell_id": "3e2f59fa12954641af7a854a4e203694",
    "deepnote_cell_type": "markdown",
    "id": "nl_ccu9brqDA"
   },
   "source": [
    "Con el objetivo de mantener la claridad en su análisis, Don Sergio le ha solicitado entrenar un modelo que identifique pasajeros con comportamientos altamente atípicos.\n",
    "\n",
    "1. Utilice `IsolationForest` para clasificar las anomalías del dataset, configurando el modelo para que sólo el 1% de los datos sean considerados anómalos. Asegúrese de integrar esta tarea dentro de un `pipeline`. [3 puntos]\n",
    "\n",
    "2. Visualice los resultados en el gráfico de dos dimensiones previamente creado. [3 puntos]\n",
    "\n",
    "3. ¿Cómo evaluaría el rendimiento de su modelo en la detección de anomalías? [4 puntos]"
   ]
  },
  {
   "cell_type": "markdown",
   "metadata": {
    "id": "b5cS1FR00NlF"
   },
   "source": [
    "**Respuestas:**"
   ]
  },
  {
   "cell_type": "markdown",
   "metadata": {},
   "source": [
    "**P1**"
   ]
  },
  {
   "cell_type": "code",
   "execution_count": 18,
   "metadata": {},
   "outputs": [],
   "source": [
    "from sklearn.ensemble import IsolationForest\n",
    "isolation_forest_model = IsolationForest(contamination=0.01)\n",
    "pipeline.steps.append(['isolation_forest', isolation_forest_model])"
   ]
  },
  {
   "cell_type": "code",
   "execution_count": 19,
   "metadata": {},
   "outputs": [
    {
     "data": {
      "text/plain": [
       "Pipeline(steps=[('scaler', StandardScaler()), ('pca', PCA(n_components=2)),\n",
       "                ['isolation_forest', IsolationForest(contamination=0.01)]])"
      ]
     },
     "execution_count": 19,
     "metadata": {},
     "output_type": "execute_result"
    }
   ],
   "source": [
    "pipeline.fit(df_selected_var)"
   ]
  },
  {
   "cell_type": "code",
   "execution_count": 20,
   "metadata": {},
   "outputs": [],
   "source": [
    "anomaly_data = pipeline.named_steps['isolation_forest'].predict(df_transformed)"
   ]
  },
  {
   "cell_type": "code",
   "execution_count": 21,
   "metadata": {},
   "outputs": [],
   "source": [
    "df_transformed_nooutliers = pd.DataFrame(np.column_stack((df_transformed, anomaly_data)))\n",
    "df_transformed_nooutliers = df_transformed_nooutliers[df_transformed_nooutliers[2] == 1]"
   ]
  },
  {
   "cell_type": "markdown",
   "metadata": {},
   "source": [
    "**P2**"
   ]
  },
  {
   "cell_type": "code",
   "execution_count": 23,
   "metadata": {},
   "outputs": [],
   "source": [
    "fig = px.scatter(x = df_transformed_nooutliers[0], \n",
    "                 y = df_transformed_nooutliers[1],\n",
    "                 labels={'x' : \"Principal Component 1\",\n",
    "                         'y' : \"Principal Component 2\"},\n",
    "                 title = 'Scatter Plot 2D PCA')\n",
    "fig.show()"
   ]
  },
  {
   "cell_type": "markdown",
   "metadata": {},
   "source": [
    "**P3**"
   ]
  },
  {
   "cell_type": "markdown",
   "metadata": {},
   "source": [
    "Para evaluar el rendimiento del modelo, con respecto a la detección de anomalías, utilizaría un modelo de clustering como puede ser K-means o GMM, con distintos hiperparámetros, con el fin de ir visualizando los ditintos grupos, antes y después de la eliminación de outliers. De esta manera, se puede utilizar AIC y BIC, para ver cuál de estos genera resultados más consistentes y eficientes."
   ]
  },
  {
   "cell_type": "markdown",
   "metadata": {
    "cell_id": "3871e2fe5bdd422dbdbfaebf75503ae3",
    "deepnote_cell_type": "markdown",
    "id": "zQFTklmVrqDB",
    "tags": []
   },
   "source": [
    "## 5. Métricas de Desempeño 🚀"
   ]
  },
  {
   "cell_type": "markdown",
   "metadata": {
    "cell_id": "236333de6dd445c182aefcc507589325",
    "deepnote_cell_type": "markdown",
    "id": "YpNj4wbPrqDB"
   },
   "source": [
    "<center>\n",
    "<img src=\"https://giffiles.alphacoders.com/219/219081.gif\" width=300>"
   ]
  },
  {
   "cell_type": "markdown",
   "metadata": {},
   "source": [
    "Motivado por incrementar su fortuna, Don Sergio le solicita entrenar un modelo que le permita segmentar a los pasajeros en grupos distintos, con el objetivo de optimizar las diversas campañas de marketing diseñadas por su equipo. Para ello, le se pide realizar las siguientes tareas:\n",
    "\n",
    "1. Utilizar el modelo **Gaussian Mixture** y explore diferentes configuraciones de número de clústers, específicamente entre 3 y 8. Asegúrese de integrar esta operación dentro de un `pipeline`. [4 puntos]\n",
    "2. Explique cuál sería el criterio adecuado para seleccionar el número óptimo de clústers. **Justifique de forma estadistica y a traves de gráficos.** [6 puntos]\n",
    "\n",
    "> **HINT:** Se recomienda investigar sobre los criterios AIC y BIC para esta tarea."
   ]
  },
  {
   "cell_type": "markdown",
   "metadata": {},
   "source": [
    "**Respuestas**"
   ]
  },
  {
   "cell_type": "markdown",
   "metadata": {},
   "source": [
    "**P1**"
   ]
  },
  {
   "cell_type": "code",
   "execution_count": 24,
   "metadata": {},
   "outputs": [
    {
     "name": "stdout",
     "output_type": "stream",
     "text": [
      "N components: {3}\n",
      "aic:  -1429832.4521343845\n",
      "bic:  -1429531.9536702898\n",
      "N components: {4}\n",
      "aic:  -1432072.9201206043\n",
      "bic:  -1431668.801496477\n",
      "N components: {5}\n",
      "aic:  -1435995.9634483894\n",
      "bic:  -1435488.2246642294\n",
      "N components: {6}\n",
      "aic:  -1436606.506676799\n",
      "bic:  -1435995.1477326064\n",
      "N components: {7}\n",
      "aic:  -1437253.5567139848\n",
      "bic:  -1436538.5776097595\n",
      "N components: {8}\n",
      "aic:  -1438239.4788380363\n",
      "bic:  -1437420.8795737785\n"
     ]
    }
   ],
   "source": [
    "labels_fited = []\n",
    "for n_component in range(3,9):\n",
    "    gmm = GaussianMixture(n_components = n_component, random_state=666)\n",
    "    gmm.fit(df_transformed_nooutliers)\n",
    "    gmm_labels = gmm.predict(df_transformed_nooutliers)\n",
    "    labels_fited.append(gmm_labels)\n",
    "    print('N components:', {n_component})\n",
    "    print('aic: ', gmm.aic(df_transformed_nooutliers))\n",
    "    print('bic: ', gmm.bic(df_transformed_nooutliers))"
   ]
  },
  {
   "cell_type": "markdown",
   "metadata": {},
   "source": [
    "**P2**"
   ]
  },
  {
   "cell_type": "markdown",
   "metadata": {},
   "source": [
    "Para la selección optima, se visualizaron los gráficos correspondientes a los clusters generados, considerando entre 3 y 8 componentes, observando en cuales estas se diferenciaban más entre ellos. Además, se calcula el AIC y el BIC de cada modelo. De esta manera, a través del análisis de los gráficos y los valores de AIC, que indica que tan bien se ajusta el modelo a los datos, penalizando la complejidad del modelo; y BIC, que penaliza de igual manera que el AIC, pero no tan fuertemente; se puede determinar un número optimo de componentes a escoger."
   ]
  },
  {
   "cell_type": "code",
   "execution_count": 54,
   "metadata": {},
   "outputs": [
    {
     "name": "stdout",
     "output_type": "stream",
     "text": [
      "N components: {3}\n",
      "aic:  -1430020.827778822\n",
      "bic:  -1429720.328818479\n",
      "N components: {4}\n",
      "aic:  -1433795.1649126494\n",
      "bic:  -1433391.045621154\n",
      "N components: {5}\n",
      "aic:  -1436386.8409507058\n",
      "bic:  -1435879.1013280575\n",
      "N components: {6}\n",
      "aic:  -1436072.012071698\n",
      "bic:  -1435460.652117897\n",
      "N components: {7}\n",
      "aic:  -1437156.7755981546\n",
      "bic:  -1436441.795313201\n",
      "N components: {8}\n",
      "aic:  -1438568.411220782\n",
      "bic:  -1437749.8106046757\n"
     ]
    }
   ],
   "source": [
    "labels_fited = []\n",
    "for n_component in range(3,9):\n",
    "    gmm = GaussianMixture(n_components = n_component, random_state=666)\n",
    "    gmm.fit(df_transformed_nooutliers)\n",
    "    gmm_labels = gmm.predict(df_transformed_nooutliers)\n",
    "    labels_fited.append(gmm_labels)\n",
    "    print('N components:', {n_component})\n",
    "    print('aic: ', gmm.aic(df_transformed_nooutliers))\n",
    "    print('bic: ', gmm.bic(df_transformed_nooutliers))"
   ]
  },
  {
   "cell_type": "code",
   "execution_count": null,
   "metadata": {},
   "outputs": [],
   "source": [
    "for i in range(len(labels_fited)):\n",
    "    fig = px.scatter(x = df_transformed_nooutliers[0], \n",
    "                     y = df_transformed_nooutliers[1],\n",
    "                     labels={'x' : \"Principal Component 1\",\n",
    "                             'y' : \"Principal Component 2\"},\n",
    "                     color = labels_fited[i],\n",
    "                     title = 'Scatter Plot 2D PCA')\n",
    "    fig.show()"
   ]
  },
  {
   "cell_type": "markdown",
   "metadata": {
    "cell_id": "dd342e336254418ba766b29dce16b267",
    "deepnote_cell_type": "markdown",
    "id": "P9CERnaerqDC"
   },
   "source": [
    "## 6. Análisis de resultados 📊"
   ]
  },
  {
   "cell_type": "markdown",
   "metadata": {
    "cell_id": "953b5ad01a704b50b899db7176d1b7b2",
    "deepnote_cell_type": "markdown",
    "id": "I1yNa111rqDC"
   },
   "source": [
    "<center>\n",
    "<img src=\"https://i.gifer.com/7wTk.gif\" width=300>"
   ]
  },
  {
   "cell_type": "markdown",
   "metadata": {
    "cell_id": "fd90e2f135404353ac0b5ab844936ca7",
    "deepnote_cell_type": "markdown",
    "id": "dg0Qx4RZrqDC"
   },
   "source": [
    "Una vez identificado el número óptimo de clústers, se le pide realizar lo siguiente:\n",
    "\n",
    "1. Utilizar la proyección en dos dimensiones para visualizar cada clúster claramente. [2 puntos]\n",
    "\n",
    "2. ¿Es posible distinguir claramente entre los clústers generados? [2 puntos]\n",
    "\n",
    "3. Proporcionar una descripción breve de cada clúster utilizando estadísticas descriptivas básicas, como la media y la desviación estándar, para resumir las características de las variables utilizadas en estos algoritmos. [2 puntos]\n",
    "\n",
    "4. Proceda a visualizar los clústers en tres dimensiones para una perspectiva más detallada. [2 puntos]\n",
    "\n",
    "5. ¿Cómo afecta esto a sus conclusiones anteriores? [2 puntos]"
   ]
  },
  {
   "cell_type": "markdown",
   "metadata": {
    "id": "CRN0zZip0IMB"
   },
   "source": [
    "**Respuestas:**"
   ]
  },
  {
   "cell_type": "markdown",
   "metadata": {},
   "source": [
    "**P1**"
   ]
  },
  {
   "cell_type": "markdown",
   "metadata": {},
   "source": [
    "Se escoge 5 como número óptimo de componentes."
   ]
  },
  {
   "cell_type": "code",
   "execution_count": 26,
   "metadata": {},
   "outputs": [],
   "source": [
    "fig = px.scatter(x = df_transformed_nooutliers[0], \n",
    "                 y = df_transformed_nooutliers[1],\n",
    "                 labels={'x' : \"Principal Component 1\",\n",
    "                         'y' : \"Principal Component 2\"},\n",
    "                 color = labels_fited[2],\n",
    "                 title = 'Scatter Plot 2D PCA')\n",
    "fig.show()"
   ]
  },
  {
   "cell_type": "markdown",
   "metadata": {},
   "source": [
    "**P2**"
   ]
  },
  {
   "cell_type": "markdown",
   "metadata": {},
   "source": [
    "Es posible distinguir los clústers generados. Se escogió esta cantidad, ya que después se genera un clustar al interior de los datos, provocando que puedan existir dificultades en la clasificación al colindar con todas las demás clases."
   ]
  },
  {
   "cell_type": "markdown",
   "metadata": {},
   "source": [
    "**P3**"
   ]
  },
  {
   "cell_type": "markdown",
   "metadata": {},
   "source": [
    "A continuación se entrega una descripción de los clusters detectados:\n",
    "\n",
    "* Cluster 0: Este clúster tiene una media relativamente alta en la primera variable (0.654) y una media baja en la segunda variable (-0.928). Además, la variabilidad en ambas variables es moderada, con desviaciones estándar de aproximadamente 0.51 y 0.49 respectivamente.\n",
    "\n",
    "* Cluster 1: Aquí se observa una media más baja en la primera variable (0.228) en comparación con los otros clústeres, mientras que la media en la segunda variable es relativamente alta (0.638). La variabilidad en este clúster también es moderada, con desviaciones estándar de alrededor de 0.46 y 0.55 respectivamente.\n",
    "\n",
    "* Cluster 2: Este clúster muestra medias bastante bajas en ambas variables (-0.936 y -0.807 respectivamente). La variabilidad en este clúster es similar a la del clúster 1, con desviaciones estándar de aproximadamente 0.46 y 0.56 para las dos variables.\n",
    "\n",
    "* Cluster 3: Tiene una media muy baja en la primera variable (-1.613) y una media más alta en la segunda variable (0.885). La variabilidad en este clúster es algo más alta que en los clústeres anteriores, con desviaciones estándar de alrededor de 0.55 y 0.63 respectivamente.\n",
    "\n",
    "* Cluster 4: Este clúster tiene las medias más altas en ambas variables (1.739 y 0.329 respectivamente). La variabilidad en este clúster es similar a la del clúster 0, con desviaciones estándar de aproximadamente 0.52 y 0.54 respectivamente.\n",
    "\n",
    "En resumen, cada clúster se caracteriza por diferentes niveles de medias y variabilidades en las dos variables utilizadas en el algoritmo de clustering."
   ]
  },
  {
   "cell_type": "code",
   "execution_count": 27,
   "metadata": {},
   "outputs": [],
   "source": [
    "df_transformed_nooutliers['labels'] = labels_fited[2]"
   ]
  },
  {
   "cell_type": "code",
   "execution_count": 28,
   "metadata": {},
   "outputs": [
    {
     "name": "stdout",
     "output_type": "stream",
     "text": [
      "Media de cluster 0: \n",
      "-0.9243486957471282\n",
      "-0.8162486052902673\n",
      "\n",
      "Std de cluster 0: \n",
      "0.46575152986691315\n",
      "0.5601100470707029\n",
      "\n",
      "Media de cluster 1: \n",
      "0.22023654706930643\n",
      "0.6320303652294883\n",
      "\n",
      "Std de cluster 1: \n",
      "0.4500598515009856\n",
      "0.5562138322934128\n",
      "\n",
      "Media de cluster 2: \n",
      "1.7342839164335326\n",
      "0.34049294695979293\n",
      "\n",
      "Std de cluster 2: \n",
      "0.5093669391908348\n",
      "0.5640869474569068\n",
      "\n",
      "Media de cluster 3: \n",
      "-1.6114603847144766\n",
      "0.8617489786997411\n",
      "\n",
      "Std de cluster 3: \n",
      "0.5516402122265771\n",
      "0.6103715387059558\n",
      "\n",
      "Media de cluster 4: \n",
      "0.6633629860454195\n",
      "-0.9347599198458282\n",
      "\n",
      "Std de cluster 4: \n",
      "0.4956905350275535\n",
      "0.49644976554408976\n",
      "\n"
     ]
    }
   ],
   "source": [
    "labels_sorted = df_transformed_nooutliers['labels'].unique()\n",
    "labels_sorted.sort()\n",
    "\n",
    "for i in labels_sorted:\n",
    "    df_subset = df_transformed_nooutliers[df_transformed_nooutliers['labels'] == i]\n",
    "    \n",
    "    print(f'Media de cluster {i}: ')\n",
    "    print(df_subset[[0, 1]].mean()[0])\n",
    "    print(df_subset[[0, 1]].mean()[1])\n",
    "    print()\n",
    "    print(f'Std de cluster {i}: ')\n",
    "    print(df_subset[[0, 1]].std()[0])\n",
    "    print(df_subset[[0, 1]].std()[1])\n",
    "    print()"
   ]
  },
  {
   "cell_type": "markdown",
   "metadata": {},
   "source": [
    "**P4**"
   ]
  },
  {
   "cell_type": "markdown",
   "metadata": {},
   "source": [
    "Para esto, se redefine el pca, con 3 componentes y se integran denuevo los pasos:"
   ]
  },
  {
   "cell_type": "code",
   "execution_count": 29,
   "metadata": {},
   "outputs": [],
   "source": [
    "pipeline = Pipeline([\n",
    "    ('scaler', StandardScaler()),\n",
    "    ('pca', PCA(n_components=3))\n",
    "])"
   ]
  },
  {
   "cell_type": "code",
   "execution_count": 30,
   "metadata": {},
   "outputs": [],
   "source": [
    "df_transformed = pipeline.fit_transform(df_selected_var)"
   ]
  },
  {
   "cell_type": "code",
   "execution_count": 31,
   "metadata": {},
   "outputs": [],
   "source": [
    "isolation_forest_model = IsolationForest(contamination=0.01)\n",
    "pipeline.steps.append(['isolation_forest', isolation_forest_model])"
   ]
  },
  {
   "cell_type": "code",
   "execution_count": 32,
   "metadata": {},
   "outputs": [
    {
     "data": {
      "text/plain": [
       "Pipeline(steps=[('scaler', StandardScaler()), ('pca', PCA(n_components=3)),\n",
       "                ['isolation_forest', IsolationForest(contamination=0.01)]])"
      ]
     },
     "execution_count": 32,
     "metadata": {},
     "output_type": "execute_result"
    }
   ],
   "source": [
    "pipeline.fit(df_transformed)"
   ]
  },
  {
   "cell_type": "code",
   "execution_count": 33,
   "metadata": {},
   "outputs": [],
   "source": [
    "anomaly_data = pipeline.named_steps['isolation_forest'].predict(df_transformed)"
   ]
  },
  {
   "cell_type": "code",
   "execution_count": 34,
   "metadata": {},
   "outputs": [],
   "source": [
    "df_transformed_nooutliers = pd.DataFrame(np.column_stack((df_transformed, anomaly_data)))\n",
    "df_transformed_nooutliers = df_transformed_nooutliers[df_transformed_nooutliers[3] == 1]"
   ]
  },
  {
   "cell_type": "code",
   "execution_count": 35,
   "metadata": {},
   "outputs": [],
   "source": [
    "gmm = GaussianMixture(n_components = 5, random_state=666)\n",
    "gmm.fit(df_transformed_nooutliers)\n",
    "gmm_labels = gmm.predict(df_transformed_nooutliers)"
   ]
  },
  {
   "cell_type": "code",
   "execution_count": 37,
   "metadata": {},
   "outputs": [],
   "source": [
    "fig = px.scatter_3d(x = df_transformed_nooutliers[0], \n",
    "                    y = df_transformed_nooutliers[1],\n",
    "                    z = df_transformed_nooutliers[2],\n",
    "                    labels={'x' : \"Principal Component 1\",\n",
    "                            'y' : \"Principal Component 2\",\n",
    "                            'z' : \"Principal Component 3\"},\n",
    "                    color = gmm_labels,title = 'Scatter Plot 3D PCA')\n",
    "fig.show()"
   ]
  },
  {
   "cell_type": "markdown",
   "metadata": {},
   "source": [
    "**P5**"
   ]
  },
  {
   "cell_type": "markdown",
   "metadata": {},
   "source": [
    "Al observar el gráfico en 3D generado, se observa un cluster que se colinda y se mezcla con otro (cluster 0 con el 3). De esta manera, puede que sea un mejor número de cluster 4, haciendo que este cluster conflictivo pase a formar parte de los otros más cercanos."
   ]
  }
 ],
 "metadata": {
  "colab": {
   "provenance": []
  },
  "deepnote_execution_queue": [],
  "deepnote_notebook_id": "7cb425aec99b4079954fd707109c42c3",
  "deepnote_persisted_session": {
   "createdAt": "2024-04-26T06:15:51.197Z"
  },
  "kernelspec": {
   "display_name": "Python 3",
   "language": "python",
   "name": "python3"
  },
  "language_info": {
   "codemirror_mode": {
    "name": "ipython",
    "version": 3
   },
   "file_extension": ".py",
   "mimetype": "text/x-python",
   "name": "python",
   "nbconvert_exporter": "python",
   "pygments_lexer": "ipython3",
   "version": "3.8.8"
  }
 },
 "nbformat": 4,
 "nbformat_minor": 4
}
