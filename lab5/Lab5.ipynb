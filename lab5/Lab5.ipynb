{
 "cells": [
  {
   "cell_type": "markdown",
   "metadata": {
    "cell_id": "8dd9b572c805487a9fb430fdc4ab12bb",
    "deepnote_cell_height": 156.26666259765625,
    "deepnote_cell_type": "markdown",
    "id": "XUZ1dFPHzAHl"
   },
   "source": [
    "<h1><center>Laboratorio 5: La desperación de Mr. Cheems 🐼</center></h1>\n",
    "\n",
    "<center><strong>MDS7202: Laboratorio de Programación Científica para Ciencia de Datos</strong></center>"
   ]
  },
  {
   "cell_type": "markdown",
   "metadata": {
    "cell_id": "d65413cd8566460dbceffcd13ca236e7",
    "deepnote_cell_type": "markdown",
    "id": "UD8X1uhGzAHq"
   },
   "source": [
    "### Cuerpo Docente:\n",
    "\n",
    "- Profesores: Ignacio Meza, Sebastián Tinoco\n",
    "- Auxiliar: Catherine Benavides\n",
    "- Ayudante: Nicolás Ojeda, Eduardo Moya"
   ]
  },
  {
   "cell_type": "markdown",
   "metadata": {
    "cell_id": "8e9217d02d124830a9b86046600a1605",
    "deepnote_cell_height": 172.13333129882812,
    "deepnote_cell_type": "markdown",
    "id": "tXflExjqzAHr"
   },
   "source": [
    "### Equipo: SUPER IMPORTANTE - notebooks sin nombre no serán revisados\n",
    "\n",
    "- Nombre de alumno 1: Diego Cornejo\n"
   ]
  },
  {
   "cell_type": "markdown",
   "metadata": {
    "cell_id": "010402b6d5f743b885a80d2e1c6ae11a",
    "deepnote_cell_height": 62.19999694824219,
    "deepnote_cell_type": "markdown",
    "id": "AD-V0bbZzAHr"
   },
   "source": [
    "### **Link de repositorio de GitHub:** `https://github.com/diegonachon/mds7202/tree/main/lab5`"
   ]
  },
  {
   "cell_type": "markdown",
   "metadata": {
    "cell_id": "ef0224c7a99e4b718b55493b0a1e99c4",
    "deepnote_cell_height": 724.9000244140625,
    "deepnote_cell_type": "markdown",
    "id": "6uBLPj1PzAHs"
   },
   "source": [
    "## Temas a tratar\n",
    "- Aplicar Pandas para obtener características de un DataFrame.\n",
    "- Aplicar Pipelines y Column Transformers\n",
    "\n",
    "## Reglas:\n",
    "\n",
    "- **Grupos de 2 personas**\n",
    "- Cualquier duda fuera del horario de clases al foro. Mensajes al equipo docente serán respondidos por este medio.\n",
    "- Prohibidas las copias.\n",
    "- Pueden usar cualquer matrial del curso que estimen conveniente.\n",
    "- Código que no se pueda ejecutar, no será revisado.\n",
    "\n",
    "### Objetivos principales del laboratorio\n",
    "- Comprender cómo aplicar pipelines de Scikit-Learn para generar procesos más limpios en Feature Engineering.\n",
    "\n",
    "El laboratorio deberá ser desarrollado sin el uso indiscriminado de iteradores nativos de python (aka \"for\", \"while\"). La idea es que aprendan a exprimir al máximo las funciones optimizadas que nos entrega `numpy`, las cuales vale mencionar, son bastante más eficientes que los iteradores nativos sobre arreglos (*o tensores*)."
   ]
  },
  {
   "cell_type": "markdown",
   "metadata": {
    "cell_id": "59664481c26f4ac4a753765269b1db6a",
    "deepnote_cell_height": 69.86666870117188,
    "deepnote_cell_type": "markdown",
    "id": "wrG4gYabzAHs"
   },
   "source": [
    "## Descripción del laboratorio."
   ]
  },
  {
   "cell_type": "markdown",
   "metadata": {
    "cell_id": "8c7bf8ea553d44c7a2efd61106a0bac2",
    "deepnote_cell_height": 61.866668701171875,
    "deepnote_cell_type": "markdown",
    "id": "MhISwri4zAHy"
   },
   "source": [
    "### Importamos librerias utiles 😸"
   ]
  },
  {
   "cell_type": "markdown",
   "metadata": {},
   "source": [
    "**<span style=\"color:red\">DISCLAIMER </span>**\n",
    "\n",
    "**<span style=\"color:red\">POR TEMAS DE ALMACENAMIENTO, SE COMENTARON LOS GRÁFICOS GENERADOS</span>**\n",
    "\n",
    "**<span style=\"color:red\">(EL NOTEBOOK PESABA MÁS DE 100 MB CON ELLOS Y NO SE PODÍA SUBIR A GITHUB)</span>**"
   ]
  },
  {
   "cell_type": "code",
   "execution_count": 1,
   "metadata": {},
   "outputs": [],
   "source": [
    "# !pip install pandas --upgrade"
   ]
  },
  {
   "cell_type": "code",
   "execution_count": 2,
   "metadata": {
    "ExecuteTime": {
     "end_time": "2021-03-29T00:08:16.884674Z",
     "start_time": "2021-03-29T00:08:16.349846Z"
    },
    "cell_id": "67b4b29f0e6b48719b58d579276f2b19",
    "colab": {
     "base_uri": "https://localhost:8080/"
    },
    "deepnote_cell_height": 514.13330078125,
    "deepnote_cell_type": "code",
    "deepnote_to_be_reexecuted": false,
    "executionInfo": {
     "elapsed": 7340,
     "status": "ok",
     "timestamp": 1619926444128,
     "user": {
      "displayName": "IGNACIO ALEJANDRO MEZA",
      "photoUrl": "",
      "userId": "17011121633069169364"
     },
     "user_tz": 240
    },
    "execution_millis": 8517,
    "execution_start": 1635469788590,
    "id": "uyc33dKdzAHy",
    "outputId": "275fee3c-4ef0-4bfb-acb7-e318d613bdce",
    "source_hash": "a3741fd5"
   },
   "outputs": [
    {
     "name": "stdout",
     "output_type": "stream",
     "text": [
      "Requirement already satisfied: plotly in /opt/conda/lib/python3.8/site-packages (5.21.0)\n",
      "Requirement already satisfied: tenacity>=6.2.0 in /opt/conda/lib/python3.8/site-packages (from plotly) (8.2.3)\n",
      "Requirement already satisfied: packaging in /opt/conda/lib/python3.8/site-packages (from plotly) (20.9)\n",
      "Requirement already satisfied: pyparsing>=2.0.2 in /opt/conda/lib/python3.8/site-packages (from packaging->plotly) (2.4.7)\n"
     ]
    }
   ],
   "source": [
    "# Libreria Core del lab.\n",
    "import numpy as np\n",
    "import pandas as pd\n",
    "import datetime\n",
    "from IPython.display import HTML\n",
    "\n",
    "# Libreria para plotear (En colab esta desactualizado plotly)\n",
    "!pip install --upgrade plotly\n",
    "import plotly.express as px\n",
    "import plotly.graph_objects as go\n",
    "# Librerias utiles\n",
    "from sklearn.base import BaseEstimator, TransformerMixin\n",
    "from sklearn.pipeline import Pipeline\n",
    "from sklearn.compose import ColumnTransformer\n",
    "from sklearn.preprocessing import FunctionTransformer"
   ]
  },
  {
   "cell_type": "code",
   "execution_count": 3,
   "metadata": {
    "cell_id": "ce6a19ec6fc6486e832760ac3740d7ef",
    "deepnote_cell_height": 219.46665954589844,
    "deepnote_cell_type": "code",
    "deepnote_to_be_reexecuted": false,
    "execution_millis": 7,
    "execution_start": 1635165625274,
    "id": "gQ0-zPV4NNrq",
    "outputId": "a7c33afa-37fe-4965-de1a-53b8994c8c07",
    "source_hash": "c60dc4a7"
   },
   "outputs": [
    {
     "name": "stdout",
     "output_type": "stream",
     "text": [
      "Ignorando conexión drive-colab\n"
     ]
    }
   ],
   "source": [
    "# Si usted está utilizando Colabolatory le puede ser útil este código para cargar los archivos.\n",
    "try:\n",
    "    from google.colab import drive\n",
    "    drive.mount(\"/content/drive\")\n",
    "    path = 'Dirección donde tiene los archivos en el Drive'\n",
    "except:\n",
    "    print('Ignorando conexión drive-colab')"
   ]
  },
  {
   "cell_type": "markdown",
   "metadata": {
    "cell_id": "28c7a8b483d84878ac5a4f7ba882b711",
    "deepnote_cell_height": 133.86666870117188,
    "deepnote_cell_type": "markdown",
    "id": "QDwIXTh7bK_A",
    "owner_user_id": "badcc427-fd3d-4615-9296-faa43ec69cfb"
   },
   "source": [
    "# Feature engineering en datos de retail 🛍️"
   ]
  },
  {
   "cell_type": "markdown",
   "metadata": {
    "cell_id": "160bb2695f6547448bfb0f99420f952c",
    "deepnote_cell_height": 69.86666870117188,
    "deepnote_cell_type": "markdown",
    "id": "_Eu4qBqnXMff",
    "tags": []
   },
   "source": [
    "### 0. Cargar Dataset"
   ]
  },
  {
   "cell_type": "markdown",
   "metadata": {
    "cell_id": "6c6799ecc9e74272922d46a3b5a8b79e",
    "deepnote_cell_height": 294.683349609375,
    "deepnote_cell_type": "markdown",
    "id": "4shIzqqwXMfe",
    "tags": []
   },
   "source": [
    "<p align=\"center\">\n",
    "  <img width=300 src=\"https://s1.eestatic.com/2018/04/14/social/la_jungla_-_social_299733421_73842361_854x640.jpg\">\n",
    "</p>"
   ]
  },
  {
   "cell_type": "markdown",
   "metadata": {
    "cell_id": "48d29c89e3b6455083f8fac764f97f3b",
    "deepnote_cell_height": 475.066650390625,
    "deepnote_cell_type": "markdown",
    "id": "cDpKjYRCXMfg",
    "tags": []
   },
   "source": [
    "Mr. Cheems, gerente de una cotizada tienda de retail en Europa, les solicita si pueden analizar los datos de algunas de sus tiendas. En una reunión, Mr Cheems le comenta que la calidad de sus datos no es muy buena, por lo que le solicita a usted que limpie su base de datos y cree nuevos atributos relevantes para el negocio.\n",
    "\n",
    "Por ello, el área de ventas les entrega archivo llamado `online_retail_data.pickle` el cual usted decide cargar a continuación."
   ]
  },
  {
   "cell_type": "code",
   "execution_count": 4,
   "metadata": {},
   "outputs": [
    {
     "data": {
      "text/html": [
       "<div>\n",
       "<style scoped>\n",
       "    .dataframe tbody tr th:only-of-type {\n",
       "        vertical-align: middle;\n",
       "    }\n",
       "\n",
       "    .dataframe tbody tr th {\n",
       "        vertical-align: top;\n",
       "    }\n",
       "\n",
       "    .dataframe thead th {\n",
       "        text-align: right;\n",
       "    }\n",
       "</style>\n",
       "<table border=\"1\" class=\"dataframe\">\n",
       "  <thead>\n",
       "    <tr style=\"text-align: right;\">\n",
       "      <th></th>\n",
       "      <th>Invoice</th>\n",
       "      <th>StockCode</th>\n",
       "      <th>Description</th>\n",
       "      <th>Quantity</th>\n",
       "      <th>InvoiceDate</th>\n",
       "      <th>Price</th>\n",
       "      <th>Customer ID</th>\n",
       "      <th>Country</th>\n",
       "    </tr>\n",
       "  </thead>\n",
       "  <tbody>\n",
       "    <tr>\n",
       "      <th>0</th>\n",
       "      <td>ID489434</td>\n",
       "      <td>85048</td>\n",
       "      <td>15CM CHRISTMAS GLASS BALL 20 LIGHTS</td>\n",
       "      <td>12.0</td>\n",
       "      <td>2009-12-01 07:45:00</td>\n",
       "      <td>6.95</td>\n",
       "      <td>13085.0</td>\n",
       "      <td>United Kingdom</td>\n",
       "    </tr>\n",
       "    <tr>\n",
       "      <th>1</th>\n",
       "      <td>ID489434</td>\n",
       "      <td>79323P</td>\n",
       "      <td>PINK CHERRY LIGHTS</td>\n",
       "      <td>12.0</td>\n",
       "      <td>NaT</td>\n",
       "      <td>6.75</td>\n",
       "      <td>13085.0</td>\n",
       "      <td>United Kingdom</td>\n",
       "    </tr>\n",
       "    <tr>\n",
       "      <th>2</th>\n",
       "      <td>ID489434</td>\n",
       "      <td>79323W</td>\n",
       "      <td>WHITE CHERRY LIGHTS</td>\n",
       "      <td>12.0</td>\n",
       "      <td>2009-12-01 07:45:00</td>\n",
       "      <td>6.75</td>\n",
       "      <td>13085.0</td>\n",
       "      <td>United Kingdom</td>\n",
       "    </tr>\n",
       "    <tr>\n",
       "      <th>3</th>\n",
       "      <td>ID489434</td>\n",
       "      <td>22041</td>\n",
       "      <td>RECORD FRAME 7\" SINGLE SIZE</td>\n",
       "      <td>48.0</td>\n",
       "      <td>2009-12-01 07:45:00</td>\n",
       "      <td>2.10</td>\n",
       "      <td>13085.0</td>\n",
       "      <td>United Kingdom</td>\n",
       "    </tr>\n",
       "    <tr>\n",
       "      <th>4</th>\n",
       "      <td>ID489434</td>\n",
       "      <td>21232</td>\n",
       "      <td>STRAWBERRY CERAMIC TRINKET BOX</td>\n",
       "      <td>24.0</td>\n",
       "      <td>2009-12-01 07:45:00</td>\n",
       "      <td>1.25</td>\n",
       "      <td>13085.0</td>\n",
       "      <td>United Kingdom</td>\n",
       "    </tr>\n",
       "  </tbody>\n",
       "</table>\n",
       "</div>"
      ],
      "text/plain": [
       "    Invoice StockCode                          Description  Quantity  \\\n",
       "0  ID489434     85048  15CM CHRISTMAS GLASS BALL 20 LIGHTS      12.0   \n",
       "1  ID489434    79323P                   PINK CHERRY LIGHTS      12.0   \n",
       "2  ID489434    79323W                  WHITE CHERRY LIGHTS      12.0   \n",
       "3  ID489434     22041         RECORD FRAME 7\" SINGLE SIZE       48.0   \n",
       "4  ID489434     21232       STRAWBERRY CERAMIC TRINKET BOX      24.0   \n",
       "\n",
       "          InvoiceDate  Price Customer ID         Country  \n",
       "0 2009-12-01 07:45:00   6.95     13085.0  United Kingdom  \n",
       "1                 NaT   6.75     13085.0  United Kingdom  \n",
       "2 2009-12-01 07:45:00   6.75     13085.0  United Kingdom  \n",
       "3 2009-12-01 07:45:00   2.10     13085.0  United Kingdom  \n",
       "4 2009-12-01 07:45:00   1.25     13085.0  United Kingdom  "
      ]
     },
     "execution_count": 4,
     "metadata": {},
     "output_type": "execute_result"
    }
   ],
   "source": [
    "df_retail = pd.read_pickle('online_retail_data.pickle')\n",
    "df_retail.head(5)"
   ]
  },
  {
   "cell_type": "markdown",
   "metadata": {
    "id": "Q6nm_0uWvrFv"
   },
   "source": [
    "### 1. Función para explorar características [5 puntos]"
   ]
  },
  {
   "cell_type": "markdown",
   "metadata": {
    "id": "KOZEZbbLoqfI"
   },
   "source": [
    "<p align=\"center\">\n",
    "  <img width=300 src=\"https://editor.analyticsvidhya.com/uploads/47389meme.png\">\n",
    "</p>\n"
   ]
  },
  {
   "cell_type": "markdown",
   "metadata": {
    "id": "J-7ZaNutk2GO"
   },
   "source": [
    "\n",
    "\n",
    "Tras inspeccionar brevemente los datos proporcionados, usted decide crear una función que realice lo siguiente:\n",
    "- Plotee un histograma para las variables precios y cantidad. [3 puntos]\n",
    "- Imprima un conteo de datos nulos por variable [2 puntos]\n",
    "\n",
    "NOTA: Para generar los gráficos es **OBLIGATORIO** el uso de plotly."
   ]
  },
  {
   "cell_type": "markdown",
   "metadata": {
    "id": "TM8FZ_4Yuiwi"
   },
   "source": [
    "**Respuesta:**"
   ]
  },
  {
   "cell_type": "code",
   "execution_count": 5,
   "metadata": {
    "id": "uDqT1Ljpk7vp"
   },
   "outputs": [],
   "source": [
    "import plotly.express as px\n",
    "\n",
    "def explore_data(dataframe_in):\n",
    "    # Price histogram\n",
    "    fig1 = px.histogram(dataframe_in, x = \"Price\", title = 'Price Histogram')\n",
    "    fig1.show()\n",
    "\n",
    "    # Quantity histogram\n",
    "    fig2 = px.histogram(dataframe_in, x='Quantity', title='Quantity Histogram')\n",
    "    fig2.show()\n",
    "    \n",
    "    # Nulls per column\n",
    "    null_counts = dataframe_in.isnull().sum()\n",
    "    print(\"Null values per column\")\n",
    "    print(null_counts)"
   ]
  },
  {
   "cell_type": "code",
   "execution_count": 1,
   "metadata": {},
   "outputs": [],
   "source": [
    "explore_data(df_retail)"
   ]
  },
  {
   "cell_type": "markdown",
   "metadata": {
    "id": "F4ZY_N0Ad1GP"
   },
   "source": [
    "### 2. Eliminando outliers [10 puntos]"
   ]
  },
  {
   "cell_type": "markdown",
   "metadata": {
    "id": "yXTpIi1Bo2KG"
   },
   "source": [
    "<p align=\"center\">\n",
    "  <img width=300 src=\"https://media.licdn.com/dms/image/C5612AQGdXKCka7HumA/article-cover_image-shrink_600_2000/0/1520056407281?e=2147483647&v=beta&t=VZcfjjzjK4LxXdZkSu1KisWC0Ry8bk4tPCn3R8aYdNM\">\n",
    "</p>\n",
    "\n",
    "\n"
   ]
  },
  {
   "cell_type": "markdown",
   "metadata": {
    "id": "ECqH4t-Jvj05"
   },
   "source": [
    "#### 2.1 Creando la clase IQR [5 puntos]"
   ]
  },
  {
   "cell_type": "markdown",
   "metadata": {
    "id": "GtCQGHN_mzEp"
   },
   "source": [
    "Entre las falencias de los datos, Mr. Cheems le comenta que a veces los operadores no ingresan el precio correcto de los productos. Mr. Cheems le comenta que se dio cuenta de este fenómeno porque hay productos con precios exagerádamente altos o bajos. Por lo cual usted decide eliminar outliers del dataframe a traves del rango intercuartil el cual cuenta con los siguientes pasos:\n",
    "\n",
    "1. Calcular el primer cuartil $Q1$ y el tercer cuartil $Q3$. Hint: utilice el método `quantile()`\n",
    "\n",
    "2. Calcular el rango intercuartil (RIC): $RIC = Q3 - Q1$\n",
    "\n",
    "3. Calcular los límites para identificar outliers:\n",
    " - Límite inferior: $~~Q1 - \\lambda \\cdot RIC$\n",
    " - Límite superior: $~~Q3 + \\lambda \\cdot RIC$\n",
    "\n",
    "4. Eliminar outliers: Los outliers son los datos que están por debajo del límite inferior o por encima del límite superior.\n",
    "\n",
    "\n",
    "Para realizar dicha tarea, usted decide crear una clase llamada `IQR()` utilizando `BaseEstimator` y `TransformerMixin` para realizar una transformación de cada una de las columnas numéricas del DataFrame utilizando `ColumnTransformer()` más tarde. Considere que lambda debe ser $\\lambda$ un parámetro a definir por el usuario.\n",
    "\n",
    "Hint: tome como referencia el siguiente [enlace](https://sklearn-template.readthedocs.io/en/latest/user_guide.html#transformer)."
   ]
  },
  {
   "cell_type": "markdown",
   "metadata": {
    "id": "3uqK6AZnuhmL"
   },
   "source": [
    "**Respuesta:**"
   ]
  },
  {
   "cell_type": "code",
   "execution_count": 7,
   "metadata": {},
   "outputs": [],
   "source": [
    "class IQR(BaseEstimator, TransformerMixin):\n",
    "    def __init__(self, lambda_value = 1):\n",
    "        self.lambda_value = lambda_value\n",
    "        self.numeric_features = None\n",
    "        self.lower_bound = None\n",
    "        self.upper_bound = None\n",
    "    \n",
    "    def fit(self, X, y=None):\n",
    "        self.numeric_features = X.select_dtypes(include=['int', 'float']).columns\n",
    "        Q1 = X[self.numeric_features].quantile(0.25)\n",
    "        Q3 = X[self.numeric_features].quantile(0.75)\n",
    "        IQR = Q3 - Q1\n",
    "        self.lower_bound = Q1 - self.lambda_value * IQR\n",
    "        self.upper_bound = Q3 + self.lambda_value * IQR\n",
    "        return self\n",
    "    \n",
    "    def transform(self, X, y=None):\n",
    "        X_copy = X.copy()\n",
    "        \n",
    "        \n",
    "        for col in self.numeric_features:\n",
    "            X_copy[(X_copy[col] <= self.lower_bound[col]) | (X_copy[col] >= self.upper_bound[col])] = np.nan\n",
    "            \n",
    "        return X_copy"
   ]
  },
  {
   "cell_type": "markdown",
   "metadata": {
    "id": "Pse94ohOm1um"
   },
   "source": [
    "#### 2.2 Creación del Pipeline [5 puntos]"
   ]
  },
  {
   "cell_type": "markdown",
   "metadata": {
    "id": "JVWWiGA5m_Hj"
   },
   "source": [
    "Para comenzar introduciéndose en el uso de pipeline, usted decide definir un pipeline con el Transformer previamente definido. Además, usted decide visualizar cómo cambia la distribución de las variables Precio y Cantidad antes y despues de aplicar IQR. Para ello, usted aplica los siguientes pasos:\n",
    "\n",
    "- Definir un pipeline llamado `numeric_transformations` para las variables precio y cantidad con la transformación IQR. [1 punto]\n",
    "- Defina un column transformer que aplique `numeric_transformations` para las variables numéricas y `passthrough` para las variables categóricas. Ver hint al final. [1 puntos]\n",
    "- Defina el dataframe `df_iqr` aplicado el column transformer a los datos proporcionados por Mr. Cheems considerando un valor de $\\lambda$ que tenga un desempeño aceptable para ambas variables. [1 punto]\n",
    "- Usar `explore_data` en `df_retail` y en `df_iqr`.  [1 punto]\n",
    "- Reportar los cambios observados en la distribución de las variables. ¿Qué sucede al aumentar el valor de lambda? [1 punto]\n",
    "\n",
    "\n",
    "HINT: El transformador 'passthrough' está predefinido y es una opción que puedes usar para las columnas que no deseas transformar. Al especificar 'passthrough' para una parte de tu ColumnTransformer, las columnas correspondientes pasarán a través del ColumnTransformer sin ninguna modificación."
   ]
  },
  {
   "cell_type": "markdown",
   "metadata": {
    "id": "vkeizZcLuabD"
   },
   "source": [
    "**Respuesta:**"
   ]
  },
  {
   "cell_type": "markdown",
   "metadata": {
    "id": "LF24vWb4GwLo"
   },
   "source": [
    "Apóyese de la siguiente estructura para su respuesta:"
   ]
  },
  {
   "cell_type": "code",
   "execution_count": 3,
   "metadata": {
    "id": "ZaSuz2NSn7g6"
   },
   "outputs": [],
   "source": [
    "numerical_columns = ['Price', 'Quantity']\n",
    "categorical_columns = ['Invoice', 'StockCode', 'Description', 'InvoiceDate','Customer ID', 'Country']\n",
    "\n",
    "numeric_transformations = Pipeline([('iqr', IQR(lambda_value = 3))])\n",
    "\n",
    "column_transformer = ColumnTransformer([('numerical', numeric_transformations, numerical_columns),\n",
    "                                        ('categorical', 'passthrough', categorical_columns)\n",
    "                                        ])\n",
    "\n",
    "df_iqr = pd.DataFrame(column_transformer.fit_transform(df_retail), \n",
    "             columns = ['Price', 'Quantity', 'Invoice', 'StockCode', \n",
    "                        'Description', 'InvoiceDate','Customer ID', 'Country'])\n",
    "\n",
    "# explore_data(df_retail)\n",
    "# explore_data(df_iqr)"
   ]
  },
  {
   "cell_type": "markdown",
   "metadata": {},
   "source": [
    "A partir del valor de lambda, se van eliminando aquellos valores atípicos de las variables, tanto en *Price* como en *Quantity*, haciendo posible observar de mejor manera la distribución que tienen. Así, mientras más alto sea lambda, se tiene que se consideran como posibles más valores atípicos, por lo que se consideran más datos en comparación a un lambda pequeño, que será más estricto en cuanto a los outliers existentes."
   ]
  },
  {
   "cell_type": "markdown",
   "metadata": {
    "id": "MF5s4dqMYCbJ"
   },
   "source": [
    "### 3. Agregando un imputer al pipeline [10 puntos]\n",
    "\n"
   ]
  },
  {
   "cell_type": "markdown",
   "metadata": {
    "id": "2Bc9fFeXp-At"
   },
   "source": [
    "<p align=\"center\">\n",
    "  <img width=300 src=\"https://media.makeameme.org/created/hmm-there-is.jpg\">\n",
    "</p>"
   ]
  },
  {
   "cell_type": "markdown",
   "metadata": {
    "id": "uugEdc26vJ5N"
   },
   "source": [
    "Para continuar con la limpieza del dataframe usted decide imputar los datos nulos de las variables numéricas, para lo cual decide realizar las siguientes tareas:\n",
    "\n",
    "1. Crear un pipeline para variables categóricas llamado `categoric_transformations` con un paso llamado `mode_imputer`, en el cual se imputen los datos faltantes por la moda [link](https://scikit-learn.org/stable/modules/generated/sklearn.impute.SimpleImputer.html) [1 punto]\n",
    "2. Agregar al pipeline `numeric_transformations` un paso llamado `mean_imputer`, en el cual se imputen los datos por la media [link](https://scikit-learn.org/stable/modules/generated/sklearn.impute.SimpleImputer.html) [1 punto]\n",
    "3. Aplicar el ColumnTransformer actualizado a `df_retail`, creando un dataframe llamado `df_mean_imputer`. [1 punto]\n",
    "4. Comparar los resultados de `explore_data` en `df_mean_imputer` y `df_iqr`. ¿Qué diferencias observa en la distribución de los datos? [2 puntos]\n",
    "5. Cambiar el imputer de `numeric_transformations` por `knn_imputer` [link](https://scikit-learn.org/stable/modules/generated/sklearn.impute.KNNImputer.html) y definir un nuevo dataframe llamado `df_knn_imputer`, aplicando el nuevo ColumnTransformer a `df_retail`. [1 punto]\n",
    "6. Comprar los resultados de `explore_data` en `df_knn_imputer` y `df_iqr`. ¿Qué diferencias observa en la distribución de los datos? [2 puntos]\n",
    "7. Comprar los resultados de `explore_data` en `df_knn_imputer` y `df_mean_imputer`. ¿Cuál método de imputación es mejor? Deje el método escogido en el ColumnTransformer. [2 puntos]"
   ]
  },
  {
   "cell_type": "markdown",
   "metadata": {
    "id": "ACVUdZZxuo4o"
   },
   "source": [
    "**Respuesta:**"
   ]
  },
  {
   "cell_type": "code",
   "execution_count": 9,
   "metadata": {},
   "outputs": [],
   "source": [
    "from sklearn.impute import SimpleImputer"
   ]
  },
  {
   "cell_type": "markdown",
   "metadata": {},
   "source": [
    "**P1**"
   ]
  },
  {
   "cell_type": "code",
   "execution_count": 10,
   "metadata": {},
   "outputs": [],
   "source": [
    "categoric_transformations = Pipeline([('mode_imputer', SimpleImputer(strategy='most_frequent'))])\n"
   ]
  },
  {
   "cell_type": "markdown",
   "metadata": {},
   "source": [
    "**P2**"
   ]
  },
  {
   "cell_type": "code",
   "execution_count": 11,
   "metadata": {},
   "outputs": [],
   "source": [
    "numeric_transformations.steps.append(('mean_imputer', SimpleImputer(strategy='mean')))\n"
   ]
  },
  {
   "cell_type": "markdown",
   "metadata": {},
   "source": [
    "**P3**"
   ]
  },
  {
   "cell_type": "code",
   "execution_count": 12,
   "metadata": {},
   "outputs": [],
   "source": [
    "column_transformer = ColumnTransformer([('numeric', numeric_transformations, numerical_columns),\n",
    "                                        ('categorical', categoric_transformations, categorical_columns)\n",
    "                                       ])\n",
    "\n",
    "df_mean_imputer = pd.DataFrame(column_transformer.fit_transform(df_retail), \n",
    "                               columns = ['Price', 'Quantity', 'Invoice', 'StockCode', \n",
    "                                          'Description', 'InvoiceDate','Customer ID', 'Country'])"
   ]
  },
  {
   "cell_type": "markdown",
   "metadata": {},
   "source": [
    "**P4**"
   ]
  },
  {
   "cell_type": "code",
   "execution_count": 4,
   "metadata": {},
   "outputs": [],
   "source": [
    "explore_data(df_iqr)\n",
    "explore_data(df_mean_imputer)"
   ]
  },
  {
   "cell_type": "markdown",
   "metadata": {},
   "source": [
    "Las principal diferencia en ambas variables se observa en el aumento de un valor en específico (una barra) en los gráficos con la imputación de la media de las variables. En el caso de *Price*, se tiene que aumentan los valores entre 2,73 y 2,79; mientras que en *Quantity* es 7,49. Por otro lado, se tiene que ya no hay valores nulos en ninguna columna."
   ]
  },
  {
   "cell_type": "markdown",
   "metadata": {},
   "source": [
    "**P5**"
   ]
  },
  {
   "cell_type": "code",
   "execution_count": 14,
   "metadata": {},
   "outputs": [],
   "source": [
    "from sklearn.impute import KNNImputer\n",
    "\n",
    "numeric_transformations.steps[-1] = ('knn_imputer', KNNImputer())\n",
    "\n",
    "df_knn_imputer = pd.DataFrame(column_transformer.fit_transform(df_retail), \n",
    "                              columns = ['Price', 'Quantity', 'Invoice', 'StockCode', \n",
    "                                         'Description', 'InvoiceDate','Customer ID', 'Country'])"
   ]
  },
  {
   "cell_type": "markdown",
   "metadata": {},
   "source": [
    "**P6**"
   ]
  },
  {
   "cell_type": "code",
   "execution_count": 5,
   "metadata": {},
   "outputs": [],
   "source": [
    "explore_data(df_iqr)\n",
    "explore_data(df_knn_imputer)"
   ]
  },
  {
   "cell_type": "markdown",
   "metadata": {},
   "source": [
    "Se observa que en el caso del knn imputer, existen más barras que en el mean, tanto en la variable *Price*, como en la variable *Quantity*. Esto se debe a que la imputación se basa en los vecinos más cercanos (y no solamente con la media, como se hace en el caso anterior)."
   ]
  },
  {
   "cell_type": "markdown",
   "metadata": {},
   "source": [
    "**P7**"
   ]
  },
  {
   "cell_type": "markdown",
   "metadata": {
    "id": "x8jgag-EYFai"
   },
   "source": [
    "El método de imputación que es mejor corresponde al KNN, ya que el algoritmo considera las demás variables para la estimación, por lo que corresponderían a valores *''más realistas''*."
   ]
  },
  {
   "cell_type": "markdown",
   "metadata": {
    "id": "buuUiW-9YYZ3"
   },
   "source": [
    "### 4. Creación de nuevas features [20 puntos]"
   ]
  },
  {
   "cell_type": "markdown",
   "metadata": {
    "id": "RQSuoL5mubnA"
   },
   "source": [
    "<p align=\"center\">\n",
    "  <img width=250 src=\"https://miro.medium.com/max/1000/1*JtTWgAcfVTWV8OTjT47Atg.jpeg\">\n",
    "</p>\n"
   ]
  },
  {
   "cell_type": "markdown",
   "metadata": {
    "id": "4-yHP5oIvzFS"
   },
   "source": [
    "#### 4.1 Definicion de LRMFP [10 puntos]\n",
    "(3 puntos por cada custom feature)"
   ]
  },
  {
   "cell_type": "markdown",
   "metadata": {
    "id": "qe0V2CnZY8Bc"
   },
   "source": [
    "Dado que Mr. Lepin está interesado en obtener nuevos atributos relevantes para su negocio, su equipo de expertos sugiere la construcción de variables **LRMFP**, las que se construyen en base a las siguientes definiciones:\n",
    "\n",
    "- **Length (L)**: Intervalo de tiempo, en días, entre la primera y la última visita del cliente. Mientras mas grande sea el valor, mas fiel es el cliente.\n",
    "\n",
    "- **Recency (R)**: Indica hace cuanto tiempo el cliente realizo su ultima compra. Notar que para este caso, mientras mas grande es el valor, menos interes posee el usuario para repetir una compra en uno de los locales.\n",
    "\n",
    "- **Monetary (M)**: El término \"monetario\" se refiere a la cantidad media de dinero gastada por cada visita del cliente durante el período de observación y refleja la contribución del cliente a los ingresos de la empresa.\n",
    "\n",
    "- **Frequency (F)**: Se refiere al número total de visitas del cliente durante el periodo de observación. Cuanto mayor sea la frecuencia, mayor será la fidelidad del cliente.\n",
    "\n",
    "- **Periodicity (P)**: Representa si los clientes visitan las tiendas con regularidad.\n",
    "\n",
    "$$Periodicity(n)=std(IVT_1, ..., IVT_n)$$\n",
    "\n",
    "Donde $IVT$ denota el tiempo entre visitas y n representa el número de valores de tiempo entre visitas de un cliente.\n",
    "\n",
    "\n",
    "$$IVT_i=date\\_diff(t_{i+1},t)$$\n",
    "\n",
    "En base a las definiciones señaladas, diseñe una función que permita obtener las características **LRMFP** recibiendo un DataFrame como entrada. Para esto, no estará permitido el uso de iteradores, utilice todas las herramientas que les ofrece `pandas` para realizar esto.\n",
    "\n",
    "Una referencia que le puede ser útil es el [documento original](https://www.researchgate.net/publication/315979555_LRFMP_model_for_customer_segmentation_in_the_grocery_retail_industry_a_case_study) en donde se propone este método."
   ]
  },
  {
   "cell_type": "markdown",
   "metadata": {
    "cell_id": "bee8d549c7c043a5b0cafae0543afadf",
    "deepnote_cell_height": 212.6666717529297,
    "deepnote_cell_type": "markdown",
    "id": "L7ZwWJxhXMfk",
    "tags": []
   },
   "source": [
    "**<u>Formato</u> del Resultado Esperado:**\n",
    "\n",
    "| Customer ID | Length | Recency | Frequency | Monetary | Periodicity |\n",
    "|------------:|-------:|--------:|----------:|---------:|------------:|\n",
    "|   12346.0   |    294 |      67 |        46 |   -64.68 |        37.0 |\n",
    "|   12347.0   |     37 |       3 |        71 |  1323.32 |         0.0 |\n",
    "|   12349.0   |    327 |      43 |       107 |  2646.99 |        78.0 |\n",
    "|   12352.0   |     16 |      11 |        18 |   343.80 |         0.0 |\n",
    "|   12356.0   |     44 |      16 |        84 |  3562.25 |        12.0 |"
   ]
  },
  {
   "cell_type": "markdown",
   "metadata": {
    "cell_id": "3c7f8a4a06a44cbd8d50e8a4decf4c71",
    "deepnote_cell_height": 52.26666259765625,
    "deepnote_cell_type": "markdown",
    "id": "6GaQZaMXXMfk",
    "tags": []
   },
   "source": [
    "**Respuesta:**"
   ]
  },
  {
   "cell_type": "code",
   "execution_count": 16,
   "metadata": {
    "cell_id": "39a8b98eacdc43a4bdfeaa138b746198",
    "deepnote_cell_height": 83.86666870117188,
    "deepnote_cell_type": "code",
    "id": "VsgqgqsjXMfl",
    "owner_user_id": "8c58f50a-7a08-41a2-952e-38bdb7507048",
    "tags": []
   },
   "outputs": [],
   "source": [
    "def custom_features(dataframe_in):\n",
    "    \n",
    "    # Customer ID\n",
    "    customers = list(df_retail['Customer ID'].unique().sort_values())\n",
    "    \n",
    "    # Lenght\n",
    "    length = dataframe_in.groupby('Customer ID')['InvoiceDate']\\\n",
    "                            .apply(lambda x: (x.max() - x.min()).days).sort_index()\n",
    "    \n",
    "    # Recency\n",
    "    recency = dataframe_in.groupby('Customer ID')['InvoiceDate'].max()\\\n",
    "                            .apply(lambda x: (datetime.datetime.now() - x).days).sort_index()\n",
    "    \n",
    "    # Monetary\n",
    "    dataframe_in['Quantity_Price'] = dataframe_in['Quantity'] * dataframe_in['Price']\n",
    "    total_purchases = dataframe_in.groupby('Customer ID')['Quantity_Price'].sum()\n",
    "    total_sessions  = dataframe_in.groupby('Customer ID')['Invoice'].nunique()\n",
    "    monetary = (total_purchases/total_sessions).sort_index()\n",
    "    \n",
    "    # Frecuency\n",
    "    frecuency = total_sessions.copy().sort_index()\n",
    "    \n",
    "    # Periodicity\n",
    "    df_unique = dataframe_in.sort_values(by=['Customer ID', 'InvoiceDate'])\\\n",
    "                                .drop_duplicates(subset = ['Customer ID', 'Invoice'])\n",
    "    df_unique['IVT'] = df_unique.groupby('Customer ID')['InvoiceDate'].diff()\n",
    "    df_unique['Customer ID'] = df_unique['Customer ID'].shift(-1)\n",
    "    df_unique['Invoice'] = df_unique['Invoice'].shift(-1)\n",
    "    periodicity = df_unique.groupby('Customer ID')['IVT'].std().sort_index()\n",
    "    periodicity = periodicity.apply(lambda x: x.days).fillna(0)\n",
    "    \n",
    "    \n",
    "    df_lrmfp = pd.DataFrame()\n",
    "    df_lrmfp['Customer ID'] = customers\n",
    "    df_lrmfp['Length'] = length.values\n",
    "    df_lrmfp['Recency'] = recency.values\n",
    "    df_lrmfp['Monetary'] = monetary.values\n",
    "    df_lrmfp['Frecuency'] = frecuency.values\n",
    "    df_lrmfp['Periodicity'] = periodicity.values\n",
    "    df_lrmfp = df_lrmfp.reset_index(drop = True)\n",
    "    \n",
    "    return df_lrmfp"
   ]
  },
  {
   "cell_type": "code",
   "execution_count": 17,
   "metadata": {},
   "outputs": [
    {
     "data": {
      "text/html": [
       "<div>\n",
       "<style scoped>\n",
       "    .dataframe tbody tr th:only-of-type {\n",
       "        vertical-align: middle;\n",
       "    }\n",
       "\n",
       "    .dataframe tbody tr th {\n",
       "        vertical-align: top;\n",
       "    }\n",
       "\n",
       "    .dataframe thead th {\n",
       "        text-align: right;\n",
       "    }\n",
       "</style>\n",
       "<table border=\"1\" class=\"dataframe\">\n",
       "  <thead>\n",
       "    <tr style=\"text-align: right;\">\n",
       "      <th></th>\n",
       "      <th>Customer ID</th>\n",
       "      <th>Length</th>\n",
       "      <th>Recency</th>\n",
       "      <th>Monetary</th>\n",
       "      <th>Frecuency</th>\n",
       "      <th>Periodicity</th>\n",
       "    </tr>\n",
       "  </thead>\n",
       "  <tbody>\n",
       "    <tr>\n",
       "      <th>0</th>\n",
       "      <td>12346.0</td>\n",
       "      <td>196.0</td>\n",
       "      <td>5052.0</td>\n",
       "      <td>33.896364</td>\n",
       "      <td>11</td>\n",
       "      <td>12.0</td>\n",
       "    </tr>\n",
       "    <tr>\n",
       "      <th>1</th>\n",
       "      <td>12347.0</td>\n",
       "      <td>37.0</td>\n",
       "      <td>4890.0</td>\n",
       "      <td>628.935000</td>\n",
       "      <td>2</td>\n",
       "      <td>0.0</td>\n",
       "    </tr>\n",
       "    <tr>\n",
       "      <th>2</th>\n",
       "      <td>12348.0</td>\n",
       "      <td>0.0</td>\n",
       "      <td>4961.0</td>\n",
       "      <td>222.160000</td>\n",
       "      <td>1</td>\n",
       "      <td>0.0</td>\n",
       "    </tr>\n",
       "    <tr>\n",
       "      <th>3</th>\n",
       "      <td>12349.0</td>\n",
       "      <td>181.0</td>\n",
       "      <td>4930.0</td>\n",
       "      <td>882.130000</td>\n",
       "      <td>3</td>\n",
       "      <td>0.0</td>\n",
       "    </tr>\n",
       "    <tr>\n",
       "      <th>4</th>\n",
       "      <td>12351.0</td>\n",
       "      <td>0.0</td>\n",
       "      <td>4898.0</td>\n",
       "      <td>300.930000</td>\n",
       "      <td>1</td>\n",
       "      <td>0.0</td>\n",
       "    </tr>\n",
       "    <tr>\n",
       "      <th>...</th>\n",
       "      <td>...</td>\n",
       "      <td>...</td>\n",
       "      <td>...</td>\n",
       "      <td>...</td>\n",
       "      <td>...</td>\n",
       "      <td>...</td>\n",
       "    </tr>\n",
       "    <tr>\n",
       "      <th>4309</th>\n",
       "      <td>18283.0</td>\n",
       "      <td>275.0</td>\n",
       "      <td>4905.0</td>\n",
       "      <td>101.836667</td>\n",
       "      <td>6</td>\n",
       "      <td>62.0</td>\n",
       "    </tr>\n",
       "    <tr>\n",
       "      <th>4310</th>\n",
       "      <td>18284.0</td>\n",
       "      <td>0.0</td>\n",
       "      <td>4954.0</td>\n",
       "      <td>431.080000</td>\n",
       "      <td>1</td>\n",
       "      <td>0.0</td>\n",
       "    </tr>\n",
       "    <tr>\n",
       "      <th>4311</th>\n",
       "      <td>18285.0</td>\n",
       "      <td>0.0</td>\n",
       "      <td>5183.0</td>\n",
       "      <td>427.000000</td>\n",
       "      <td>1</td>\n",
       "      <td>0.0</td>\n",
       "    </tr>\n",
       "    <tr>\n",
       "      <th>4312</th>\n",
       "      <td>18286.0</td>\n",
       "      <td>247.0</td>\n",
       "      <td>4999.0</td>\n",
       "      <td>585.675000</td>\n",
       "      <td>2</td>\n",
       "      <td>0.0</td>\n",
       "    </tr>\n",
       "    <tr>\n",
       "      <th>4313</th>\n",
       "      <td>18287.0</td>\n",
       "      <td>188.0</td>\n",
       "      <td>4905.0</td>\n",
       "      <td>573.877500</td>\n",
       "      <td>4</td>\n",
       "      <td>123.0</td>\n",
       "    </tr>\n",
       "  </tbody>\n",
       "</table>\n",
       "<p>4314 rows × 6 columns</p>\n",
       "</div>"
      ],
      "text/plain": [
       "      Customer ID  Length  Recency    Monetary  Frecuency  Periodicity\n",
       "0         12346.0   196.0   5052.0   33.896364         11         12.0\n",
       "1         12347.0    37.0   4890.0  628.935000          2          0.0\n",
       "2         12348.0     0.0   4961.0  222.160000          1          0.0\n",
       "3         12349.0   181.0   4930.0  882.130000          3          0.0\n",
       "4         12351.0     0.0   4898.0  300.930000          1          0.0\n",
       "...           ...     ...      ...         ...        ...          ...\n",
       "4309      18283.0   275.0   4905.0  101.836667          6         62.0\n",
       "4310      18284.0     0.0   4954.0  431.080000          1          0.0\n",
       "4311      18285.0     0.0   5183.0  427.000000          1          0.0\n",
       "4312      18286.0   247.0   4999.0  585.675000          2          0.0\n",
       "4313      18287.0   188.0   4905.0  573.877500          4        123.0\n",
       "\n",
       "[4314 rows x 6 columns]"
      ]
     },
     "execution_count": 17,
     "metadata": {},
     "output_type": "execute_result"
    }
   ],
   "source": [
    "custom_features(df_retail)"
   ]
  },
  {
   "cell_type": "markdown",
   "metadata": {
    "id": "1ddL8wThv36t"
   },
   "source": [
    "#### 4.2 Agregando las custom features [10 puntos]"
   ]
  },
  {
   "cell_type": "markdown",
   "metadata": {
    "id": "ehLWiQzjwDm-"
   },
   "source": [
    "Ahora, usted decide agregar al pipeline las nuevas variables creadas, para lo cual realiza las siguientes tareas:\n",
    "\n",
    "1. Cree un nuevo pipeline llamado `retail_pipeline` que encapsule el ColumnTransformer y calcule las LRMFP. El primer paso del pipeline llámelo  `col_tranformer` y el segundo paso llámelo `custom_features`, incorpora las nuevas variables al dataframe. Hint: les puede ser útil investigar [este](https://scikit-learn.org/stable/modules/generated/sklearn.preprocessing.FunctionTransformer.html) método. [1 punto]\n",
    "2. Aplicar el pipeline actualizado a los datos proporcionados por Mr. Cheems, creando un nuevo dataframe llamado `df_custom`. [1 punto]\n",
    "3. Explorar la distribución de las nuevas variables con `explore_data` y comentar brevemente (2-3 líneas) características de cada custom feature. [5 puntos]\n",
    "5. Entregar un insight para el negocio en base a las nuevas variables. [3 puntos]"
   ]
  },
  {
   "cell_type": "code",
   "execution_count": 18,
   "metadata": {},
   "outputs": [],
   "source": [
    "# Como el df queda en array, se crea una funcion que permita transformar esta\n",
    "# nuevamente en df despues del col_transformer.\n",
    "\n",
    "def to_dataframe(X):\n",
    "    X = pd.DataFrame(X, columns=['Price', 'Quantity', 'Invoice', \n",
    "                                 'StockCode', 'Description', 'InvoiceDate', \n",
    "                                 'Customer ID', 'Country'])\n",
    "    return X"
   ]
  },
  {
   "cell_type": "code",
   "execution_count": 19,
   "metadata": {},
   "outputs": [],
   "source": [
    "retail_pipeline = Pipeline([\n",
    "    ('col_transformer', column_transformer),\n",
    "    ('to_dataframe', FunctionTransformer(to_dataframe)),\n",
    "    ('custom_features', FunctionTransformer(custom_features))\n",
    "])"
   ]
  },
  {
   "cell_type": "code",
   "execution_count": 20,
   "metadata": {},
   "outputs": [],
   "source": [
    "df_custom = retail_pipeline.fit_transform(df_retail)"
   ]
  },
  {
   "cell_type": "code",
   "execution_count": 21,
   "metadata": {},
   "outputs": [
    {
     "data": {
      "text/html": [
       "<div>\n",
       "<style scoped>\n",
       "    .dataframe tbody tr th:only-of-type {\n",
       "        vertical-align: middle;\n",
       "    }\n",
       "\n",
       "    .dataframe tbody tr th {\n",
       "        vertical-align: top;\n",
       "    }\n",
       "\n",
       "    .dataframe thead th {\n",
       "        text-align: right;\n",
       "    }\n",
       "</style>\n",
       "<table border=\"1\" class=\"dataframe\">\n",
       "  <thead>\n",
       "    <tr style=\"text-align: right;\">\n",
       "      <th></th>\n",
       "      <th>Customer ID</th>\n",
       "      <th>Length</th>\n",
       "      <th>Recency</th>\n",
       "      <th>Monetary</th>\n",
       "      <th>Frecuency</th>\n",
       "      <th>Periodicity</th>\n",
       "    </tr>\n",
       "  </thead>\n",
       "  <tbody>\n",
       "    <tr>\n",
       "      <th>0</th>\n",
       "      <td>12346.0</td>\n",
       "      <td>196</td>\n",
       "      <td>5052</td>\n",
       "      <td>33.896364</td>\n",
       "      <td>11</td>\n",
       "      <td>12.0</td>\n",
       "    </tr>\n",
       "    <tr>\n",
       "      <th>1</th>\n",
       "      <td>12347.0</td>\n",
       "      <td>274</td>\n",
       "      <td>4890</td>\n",
       "      <td>664.752</td>\n",
       "      <td>2</td>\n",
       "      <td>0.0</td>\n",
       "    </tr>\n",
       "    <tr>\n",
       "      <th>2</th>\n",
       "      <td>12348.0</td>\n",
       "      <td>0</td>\n",
       "      <td>4961</td>\n",
       "      <td>222.16</td>\n",
       "      <td>1</td>\n",
       "      <td>0.0</td>\n",
       "    </tr>\n",
       "    <tr>\n",
       "      <th>3</th>\n",
       "      <td>12349.0</td>\n",
       "      <td>234</td>\n",
       "      <td>4930</td>\n",
       "      <td>692.288037</td>\n",
       "      <td>3</td>\n",
       "      <td>0.0</td>\n",
       "    </tr>\n",
       "    <tr>\n",
       "      <th>4</th>\n",
       "      <td>12351.0</td>\n",
       "      <td>0</td>\n",
       "      <td>4898</td>\n",
       "      <td>308.704016</td>\n",
       "      <td>1</td>\n",
       "      <td>0.0</td>\n",
       "    </tr>\n",
       "    <tr>\n",
       "      <th>...</th>\n",
       "      <td>...</td>\n",
       "      <td>...</td>\n",
       "      <td>...</td>\n",
       "      <td>...</td>\n",
       "      <td>...</td>\n",
       "      <td>...</td>\n",
       "    </tr>\n",
       "    <tr>\n",
       "      <th>4309</th>\n",
       "      <td>18283.0</td>\n",
       "      <td>275</td>\n",
       "      <td>4905</td>\n",
       "      <td>103.728333</td>\n",
       "      <td>6</td>\n",
       "      <td>113.0</td>\n",
       "    </tr>\n",
       "    <tr>\n",
       "      <th>4310</th>\n",
       "      <td>18284.0</td>\n",
       "      <td>0</td>\n",
       "      <td>4954</td>\n",
       "      <td>398.352063</td>\n",
       "      <td>1</td>\n",
       "      <td>0.0</td>\n",
       "    </tr>\n",
       "    <tr>\n",
       "      <th>4311</th>\n",
       "      <td>18285.0</td>\n",
       "      <td>0</td>\n",
       "      <td>5183</td>\n",
       "      <td>204.672047</td>\n",
       "      <td>1</td>\n",
       "      <td>0.0</td>\n",
       "    </tr>\n",
       "    <tr>\n",
       "      <th>4312</th>\n",
       "      <td>18286.0</td>\n",
       "      <td>247</td>\n",
       "      <td>4999</td>\n",
       "      <td>605.925031</td>\n",
       "      <td>2</td>\n",
       "      <td>0.0</td>\n",
       "    </tr>\n",
       "    <tr>\n",
       "      <th>4313</th>\n",
       "      <td>18287.0</td>\n",
       "      <td>259</td>\n",
       "      <td>4905</td>\n",
       "      <td>413.967055</td>\n",
       "      <td>4</td>\n",
       "      <td>99.0</td>\n",
       "    </tr>\n",
       "  </tbody>\n",
       "</table>\n",
       "<p>4314 rows × 6 columns</p>\n",
       "</div>"
      ],
      "text/plain": [
       "      Customer ID  Length  Recency    Monetary  Frecuency  Periodicity\n",
       "0         12346.0     196     5052   33.896364         11         12.0\n",
       "1         12347.0     274     4890     664.752          2          0.0\n",
       "2         12348.0       0     4961      222.16          1          0.0\n",
       "3         12349.0     234     4930  692.288037          3          0.0\n",
       "4         12351.0       0     4898  308.704016          1          0.0\n",
       "...           ...     ...      ...         ...        ...          ...\n",
       "4309      18283.0     275     4905  103.728333          6        113.0\n",
       "4310      18284.0       0     4954  398.352063          1          0.0\n",
       "4311      18285.0       0     5183  204.672047          1          0.0\n",
       "4312      18286.0     247     4999  605.925031          2          0.0\n",
       "4313      18287.0     259     4905  413.967055          4         99.0\n",
       "\n",
       "[4314 rows x 6 columns]"
      ]
     },
     "execution_count": 21,
     "metadata": {},
     "output_type": "execute_result"
    }
   ],
   "source": [
    "df_custom"
   ]
  },
  {
   "cell_type": "markdown",
   "metadata": {},
   "source": [
    "**DISCLAIMER**\n",
    "\n",
    "Piden usar explore_data para ver las nuevas variables, sin embargo pidieron que esta función mostrara\n",
    "Quantity y Price. Asique, en vez de usar explore_data, se uso plotly para mostrar estas variables y\n",
    "comentarlas.\n",
    "\n",
    "**FIN DISCLAIMER**"
   ]
  },
  {
   "cell_type": "code",
   "execution_count": 22,
   "metadata": {},
   "outputs": [
    {
     "data": {
      "text/html": [
       "<div>\n",
       "<style scoped>\n",
       "    .dataframe tbody tr th:only-of-type {\n",
       "        vertical-align: middle;\n",
       "    }\n",
       "\n",
       "    .dataframe tbody tr th {\n",
       "        vertical-align: top;\n",
       "    }\n",
       "\n",
       "    .dataframe thead th {\n",
       "        text-align: right;\n",
       "    }\n",
       "</style>\n",
       "<table border=\"1\" class=\"dataframe\">\n",
       "  <thead>\n",
       "    <tr style=\"text-align: right;\">\n",
       "      <th></th>\n",
       "      <th>Customer ID</th>\n",
       "      <th>Length</th>\n",
       "      <th>Recency</th>\n",
       "      <th>Monetary</th>\n",
       "      <th>Frecuency</th>\n",
       "      <th>Periodicity</th>\n",
       "    </tr>\n",
       "  </thead>\n",
       "  <tbody>\n",
       "    <tr>\n",
       "      <th>0</th>\n",
       "      <td>12346.0</td>\n",
       "      <td>196</td>\n",
       "      <td>5052</td>\n",
       "      <td>33.896364</td>\n",
       "      <td>11</td>\n",
       "      <td>12.0</td>\n",
       "    </tr>\n",
       "    <tr>\n",
       "      <th>1</th>\n",
       "      <td>12347.0</td>\n",
       "      <td>274</td>\n",
       "      <td>4890</td>\n",
       "      <td>664.752</td>\n",
       "      <td>2</td>\n",
       "      <td>0.0</td>\n",
       "    </tr>\n",
       "    <tr>\n",
       "      <th>2</th>\n",
       "      <td>12348.0</td>\n",
       "      <td>0</td>\n",
       "      <td>4961</td>\n",
       "      <td>222.16</td>\n",
       "      <td>1</td>\n",
       "      <td>0.0</td>\n",
       "    </tr>\n",
       "    <tr>\n",
       "      <th>3</th>\n",
       "      <td>12349.0</td>\n",
       "      <td>234</td>\n",
       "      <td>4930</td>\n",
       "      <td>692.288037</td>\n",
       "      <td>3</td>\n",
       "      <td>0.0</td>\n",
       "    </tr>\n",
       "    <tr>\n",
       "      <th>4</th>\n",
       "      <td>12351.0</td>\n",
       "      <td>0</td>\n",
       "      <td>4898</td>\n",
       "      <td>308.704016</td>\n",
       "      <td>1</td>\n",
       "      <td>0.0</td>\n",
       "    </tr>\n",
       "  </tbody>\n",
       "</table>\n",
       "</div>"
      ],
      "text/plain": [
       "   Customer ID  Length  Recency    Monetary  Frecuency  Periodicity\n",
       "0      12346.0     196     5052   33.896364         11         12.0\n",
       "1      12347.0     274     4890     664.752          2          0.0\n",
       "2      12348.0       0     4961      222.16          1          0.0\n",
       "3      12349.0     234     4930  692.288037          3          0.0\n",
       "4      12351.0       0     4898  308.704016          1          0.0"
      ]
     },
     "execution_count": 22,
     "metadata": {},
     "output_type": "execute_result"
    }
   ],
   "source": [
    "df_custom.head()"
   ]
  },
  {
   "cell_type": "code",
   "execution_count": 6,
   "metadata": {},
   "outputs": [],
   "source": [
    "length = px.histogram(df_custom, x = \"Length\", title = 'Length Histogram')\n",
    "length.show()"
   ]
  },
  {
   "cell_type": "code",
   "execution_count": 7,
   "metadata": {},
   "outputs": [],
   "source": [
    "recency = px.histogram(df_custom, x = \"Recency\", title = 'Recency Histogram')\n",
    "recency.show()"
   ]
  },
  {
   "cell_type": "code",
   "execution_count": 8,
   "metadata": {},
   "outputs": [],
   "source": [
    "monetary = px.histogram(df_custom, x = \"Monetary\", title = 'Monetary Histogram')\n",
    "monetary.show()"
   ]
  },
  {
   "cell_type": "code",
   "execution_count": 9,
   "metadata": {},
   "outputs": [],
   "source": [
    "frecuency = px.histogram(df_custom, x = \"Frecuency\", title = 'Frecuency Histogram')\n",
    "frecuency.show()"
   ]
  },
  {
   "cell_type": "code",
   "execution_count": 10,
   "metadata": {},
   "outputs": [],
   "source": [
    "periodicity = px.histogram(df_custom, x = \"Periodicity\", title = 'Periodicity Histogram')\n",
    "periodicity.show()"
   ]
  },
  {
   "cell_type": "markdown",
   "metadata": {
    "id": "HVCGxPgtwFsk"
   },
   "source": [
    "**Respuesta**\n",
    "\n",
    "- **Length**: Entre 0 y 9 días se concentra la mayor cantidad de clientes, es decir, hay muchos clientes nuevos. Por otro lado, se observan dos tipos de cluster de clientes fieles, uno entre el rango de 210-279 días de antiguedad; y otro entre los 340-369 días de antiguedad.\n",
    "\n",
    "- **Recency**: Hasta el momento de la toma de los datos (2010-12-09 o hace 4888 días atrás), se observa una gran concentración de clientes en los días previos, pudiéndose interpretar como que una gran cantidad de estos habían comprado recientemente. Así mismo, se observan dos especies de grupos relevantes que concentran clientes en la lejanía, siendo entre los 5140-5149 días, y entre los 5240-5269 días; lo que si se considera el 2010-12-09 como el día de referencia, serían entre los 252-261 días y 352-381 días.\n",
    "\n",
    "- **Monetary**: Se observa que, en promedio, los clientes gastan enttre 170-200 en cada compra. Además, se tiene que presenta una distribución normal asímetrica positiva, lo que quiere decir que exiten valores muy altos que tiran la media hacia la derecha.\n",
    "\n",
    "- **Frecuency**: Se tiene que la mayor cantidad de clientes a comprado sólo una vez, por lo que correspondería a un público poco fiel. Además, se presentan algunos casos extremos, donde la frecuencia alcanza valores por sobre 100, incluso 200, siendo necesaría la revisión de estos.\n",
    "\n",
    "- **Periodicity**: Existe una gran cantidad de clientes en el primer tramo, ya que muchos son 0 o se encuentran en valores inferiores a 4. Los correspondientes a 0, se debe a que al calcular la desviación estandar, en muchos casos hay solo 1 valor, lo que se considera 0.\n",
    "\n",
    "\n"
   ]
  },
  {
   "cell_type": "markdown",
   "metadata": {
    "id": "qOV0y-e_lS39"
   },
   "source": [
    "### 5. MinMax Scaler [10 puntos]"
   ]
  },
  {
   "cell_type": "markdown",
   "metadata": {
    "id": "T55ZgReXvjGe"
   },
   "source": [
    "<p align=\"center\">\n",
    "  <img width=300 src=\"https://i.imgflip.com/1fsprn.jpg\">\n",
    "</p>\n"
   ]
  },
  {
   "cell_type": "markdown",
   "metadata": {
    "id": "4dk2R1kvuu-e"
   },
   "source": [
    "#### 5.1 Definición del Column Transformer [5 puntos]"
   ]
  },
  {
   "cell_type": "markdown",
   "metadata": {
    "cell_id": "94c48775ecb4496d970fbd920f65c126",
    "deepnote_cell_height": 268.70001220703125,
    "deepnote_cell_type": "markdown",
    "id": "iWsfp1dKXMfo",
    "tags": []
   },
   "source": [
    "Construya una clase llamada `MinMax()` para realizar una transformación de cada una de las columnas de un DataFrame utilizando `ColumnTransformer()`. Recuerde  usar `BaseEstimator` y `TransformerMixin`.\n",
    "\n",
    "\n",
    " Para esto considere que Min-Max escaler queda dada por la ecuación:\n",
    "\n",
    "$$MinMax = \\dfrac{x-min(x)}{max(x) - min(x)}$$\n",
    "\n",
    "\n",
    "Consulte el siguiente [link](https://sklearn-template.readthedocs.io/en/latest/user_guide.html#transformer) si tiene dudas sobre la creación de custom transformers."
   ]
  },
  {
   "cell_type": "markdown",
   "metadata": {
    "cell_id": "c087d1fa8aa94d7485fe1292bf628660",
    "deepnote_cell_height": 52.26666259765625,
    "deepnote_cell_type": "markdown",
    "id": "MUOLTWPDXMfo",
    "tags": []
   },
   "source": [
    "**Respuesta:**"
   ]
  },
  {
   "cell_type": "code",
   "execution_count": 28,
   "metadata": {},
   "outputs": [],
   "source": [
    "class MinMax(BaseEstimator, TransformerMixin):\n",
    "    def __init__(self):\n",
    "        self.min_values = None\n",
    "        self.max_values = None\n",
    "    \n",
    "    def fit(self, X, y=None):\n",
    "        self.min_values = X.min()\n",
    "        self.max_values = X.max()\n",
    "        return self\n",
    "    \n",
    "    def transform(self, X, y=None):\n",
    "        return (X - self.min_values) / (self.max_values - self.min_values)"
   ]
  },
  {
   "cell_type": "markdown",
   "metadata": {
    "id": "RySqWq1Muzp8"
   },
   "source": [
    "#### 5.2 Incorporando MinMax al pipeline [5 puntos]"
   ]
  },
  {
   "cell_type": "markdown",
   "metadata": {
    "id": "zmIqjkgDwRsV"
   },
   "source": [
    "Ahora, usted decide agregar el escalamiento al pipeline, para lo que decide seguir los siguientes pasos:\n",
    "\n",
    "- Agregar el paso `minmax` al pipeline `numeric_transformations`, haciendo uso de la clase creada. [1 punto]\n",
    "- Defina el dataframe `df_minmax` aplicando el ColumnTransformer actualizado a los datos proporcionados por Mr. Cheems. [1 punto]\n",
    "- Usar `explore_data` en `df_retail` y en `df_minmax`. [1 punto]\n",
    "- Reportar los cambios observados en la distribución de las variables.  [2 puntos]"
   ]
  },
  {
   "cell_type": "markdown",
   "metadata": {
    "cell_id": "a480355952a34b6cb7e72afa764091d6",
    "deepnote_cell_height": 52.26666259765625,
    "deepnote_cell_type": "markdown",
    "id": "lL2_CyAGXMfp",
    "tags": []
   },
   "source": [
    "**Respuesta:**"
   ]
  },
  {
   "cell_type": "code",
   "execution_count": 29,
   "metadata": {},
   "outputs": [],
   "source": [
    "numeric_transformations.steps.append(('min_max', MinMax()))"
   ]
  },
  {
   "cell_type": "code",
   "execution_count": 30,
   "metadata": {},
   "outputs": [],
   "source": [
    "column_transformer = ColumnTransformer([('numeric', numeric_transformations, numerical_columns),\n",
    "                                        ('categorical', categoric_transformations, categorical_columns)\n",
    "                                       ])"
   ]
  },
  {
   "cell_type": "code",
   "execution_count": 31,
   "metadata": {},
   "outputs": [],
   "source": [
    "df_minmax = pd.DataFrame(column_transformer.fit_transform(df_retail),\n",
    "                         columns=['Price', 'Quantity', 'Invoice', \n",
    "                                  'StockCode', 'Description', 'InvoiceDate', \n",
    "                                  'Customer ID', 'Country'])"
   ]
  },
  {
   "cell_type": "code",
   "execution_count": 32,
   "metadata": {},
   "outputs": [
    {
     "data": {
      "text/html": [
       "<div>\n",
       "<style scoped>\n",
       "    .dataframe tbody tr th:only-of-type {\n",
       "        vertical-align: middle;\n",
       "    }\n",
       "\n",
       "    .dataframe tbody tr th {\n",
       "        vertical-align: top;\n",
       "    }\n",
       "\n",
       "    .dataframe thead th {\n",
       "        text-align: right;\n",
       "    }\n",
       "</style>\n",
       "<table border=\"1\" class=\"dataframe\">\n",
       "  <thead>\n",
       "    <tr style=\"text-align: right;\">\n",
       "      <th></th>\n",
       "      <th>Price</th>\n",
       "      <th>Quantity</th>\n",
       "      <th>Invoice</th>\n",
       "      <th>StockCode</th>\n",
       "      <th>Description</th>\n",
       "      <th>InvoiceDate</th>\n",
       "      <th>Customer ID</th>\n",
       "      <th>Country</th>\n",
       "    </tr>\n",
       "  </thead>\n",
       "  <tbody>\n",
       "    <tr>\n",
       "      <th>0</th>\n",
       "      <td>0.169512</td>\n",
       "      <td>0.292683</td>\n",
       "      <td>ID489434</td>\n",
       "      <td>85048</td>\n",
       "      <td>15CM CHRISTMAS GLASS BALL 20 LIGHTS</td>\n",
       "      <td>2009-12-01 07:45:00</td>\n",
       "      <td>13085.0</td>\n",
       "      <td>United Kingdom</td>\n",
       "    </tr>\n",
       "    <tr>\n",
       "      <th>1</th>\n",
       "      <td>0.164634</td>\n",
       "      <td>0.292683</td>\n",
       "      <td>ID489434</td>\n",
       "      <td>79323P</td>\n",
       "      <td>PINK CHERRY LIGHTS</td>\n",
       "      <td>2010-03-07 15:34:00</td>\n",
       "      <td>13085.0</td>\n",
       "      <td>United Kingdom</td>\n",
       "    </tr>\n",
       "    <tr>\n",
       "      <th>2</th>\n",
       "      <td>0.164634</td>\n",
       "      <td>0.292683</td>\n",
       "      <td>ID489434</td>\n",
       "      <td>79323W</td>\n",
       "      <td>WHITE CHERRY LIGHTS</td>\n",
       "      <td>2009-12-01 07:45:00</td>\n",
       "      <td>13085.0</td>\n",
       "      <td>United Kingdom</td>\n",
       "    </tr>\n",
       "    <tr>\n",
       "      <th>3</th>\n",
       "      <td>0.066803</td>\n",
       "      <td>0.182767</td>\n",
       "      <td>ID489434</td>\n",
       "      <td>22041</td>\n",
       "      <td>RECORD FRAME 7\" SINGLE SIZE</td>\n",
       "      <td>2009-12-01 07:45:00</td>\n",
       "      <td>13085.0</td>\n",
       "      <td>United Kingdom</td>\n",
       "    </tr>\n",
       "    <tr>\n",
       "      <th>4</th>\n",
       "      <td>0.030488</td>\n",
       "      <td>0.585366</td>\n",
       "      <td>ID489434</td>\n",
       "      <td>21232</td>\n",
       "      <td>STRAWBERRY CERAMIC TRINKET BOX</td>\n",
       "      <td>2009-12-01 07:45:00</td>\n",
       "      <td>13085.0</td>\n",
       "      <td>United Kingdom</td>\n",
       "    </tr>\n",
       "    <tr>\n",
       "      <th>...</th>\n",
       "      <td>...</td>\n",
       "      <td>...</td>\n",
       "      <td>...</td>\n",
       "      <td>...</td>\n",
       "      <td>...</td>\n",
       "      <td>...</td>\n",
       "      <td>...</td>\n",
       "      <td>...</td>\n",
       "    </tr>\n",
       "    <tr>\n",
       "      <th>400942</th>\n",
       "      <td>0.071951</td>\n",
       "      <td>0.04878</td>\n",
       "      <td>ID538171</td>\n",
       "      <td>22271</td>\n",
       "      <td>FELTCRAFT DOLL ROSIE</td>\n",
       "      <td>2010-12-09 20:01:00</td>\n",
       "      <td>17530.0</td>\n",
       "      <td>United Kingdom</td>\n",
       "    </tr>\n",
       "    <tr>\n",
       "      <th>400943</th>\n",
       "      <td>0.091463</td>\n",
       "      <td>0.02439</td>\n",
       "      <td>ID538171</td>\n",
       "      <td>22750</td>\n",
       "      <td>FELTCRAFT PRINCESS LOLA DOLL</td>\n",
       "      <td>2010-12-09 20:01:00</td>\n",
       "      <td>17530.0</td>\n",
       "      <td>United Kingdom</td>\n",
       "    </tr>\n",
       "    <tr>\n",
       "      <th>400944</th>\n",
       "      <td>0.091463</td>\n",
       "      <td>0.02439</td>\n",
       "      <td>ID538171</td>\n",
       "      <td>22751</td>\n",
       "      <td>FELTCRAFT PRINCESS OLIVIA DOLL</td>\n",
       "      <td>2010-12-09 20:01:00</td>\n",
       "      <td>17530.0</td>\n",
       "      <td>United Kingdom</td>\n",
       "    </tr>\n",
       "    <tr>\n",
       "      <th>400945</th>\n",
       "      <td>0.091463</td>\n",
       "      <td>0.063415</td>\n",
       "      <td>ID538171</td>\n",
       "      <td>20970</td>\n",
       "      <td>PINK FLORAL FELTCRAFT SHOULDER BAG</td>\n",
       "      <td>2010-12-09 20:01:00</td>\n",
       "      <td>17530.0</td>\n",
       "      <td>United Kingdom</td>\n",
       "    </tr>\n",
       "    <tr>\n",
       "      <th>400946</th>\n",
       "      <td>0.047561</td>\n",
       "      <td>0.04878</td>\n",
       "      <td>ID538171</td>\n",
       "      <td>21931</td>\n",
       "      <td>JUMBO STORAGE BAG SUKI</td>\n",
       "      <td>2010-12-09 20:01:00</td>\n",
       "      <td>17530.0</td>\n",
       "      <td>United Kingdom</td>\n",
       "    </tr>\n",
       "  </tbody>\n",
       "</table>\n",
       "<p>400947 rows × 8 columns</p>\n",
       "</div>"
      ],
      "text/plain": [
       "           Price  Quantity   Invoice StockCode  \\\n",
       "0       0.169512  0.292683  ID489434     85048   \n",
       "1       0.164634  0.292683  ID489434    79323P   \n",
       "2       0.164634  0.292683  ID489434    79323W   \n",
       "3       0.066803  0.182767  ID489434     22041   \n",
       "4       0.030488  0.585366  ID489434     21232   \n",
       "...          ...       ...       ...       ...   \n",
       "400942  0.071951   0.04878  ID538171     22271   \n",
       "400943  0.091463   0.02439  ID538171     22750   \n",
       "400944  0.091463   0.02439  ID538171     22751   \n",
       "400945  0.091463  0.063415  ID538171     20970   \n",
       "400946  0.047561   0.04878  ID538171     21931   \n",
       "\n",
       "                                Description         InvoiceDate Customer ID  \\\n",
       "0       15CM CHRISTMAS GLASS BALL 20 LIGHTS 2009-12-01 07:45:00     13085.0   \n",
       "1                        PINK CHERRY LIGHTS 2010-03-07 15:34:00     13085.0   \n",
       "2                       WHITE CHERRY LIGHTS 2009-12-01 07:45:00     13085.0   \n",
       "3              RECORD FRAME 7\" SINGLE SIZE  2009-12-01 07:45:00     13085.0   \n",
       "4            STRAWBERRY CERAMIC TRINKET BOX 2009-12-01 07:45:00     13085.0   \n",
       "...                                     ...                 ...         ...   \n",
       "400942                 FELTCRAFT DOLL ROSIE 2010-12-09 20:01:00     17530.0   \n",
       "400943         FELTCRAFT PRINCESS LOLA DOLL 2010-12-09 20:01:00     17530.0   \n",
       "400944       FELTCRAFT PRINCESS OLIVIA DOLL 2010-12-09 20:01:00     17530.0   \n",
       "400945   PINK FLORAL FELTCRAFT SHOULDER BAG 2010-12-09 20:01:00     17530.0   \n",
       "400946               JUMBO STORAGE BAG SUKI 2010-12-09 20:01:00     17530.0   \n",
       "\n",
       "               Country  \n",
       "0       United Kingdom  \n",
       "1       United Kingdom  \n",
       "2       United Kingdom  \n",
       "3       United Kingdom  \n",
       "4       United Kingdom  \n",
       "...                ...  \n",
       "400942  United Kingdom  \n",
       "400943  United Kingdom  \n",
       "400944  United Kingdom  \n",
       "400945  United Kingdom  \n",
       "400946  United Kingdom  \n",
       "\n",
       "[400947 rows x 8 columns]"
      ]
     },
     "execution_count": 32,
     "metadata": {},
     "output_type": "execute_result"
    }
   ],
   "source": [
    "df_minmax"
   ]
  },
  {
   "cell_type": "code",
   "execution_count": 11,
   "metadata": {},
   "outputs": [],
   "source": [
    "explore_data(df_retail)\n",
    "explore_data(df_minmax)"
   ]
  },
  {
   "cell_type": "markdown",
   "metadata": {},
   "source": [
    "**Respuesta**\n",
    "\n",
    "Se observa de mejor manera la distribución de las variables en df_minmax que en df_retail, ya que se normalizaron según el maximo y el mínimo de estas. En el caso del Price, se presenta de mejor manera los rangos de valores menores, en comparación al retail, al igual que en Quantity."
   ]
  },
  {
   "cell_type": "markdown",
   "metadata": {
    "id": "iWXlAO8-wfNt"
   },
   "source": [
    "### 6. Pregunta teórica [5 puntos]"
   ]
  },
  {
   "cell_type": "markdown",
   "metadata": {
    "id": "JvsFRwpVtMh_"
   },
   "source": [
    "<p align=\"center\">\n",
    "  <img width=300 src=\"https://file.coinexstatic.com/2023-09-19/166BAC031F222E5910954E7D7D0BC844.png\">\n",
    "</p>"
   ]
  },
  {
   "cell_type": "markdown",
   "metadata": {
    "id": "Ou7lQIAHwiZv"
   },
   "source": [
    "Finalmente, explíquele a Mr. Cheems porqué es útil la creación de pipelines al momento de hacer Feature Engineering en Machine Learning."
   ]
  },
  {
   "cell_type": "markdown",
   "metadata": {
    "id": "29QJyzOCwjdD"
   },
   "source": [
    "**Respuesta:**"
   ]
  },
  {
   "cell_type": "markdown",
   "metadata": {
    "id": "YMDYYL1stUVO"
   },
   "source": [
    "La creación de pipelines ayuda en simplificar el proceso de aprendizaje automático, permitnendo combinar distintos pasos del proceso de este en una única entidad; procesamiento de datos consistentes, asegurando que los mismos pasos de preprocesamiento de datos se apliquen de manera consistente tanto a los datos de entrenamiento como de testeo; ajuste de hiperparámetros, permitiendo encontrar una combinación óptima de hiperparámetros y mejorar el rendimiento; legibilidad y reutilización del codigo, organizando de forma clara y consisa el código, facilitando su lectura y mantenimiento; y mejora en el rendimiento, al mantener al mínimo la cantidad de manipulación de datos y cálculo requerido."
   ]
  },
  {
   "cell_type": "markdown",
   "metadata": {
    "cell_id": "94721075d5ff44bd83601c871797ae2a",
    "deepnote_cell_height": 514.4666748046875,
    "deepnote_cell_type": "markdown",
    "id": "Rg4ZMq8ezAH6"
   },
   "source": [
    "# Conclusión\n",
    "Eso ha sido todo para el lab de hoy, recuerden que el laboratorio tiene un plazo de entrega de una semana. Cualquier duda del laboratorio, no duden en contactarnos por el foro de U-cursos o por correo.\n",
    "\n",
    "![Gracias Totales!](https://i.pinimg.com/originals/65/ae/27/65ae270df87c3c4adcea997e48f60852.gif \"bruno\")\n"
   ]
  },
  {
   "cell_type": "markdown",
   "metadata": {
    "cell_id": "7e31a91f8cb744cabd0ed0287ac5257e",
    "deepnote_cell_height": 171.28334045410156,
    "deepnote_cell_type": "markdown",
    "id": "wCL1lACBzAH7"
   },
   "source": [
    "<br>\n",
    "<center>\n",
    "<img src=\"https://i.kym-cdn.com/photos/images/original/001/194/195/b18.png\" width=100 height=50 />\n",
    "</center>\n",
    "<br>"
   ]
  },
  {
   "cell_type": "markdown",
   "metadata": {
    "created_in_deepnote_cell": true,
    "deepnote_cell_type": "markdown",
    "id": "ALHqwrAFXMgD"
   },
   "source": [
    "<a style='text-decoration:none;line-height:16px;display:flex;color:#5B5B62;padding:10px;justify-content:end;' href='https://deepnote.com?utm_source=created-in-deepnote-cell&projectId=87110296-876e-426f-b91d-aaf681223468' target=\"_blank\">\n",
    "<img alt='Created in deepnote.com' style='display:inline;max-height:16px;margin:0px;margin-right:7.5px;' src='data:image/svg+xml;base64,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' > </img>\n",
    "Created in <span style='font-weight:600;margin-left:4px;'>Deepnote</span></a>"
   ]
  }
 ],
 "metadata": {
  "colab": {
   "collapsed_sections": [
    "wrG4gYabzAHs",
    "_Eu4qBqnXMff",
    "Q6nm_0uWvrFv",
    "F4ZY_N0Ad1GP",
    "MF5s4dqMYCbJ",
    "buuUiW-9YYZ3",
    "1ddL8wThv36t",
    "qOV0y-e_lS39",
    "iWXlAO8-wfNt"
   ],
   "provenance": []
  },
  "deepnote_execution_queue": [],
  "deepnote_notebook_id": "33c253a4f84d40a091bd5023e95abb64",
  "kernelspec": {
   "display_name": "Python 3 (ipykernel)",
   "language": "python",
   "name": "python3"
  },
  "language_info": {
   "codemirror_mode": {
    "name": "ipython",
    "version": 3
   },
   "file_extension": ".py",
   "mimetype": "text/x-python",
   "name": "python",
   "nbconvert_exporter": "python",
   "pygments_lexer": "ipython3",
   "version": "3.8.10"
  }
 },
 "nbformat": 4,
 "nbformat_minor": 4
}
