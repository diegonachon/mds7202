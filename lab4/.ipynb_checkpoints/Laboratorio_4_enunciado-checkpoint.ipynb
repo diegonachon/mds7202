{
 "cells": [
  {
   "cell_type": "markdown",
   "metadata": {
    "cell_id": "e37cb69cb73a49c2ad07cf670e073cb7",
    "deepnote_cell_height": 156.390625,
    "deepnote_cell_type": "markdown",
    "id": "XUZ1dFPHzAHl"
   },
   "source": [
    "# Laboratorio 4: Spark y EDA 🐼\n",
    "\n",
    "<center><strong>MDS7202: Laboratorio de Programación Científica para Ciencia de Datos</strong></center>"
   ]
  },
  {
   "cell_type": "markdown",
   "metadata": {
    "id": "PkEUN6c8S-E_"
   },
   "source": [
    "### Cuerpo Docente:\n",
    "\n",
    "- Profesores: Ignacio Meza, Sebastián Tinoco\n",
    "- Auxiliar: Catherine Benavides\n",
    "- Ayudante: Nicolás Ojeda, Eduardo Moya"
   ]
  },
  {
   "cell_type": "markdown",
   "metadata": {
    "cell_id": "8ebcb0f2f70c43319279fdd28c13fe89",
    "deepnote_cell_height": 171.796875,
    "deepnote_cell_type": "markdown",
    "id": "tXflExjqzAHr"
   },
   "source": [
    "### Equipo: SUPER IMPORTANTE - notebooks sin nombre no serán revisados\n",
    "\n",
    "- Nombre de alumno 1: Diego Cornejo"
   ]
  },
  {
   "cell_type": "markdown",
   "metadata": {
    "cell_id": "290822720f3e4484b09e762655bcdb76",
    "deepnote_cell_height": 62,
    "deepnote_cell_type": "markdown",
    "id": "AD-V0bbZzAHr"
   },
   "source": [
    "### **Link de repositorio de GitHub:** `https://github.com/diegonachon/mds7202/tree/main/lab4`"
   ]
  },
  {
   "cell_type": "markdown",
   "metadata": {
    "cell_id": "60255b81ff0349ad9b18f598a8d71386",
    "deepnote_cell_height": 216,
    "deepnote_cell_type": "markdown",
    "id": "hnYD2hBMAwXf",
    "tags": []
   },
   "source": [
    "### Reglas:\n",
    "\n",
    "- **Grupos de 2 personas**\n",
    "- Fecha de entrega: 7 días desde la publicación, 3 días de atraso con 1 punto de descuento c/u.\n",
    "- Instrucciones del lab el viernes a las 16:15 en formato online. Asistencia no es obligatoria.\n",
    "- <u>Prohibidas las copias</u>. Cualquier intento de copia será debidamente penalizado con el reglamento de la escuela.\n",
    "- Tienen que subir el laboratorio a u-cursos Y a su repositorio de github. Labs que no estén en u-cursos no serán revisados. Recuerden que el repositorio también tiene nota.\n",
    "- Cualquier duda fuera del horario de clases al foro. Mensajes al equipo docente serán respondidos por este medio.\n",
    "- Pueden usar cualquer material del curso que estimen conveniente."
   ]
  },
  {
   "cell_type": "markdown",
   "metadata": {
    "cell_id": "5bf6f5f66dcd4da9a6926774cec108ab",
    "deepnote_cell_height": 114.390625,
    "deepnote_cell_type": "markdown",
    "id": "xzz695obAwXg",
    "tags": []
   },
   "source": [
    "### Temas a tratar\n",
    "\n",
    "- Introducción al manejo de datos tabulares por medio de la libreria `pandas`."
   ]
  },
  {
   "cell_type": "markdown",
   "metadata": {
    "cell_id": "50ec30f08f2548a29bc979ed1741f5a0",
    "deepnote_cell_height": 243.390625,
    "deepnote_cell_type": "markdown",
    "id": "6uBLPj1PzAHs"
   },
   "source": [
    "### Objetivos principales del laboratorio\n",
    "\n",
    "- Entender, aplicar y aprovechar las ventajas que nos ofrece la libreria `pyspark` para manejar datos tabulares de gran volúmen.\n",
    "- Crear gráficos para el desarrollo de Análisis de Datos Exploratorios (EDA)."
   ]
  },
  {
   "cell_type": "markdown",
   "metadata": {
    "id": "f7hHEyTgm12s"
   },
   "source": [
    "### Datos del Lab\n",
    "\n",
    "- Base de datos: https://gitlab.com/imezadelajara/datos_clase_7_mds7202/-/raw/main/datos_lab_spark.parquet\n",
    "- Objeto serializado: https://gitlab.com/imezadelajara/datos_clase_7_mds7202/-/raw/main/object.pkl?inline=false"
   ]
  },
  {
   "cell_type": "markdown",
   "metadata": {
    "id": "6CrDdk5NRAKe"
   },
   "source": [
    "## Preguntas Teóricas [12 puntos]\n",
    "(2 por pregunta)"
   ]
  },
  {
   "cell_type": "markdown",
   "metadata": {
    "id": "EmDMGUTxLp7M"
   },
   "source": [
    "<center>\n",
    "<img src=\"https://img.buzzfeed.com/buzzfeed-static/static/2018-08/1/17/enhanced/buzzfeed-prod-web-05/anigif_enhanced-9173-1533160033-1.gif\" width=350 />\n",
    "\n"
   ]
  },
  {
   "cell_type": "markdown",
   "metadata": {
    "id": "pGZZcxMWRdIa"
   },
   "source": [
    "Responda en  máximo 5 líneas las siguientes preguntas:\n",
    "1. ¿Qué es Apache Spark y cuáles son sus principales ventajas sobre Pandas?\n",
    "\n",
    "2. ¿Qué es un RDD en Spark? Describe una de sus principales características. ¿Qué tienen que ver con los dataframes?.\n",
    "    \n",
    "3. Diferencia entre transformaciones y acciones en Spark. Proporciona ejemplos de cada una. ¿Qué ocurre internamente cuando se ejecuta una acción?\n",
    "\n",
    "4. Explica la importancia del particionamiento en Spark y cómo afecta el rendimiento del procesamiento de datos.\n",
    "\n",
    "5. ¿Cuáles son las funciones de Spark Driver y Spark Executor?\n",
    "\n",
    "6. ¿Qué es el Catalyst Optimizer en Apache Spark y cuál es su función principal en la optimización de consultas SQL?\n"
   ]
  },
  {
   "cell_type": "markdown",
   "metadata": {
    "id": "1elJgE8JRn2O"
   },
   "source": [
    "**Respuestas**\n",
    "\n",
    "    1. Corresponde a un motor unificado, diseñado para el procesamiento de datos a gran escala. Las principales ventajas que tiene sobre pandas se basan en su gestión de memoria, desempeño con grandes volumenes de datos y la capacidad de operaciones paralelas; ya que posee mayor velocidad, debido a la maximización de recursos que posee, la construcción de cálculos como DAGs, una estructura de datos RDD, es compatible con multiples lenguajes y es extensible, que se enfoca en el paralelismo para un procesamiento veloz.\n",
    "    \n",
    "    2. Un RDD crresponde a una colección distribuida e inmutable de elementos que peuden ser operados en paralelo. Entre sus principales caracteristicas se encuentran dependencias, que mantiene un registro de las transformaciones aplicadas a los datos de forma DAG, lo que permite a Spark reconstruirlos en caso de fallo; particiones, que como dice el nombre, divide los datos en aprticiones que permite las operaciones en paralelo; y cómputo de funciones, donde cada partición se procesa mediante una función definida. Su relación con los dataframes viene en que estos están construidos sobre los RDDs, proporcionando una interfaz más amigable y optimizada para el procesamiento de datos estructurados.\n",
    "    \n",
    "    3. Las transformaciones corresponden a operaciones que crean un nuevo dataset a partir de uno existente; mientras que las acciones son operaciones que desencadenan la ejecución de todas las transformaciones acumuladas. Algunos ejemplos de transformaciones son orderBy(), groupBy(), filter() y select(); mientras que de acciones son show(), take(), count() y collect(). Cuando se ejecuta una acción, se tiene que Spark optimiza el plan de ejecución de las transformaciones que deben ser ejecutadas si el resultado es necesario para una acción.\n",
    "    \n",
    "    4. La importancia del particionamiento es clave para la optimización del rendimiento, ya que propuebe el paralelismo. Esto es porque, al distribuir los datos en particiones, se facilita que los ejecutores procesen datos que se encuentren más próximos a ellos, reduciendo el ancho de banda necesario para la transferencia de datos; maximizando la eficiancia del procesamiento y minimizando el tiempo de ejecución.\n",
    "\n",
    "    5. Spark driver es el encargado de instanciar la SparkSession, teniendo como principales funciones el comunicarse con el gesto del clúster para solicitar recursos y transformar las operaciones definidas en los DAGs. Por su parte, Spark Executor opera en cada nodo operativo dentro del clústor, comunicándose con el programa conductor; siendo el encargado de llevar a cabo las tareas asignadas en los nodos, por medio del procesamiento de datos y devolviendo los resultados al conductor.\n",
    "    \n",
    "    6. Catalyst Optimizer es una parte de Apache Spark que aprovecha características avanzadas del lenguaje de programación, para crear un optimizador de consultar extensible, teniendo como principales propósitos el poder agregar de manera fácil nuevas ´tenicas y funciones de optimización a Spark SQL; y permitir que desarrolladores externos amplien el optimizador, por ejemplo, agregando reglas específicas de fuentes de datos, soporte de nuevos tipos de datos, entre otros."
   ]
  },
  {
   "cell_type": "markdown",
   "metadata": {
    "cell_id": "00002-bf13ea5a-d8bf-4cee-879e-ba1c7035e657",
    "deepnote_cell_type": "markdown",
    "id": "b020ce37"
   },
   "source": [
    "## Parte Práctica\n",
    "\n"
   ]
  },
  {
   "cell_type": "markdown",
   "metadata": {
    "id": "k0DaDvtgEYTV"
   },
   "source": [
    "<center>\n",
    "<img src=\"https://pbs.twimg.com/ad_img/1285681293590749189/kDckYy6Z?format=png&name=900x900\" width=350 />"
   ]
  },
  {
   "cell_type": "markdown",
   "metadata": {
    "id": "uW1dg_5_WR8S"
   },
   "source": [
    "Juan Carlos Bodoque, el famoso periodista y empresario, decidió diversificar su portafolio de negocios y crear su propia plataforma de e-commerce. Después de varios años de investigar y analizar el mercado financiero, finalmente logró fundar Bodoque E-Shop con el objetivo de ofrecer a sus clientes una experiencia personalizada y confiable en sus transacciones.\n",
    "\n",
    "Sin embargo, con la llegada de los aliens al planeta Tierra, aparecen nuevos desafíos para el negocio. Por ello, Bodoque decide invertir en un equipo de expertos en tecnología y comercio interplanetario, para que Bodoque Shop implemente las últimas innovaciones en servicio al cliente para garantizar la satisfacción y fidelización de sus nuevos clientes.\n",
    "\n",
    "El primer objetivo de Bodoque E-Shop será la hacer un análisis exploratorio para entender mejor el comportamiento de los usuarios en la plataforma. Para ello Bodoque les hace entrega de un extenso dataset en el que se registran las actividades que han realizado sus clientes durante los últimos meses. A continuación se presenta un diccionario de variables que levanto el equipo de consultores interplanetarios de Bodoque:\n",
    "\n",
    "1. `Transaction ID`: A unique identifier for each transaction.\n",
    "2. `Customer ID`: A unique identifier for each customer.\n",
    "3. `Transaction Amount`: The total amount of money exchanged in the transaction in USD.\n",
    "4. `Transaction Date`: The date and time when the transaction took place.\n",
    "5. `Payment Method`: The method used to complete the transaction (e.g., credit card, PayPal, etc.).\n",
    "6. `Product Category`: The category of the product involved in the transaction.\n",
    "7. `Quantity`: The number of products involved in the transaction.\n",
    "8. `Customer Age`: The age of the customer making the transaction.\n",
    "9. `Customer Location`: The geographical location of the customer.\n",
    "10. `Device Used`: The type of device used to make the transaction (e.g., mobile, desktop).\n",
    "11. `IP Address`: The IP address of the device used for the transaction.\n",
    "Shipping Address: The address where the product was shipped.\n",
    "12. `Billing Address`: The address associated with the payment method.\n",
    "13. `Is An Alien`: A binary indicator of whether customer is an alien.\n",
    "14. `Account Age Days`: The age of the customer's account in days at the time of the transaction.\n",
    "15. `Transaction Hour`: The hour of the day when the transaction occurred.\n"
   ]
  },
  {
   "cell_type": "markdown",
   "metadata": {
    "cell_id": "1769820f70244385ab5ac51f7509b6de",
    "deepnote_cell_height": 61.133331298828125,
    "deepnote_cell_type": "markdown",
    "id": "MhISwri4zAHy"
   },
   "source": [
    "### Importamos librerias utiles y cargamos los datos😸"
   ]
  },
  {
   "cell_type": "code",
   "execution_count": 1,
   "metadata": {
    "id": "xHoq7VBlJoS3"
   },
   "outputs": [],
   "source": [
    "# !pip install pyspark\n",
    "# !apt-get install openjdk-8-jdk-headless -qq > /dev/null\n",
    "\n",
    "import os\n",
    "os.environ[\"JAVA_HOME\"] = \"/usr/lib/jvm/java-8-openjdk-amd64\""
   ]
  },
  {
   "cell_type": "code",
   "execution_count": 2,
   "metadata": {
    "id": "M6MKzLmPSHzY"
   },
   "outputs": [],
   "source": [
    "# Libreria Core del lab.\n",
    "import pyspark\n",
    "from pyspark import SparkConf, SparkContext\n",
    "from pyspark.sql import SparkSession\n",
    "import pandas as pd\n",
    "from pyspark.sql.types import StringType, IntegerType, FloatType\n",
    "\n",
    "\n",
    "#Libreria para plotear\n",
    "# !pip install --upgrade plotly\n",
    "# !pip install missingno\n",
    "import matplotlib.pyplot as plt\n",
    "import plotly.express as px"
   ]
  },
  {
   "cell_type": "markdown",
   "metadata": {
    "id": "9vJWSlEXYBqq"
   },
   "source": [
    "Cargue los datos usando **pyspark**"
   ]
  },
  {
   "cell_type": "code",
   "execution_count": 3,
   "metadata": {
    "id": "i9Uf-BTZXqXe"
   },
   "outputs": [
    {
     "name": "stderr",
     "output_type": "stream",
     "text": [
      "24/04/20 18:14:08 WARN Utils: Your hostname, diego-HP-Pavilion-Gaming-Laptop-15-cx0xxx resolves to a loopback address: 127.0.1.1; using 192.168.1.100 instead (on interface eno1)\n",
      "24/04/20 18:14:08 WARN Utils: Set SPARK_LOCAL_IP if you need to bind to another address\n",
      "Setting default log level to \"WARN\".\n",
      "To adjust logging level use sc.setLogLevel(newLevel). For SparkR, use setLogLevel(newLevel).\n",
      "24/04/20 18:14:08 WARN NativeCodeLoader: Unable to load native-hadoop library for your platform... using builtin-java classes where applicable\n",
      "                                                                                \r"
     ]
    }
   ],
   "source": [
    "sparksession = SparkSession.builder.master(\"local\").appName(\"Cargar archivo Parquet\").getOrCreate()\n",
    "\n",
    "df = sparksession.read.parquet(\"datos_lab_spark.parquet\")"
   ]
  },
  {
   "cell_type": "markdown",
   "metadata": {
    "id": "z6l6GNynYnh4"
   },
   "source": [
    "### 2. Limpieza con pyspark [8 puntos]\n",
    "(1 punto por pregunta)"
   ]
  },
  {
   "cell_type": "markdown",
   "metadata": {
    "id": "8DVdjYyOGRom"
   },
   "source": [
    "<center>\n",
    "<img src=\"https://miro.medium.com/v2/resize:fit:600/1*A6PpTrehGLxCJWNcUsDTNg.jpeg\" width=350 />\n",
    "\n"
   ]
  },
  {
   "cell_type": "markdown",
   "metadata": {
    "id": "sPGV40BjZekP"
   },
   "source": [
    "Para comenzar con el análisis exploratorio usted decide empezar limpiando la base de datos con **pyspark** dado el alto volumen de datos que genera diariamente Bodoque E-Shop.\n",
    "\n",
    "**Nota: NO SE PERMITE EL USO DE PANDAS EN ESTA SECCIÓN**\n",
    "\n",
    "\n",
    "\n",
    "1.   Utilice `.printSchema()` para revisar la estructura de los datos\n",
    "2.   Muestre las primeras 10 filas del dataset. Hint: utilice `.show()`\n",
    "3.   Imprima un muestreo aleatorio con el 5% de los datos diponibles. . Hint: utilice `.sample()`\n",
    "4. Revise los tipos de datos de cada columna con `.dtypes()` y responda la siguiente pregunta: ¿Cuál/es columna/s tiene/n un tipo de dato que no es el adecuado y por qué?\n",
    "5. Complete el código entregado para cambiar el tipo de datos para la/s columna/s problemáticas.\n",
    "6. Cuente la cantidad de datos nulos por variable. Recuerde que Spark no posee un método que le permita calcular directamente los nulos.\n",
    "7. Elimine datos nulos.\n",
    "8. Elimine datos duplicados.\n"
   ]
  },
  {
   "cell_type": "code",
   "execution_count": 4,
   "metadata": {},
   "outputs": [
    {
     "name": "stdout",
     "output_type": "stream",
     "text": [
      "root\n",
      " |-- Transaction ID: string (nullable = true)\n",
      " |-- Customer ID: string (nullable = true)\n",
      " |-- Transaction Amount: double (nullable = true)\n",
      " |-- Transaction Date: timestamp_ntz (nullable = true)\n",
      " |-- Payment Method: string (nullable = true)\n",
      " |-- Product Category: string (nullable = true)\n",
      " |-- Quantity: double (nullable = true)\n",
      " |-- Customer Age: double (nullable = true)\n",
      " |-- Customer Location: string (nullable = true)\n",
      " |-- Device Used: string (nullable = true)\n",
      " |-- IP Address: string (nullable = true)\n",
      " |-- Shipping Address: string (nullable = true)\n",
      " |-- Billing Address: string (nullable = true)\n",
      " |-- Is An Alien: double (nullable = true)\n",
      " |-- Account Age Days: double (nullable = true)\n",
      " |-- Transaction Hour: double (nullable = true)\n",
      "\n"
     ]
    }
   ],
   "source": [
    "#1. Utilice .printSchema() para revisar la estructura de los datos\n",
    "\n",
    "df.printSchema()"
   ]
  },
  {
   "cell_type": "code",
   "execution_count": 5,
   "metadata": {
    "scrolled": false
   },
   "outputs": [
    {
     "name": "stdout",
     "output_type": "stream",
     "text": [
      "+--------------------+--------------------+------------------+-------------------+--------------+----------------+--------+------------+-----------------+-----------+---------------+--------------------+--------------------+-----------+----------------+----------------+\n",
      "|      Transaction ID|         Customer ID|Transaction Amount|   Transaction Date|Payment Method|Product Category|Quantity|Customer Age|Customer Location|Device Used|     IP Address|    Shipping Address|     Billing Address|Is An Alien|Account Age Days|Transaction Hour|\n",
      "+--------------------+--------------------+------------------+-------------------+--------------+----------------+--------+------------+-----------------+-----------+---------------+--------------------+--------------------+-----------+----------------+----------------+\n",
      "|4b4a5fe1-ec4d-4f9...|d1b87f62-51b2-493...|             58.09|2022-03-24 00:00:00| bank transfer|     electronics|     1.0|        17.0|    Amandaborough|       NULL| 212.195.49.198|Unit 8934 Box 005...|Unit 8934 Box 005...|        0.0|            NULL|             5.0|\n",
      "|bacd9392-73ce-481...|37de64d5-e901-4a5...|            389.96|2023-01-17 00:00:00|    debit card|     electronics|     2.0|        40.0|     East Timothy|    desktop|208.106.249.121|634 May Keys\\nPor...|634 May Keys\\nPor...|        0.0|            72.0|             8.0|\n",
      "|d936a024-3a1d-40d...|1bac88d6-4b22-409...|            134.19|2023-06-01 00:00:00|        PayPal|   home & garden|     2.0|        22.0|       Davismouth|     tablet|   76.63.88.212|                NULL|16282 Dana Falls ...|        0.0|            63.0|            NULL|\n",
      "|a30aaab5-4042-4b8...|2357c76e-9253-4ce...|            226.17|2019-07-02 00:00:00| bank transfer|        clothing|     5.0|        31.0|         Lynnberg|    desktop| 207.208.171.73|828 Strong Loaf A...|828 Strong Loaf A...|        0.0|           124.0|            20.0|\n",
      "|b0634f43-d07d-4ca...|45071bc5-9588-43e...|            121.53|2020-10-26 00:00:00| bank transfer|        clothing|     2.0|        51.0|             NULL|       NULL| 190.172.14.169|29799 Jason Hills...|29799 Jason Hills...|        0.0|           158.0|            NULL|\n",
      "|8c4711b8-7477-421...|29616b04-2d5c-472...|            166.41|2019-06-10 00:00:00| bank transfer|    toys & games|    NULL|        34.0|     Herreramouth|     tablet|           NULL|5699 Brittany Vil...|120 Kristi Dale\\n...|       NULL|            38.0|            10.0|\n",
      "|fd0342fe-6b16-4a3...|fe21ae29-ba4c-424...|             92.88|2020-10-09 00:00:00|        PayPal|    toys & games|     2.0|        14.0|        Ramosfort|     tablet|   13.45.27.192|                NULL|727 Gibson Island...|        0.0|           119.0|            19.0|\n",
      "|2d7299de-355b-479...|024257c3-5671-4de...|            318.14|2021-10-09 00:00:00|   credit card| health & beauty|     4.0|        42.0|             NULL|    desktop|131.141.230.185|3914 Davis Union\\...|                NULL|        0.0|           251.0|            NULL|\n",
      "|de51c9df-ab52-43a...|                NULL|              NULL|2019-03-22 00:00:00| bank transfer|   home & garden|    NULL|        38.0|       Carneyfurt|       NULL|           NULL|47893 Maldonado S...|                NULL|        0.0|           190.0|            19.0|\n",
      "|                NULL|aab93e75-582f-445...|            121.78|2022-02-28 00:00:00| bank transfer| health & beauty|     4.0|        39.0|       Brockburgh|     mobile| 174.32.252.238|2334 Briana Cente...|2334 Briana Cente...|        0.0|           343.0|            NULL|\n",
      "+--------------------+--------------------+------------------+-------------------+--------------+----------------+--------+------------+-----------------+-----------+---------------+--------------------+--------------------+-----------+----------------+----------------+\n",
      "only showing top 10 rows\n",
      "\n"
     ]
    }
   ],
   "source": [
    "#2. Muestre las primeras 10 filas del dataset. Hint: utilice .show()\n",
    "\n",
    "df.show(10)"
   ]
  },
  {
   "cell_type": "code",
   "execution_count": 6,
   "metadata": {
    "scrolled": true
   },
   "outputs": [
    {
     "name": "stdout",
     "output_type": "stream",
     "text": [
      "-RECORD 0---------------------------------------------------------------------\n",
      " Transaction ID     | NULL                                                    \n",
      " Customer ID        | NULL                                                    \n",
      " Transaction Amount | 178.94                                                  \n",
      " Transaction Date   | 2020-05-15 00:00:00                                     \n",
      " Payment Method     | debit card                                              \n",
      " Product Category   | clothing                                                \n",
      " Quantity           | 4.0                                                     \n",
      " Customer Age       | 27.0                                                    \n",
      " Customer Location  | NULL                                                    \n",
      " Device Used        | mobile                                                  \n",
      " IP Address         | 211.46.251.245                                          \n",
      " Shipping Address   | 298 Taylor Canyon\\nSouth Megan, GA 73219                \n",
      " Billing Address    | NULL                                                    \n",
      " Is An Alien        | 0.0                                                     \n",
      " Account Age Days   | 200.0                                                   \n",
      " Transaction Hour   | NULL                                                    \n",
      "-RECORD 1---------------------------------------------------------------------\n",
      " Transaction ID     | NULL                                                    \n",
      " Customer ID        | 80da4301-1a42-44a9-b988-5fcd68cca741                    \n",
      " Transaction Amount | 63.15                                                   \n",
      " Transaction Date   | 2024-09-10 00:00:00                                     \n",
      " Payment Method     | credit card                                             \n",
      " Product Category   | clothing                                                \n",
      " Quantity           | NULL                                                    \n",
      " Customer Age       | 40.0                                                    \n",
      " Customer Location  | Lake Martinland                                         \n",
      " Device Used        | NULL                                                    \n",
      " IP Address         | NULL                                                    \n",
      " Shipping Address   | 4058 Jay Row\\nLake Marystad, FM 84464                   \n",
      " Billing Address    | 4058 Jay Row\\nLake Marystad, FM 84464                   \n",
      " Is An Alien        | 0.0                                                     \n",
      " Account Age Days   | 145.0                                                   \n",
      " Transaction Hour   | 2.0                                                     \n",
      "-RECORD 2---------------------------------------------------------------------\n",
      " Transaction ID     | 9f3e36b3-2447-41c2-bda3-da0086f3d274                    \n",
      " Customer ID        | 8ec06043-f502-443f-9399-7cd6f6e133b2                    \n",
      " Transaction Amount | 46.26                                                   \n",
      " Transaction Date   | NULL                                                    \n",
      " Payment Method     | credit card                                             \n",
      " Product Category   | clothing                                                \n",
      " Quantity           | 2.0                                                     \n",
      " Customer Age       | NULL                                                    \n",
      " Customer Location  | North Rhondaside                                        \n",
      " Device Used        | tablet                                                  \n",
      " IP Address         | 213.226.163.230                                         \n",
      " Shipping Address   | 325 Daniel Mall Suite 344\\nNew Alexanderport, PW 32053  \n",
      " Billing Address    | NULL                                                    \n",
      " Is An Alien        | 1.0                                                     \n",
      " Account Age Days   | NULL                                                    \n",
      " Transaction Hour   | NULL                                                    \n",
      "-RECORD 3---------------------------------------------------------------------\n",
      " Transaction ID     | facb3132-b14d-418b-9af7-ffa5f57f5ec9                    \n",
      " Customer ID        | e68e69e4-62d2-43ad-9c8f-bd5a2a44d4ee                    \n",
      " Transaction Amount | 116.96                                                  \n",
      " Transaction Date   | NULL                                                    \n",
      " Payment Method     | debit card                                              \n",
      " Product Category   | NULL                                                    \n",
      " Quantity           | 3.0                                                     \n",
      " Customer Age       | 20.0                                                    \n",
      " Customer Location  | Lisastad                                                \n",
      " Device Used        | tablet                                                  \n",
      " IP Address         | 167.93.7.102                                            \n",
      " Shipping Address   | 407 House Plaza Suite 446\\nChristensenchester, GU 88878 \n",
      " Billing Address    | 407 House Plaza Suite 446\\nChristensenchester, GU 88878 \n",
      " Is An Alien        | 0.0                                                     \n",
      " Account Age Days   | 93.0                                                    \n",
      " Transaction Hour   | 18.0                                                    \n",
      "-RECORD 4---------------------------------------------------------------------\n",
      " Transaction ID     | NULL                                                    \n",
      " Customer ID        | 857a7b19-9ecd-44e9-8100-ee2f68e1c47e                    \n",
      " Transaction Amount | 640.61                                                  \n",
      " Transaction Date   | 2020-03-21 00:00:00                                     \n",
      " Payment Method     | debit card                                              \n",
      " Product Category   | health & beauty                                         \n",
      " Quantity           | 2.0                                                     \n",
      " Customer Age       | NULL                                                    \n",
      " Customer Location  | Johnmouth                                               \n",
      " Device Used        | NULL                                                    \n",
      " IP Address         | 210.87.28.26                                            \n",
      " Shipping Address   | 538 Joseph Harbor\\nNew Victoriamouth, VI 37497          \n",
      " Billing Address    | 538 Joseph Harbor\\nNew Victoriamouth, VI 37497          \n",
      " Is An Alien        | 0.0                                                     \n",
      " Account Age Days   | 185.0                                                   \n",
      " Transaction Hour   | 12.0                                                    \n",
      "-RECORD 5---------------------------------------------------------------------\n",
      " Transaction ID     | 658ead0a-e22c-47c5-818a-9c4951619a32                    \n",
      " Customer ID        | 0cb1a959-7b1e-4274-9697-206a1b4f3528                    \n",
      " Transaction Amount | NULL                                                    \n",
      " Transaction Date   | NULL                                                    \n",
      " Payment Method     | NULL                                                    \n",
      " Product Category   | electronics                                             \n",
      " Quantity           | 5.0                                                     \n",
      " Customer Age       | 38.0                                                    \n",
      " Customer Location  | Melissaland                                             \n",
      " Device Used        | desktop                                                 \n",
      " IP Address         | 212.123.150.97                                          \n",
      " Shipping Address   | 137 Timothy Village Apt. 888\\nWest Colleen, VI 77704    \n",
      " Billing Address    | 137 Timothy Village Apt. 888\\nWest Colleen, VI 77704    \n",
      " Is An Alien        | 0.0                                                     \n",
      " Account Age Days   | 262.0                                                   \n",
      " Transaction Hour   | 10.0                                                    \n",
      "-RECORD 6---------------------------------------------------------------------\n",
      " Transaction ID     | 7b10eb02-349d-4247-9d35-c5c9f7689489                    \n",
      " Customer ID        | dbf53e49-73dc-46c4-8373-c21302409cdd                    \n",
      " Transaction Amount | 172.08                                                  \n",
      " Transaction Date   | 2023-10-30 00:00:00                                     \n",
      " Payment Method     | PayPal                                                  \n",
      " Product Category   | NULL                                                    \n",
      " Quantity           | 4.0                                                     \n",
      " Customer Age       | 39.0                                                    \n",
      " Customer Location  | Richardstown                                            \n",
      " Device Used        | desktop                                                 \n",
      " IP Address         | 201.168.192.41                                          \n",
      " Shipping Address   | NULL                                                    \n",
      " Billing Address    | 66511 Mendoza Way\\nNorth Alejandroview, OK 39711        \n",
      " Is An Alien        | NULL                                                    \n",
      " Account Age Days   | 345.0                                                   \n",
      " Transaction Hour   | 10.0                                                    \n",
      "-RECORD 7---------------------------------------------------------------------\n",
      " Transaction ID     | 59cd1289-c821-490c-81c6-15619ff4cf7e                    \n",
      " Customer ID        | NULL                                                    \n",
      " Transaction Amount | NULL                                                    \n",
      " Transaction Date   | NULL                                                    \n",
      " Payment Method     | debit card                                              \n",
      " Product Category   | clothing                                                \n",
      " Quantity           | 2.0                                                     \n",
      " Customer Age       | 29.0                                                    \n",
      " Customer Location  | South Susanville                                        \n",
      " Device Used        | tablet                                                  \n",
      " IP Address         | 178.211.116.186                                         \n",
      " Shipping Address   | 116 Daugherty Crescent Suite 812\\nAmberport, MN 76227   \n",
      " Billing Address    | 116 Daugherty Crescent Suite 812\\nAmberport, MN 76227   \n",
      " Is An Alien        | 0.0                                                     \n",
      " Account Age Days   | 54.0                                                    \n",
      " Transaction Hour   | 9.0                                                     \n",
      "-RECORD 8---------------------------------------------------------------------\n",
      " Transaction ID     | 7d8ee3aa-eee6-4880-a310-69434f96d736                    \n",
      " Customer ID        | e5cb5571-e4f9-4e92-bb15-1ff1a37e5c5d                    \n",
      " Transaction Amount | NULL                                                    \n",
      " Transaction Date   | NULL                                                    \n",
      " Payment Method     | NULL                                                    \n",
      " Product Category   | NULL                                                    \n",
      " Quantity           | NULL                                                    \n",
      " Customer Age       | 29.0                                                    \n",
      " Customer Location  | Port Joseph                                             \n",
      " Device Used        | desktop                                                 \n",
      " IP Address         | 37.166.25.113                                           \n",
      " Shipping Address   | NULL                                                    \n",
      " Billing Address    | USNS Robinson\\nFPO AP 15514                             \n",
      " Is An Alien        | 0.0                                                     \n",
      " Account Age Days   | NULL                                                    \n",
      " Transaction Hour   | 11.0                                                    \n",
      "-RECORD 9---------------------------------------------------------------------\n",
      " Transaction ID     | NULL                                                    \n",
      " Customer ID        | afacf699-a20e-4e24-8e2e-ad8547b2b93c                    \n",
      " Transaction Amount | 599.25                                                  \n",
      " Transaction Date   | NULL                                                    \n",
      " Payment Method     | NULL                                                    \n",
      " Product Category   | NULL                                                    \n",
      " Quantity           | 5.0                                                     \n",
      " Customer Age       | 32.0                                                    \n",
      " Customer Location  | NULL                                                    \n",
      " Device Used        | mobile                                                  \n",
      " IP Address         | 141.100.146.230                                         \n",
      " Shipping Address   | 23633 Erik Shore\\nKeithmouth, MS 90491                  \n",
      " Billing Address    | NULL                                                    \n",
      " Is An Alien        | 0.0                                                     \n",
      " Account Age Days   | 26.0                                                    \n",
      " Transaction Hour   | 19.0                                                    \n",
      "-RECORD 10--------------------------------------------------------------------\n",
      " Transaction ID     | a0dbaa35-fd22-4ab3-b9ca-7f3e2ced9a54                    \n",
      " Customer ID        | NULL                                                    \n",
      " Transaction Amount | 140.8                                                   \n",
      " Transaction Date   | NULL                                                    \n",
      " Payment Method     | debit card                                              \n",
      " Product Category   | clothing                                                \n",
      " Quantity           | NULL                                                    \n",
      " Customer Age       | 40.0                                                    \n",
      " Customer Location  | North Lori                                              \n",
      " Device Used        | tablet                                                  \n",
      " IP Address         | 125.72.131.119                                          \n",
      " Shipping Address   | PSC 3458, Box 9958\\nAPO AE 12079                        \n",
      " Billing Address    | 064 Pineda Ville\\nHarrellport, AR 35454                 \n",
      " Is An Alien        | NULL                                                    \n",
      " Account Age Days   | 325.0                                                   \n",
      " Transaction Hour   | 1.0                                                     \n",
      "-RECORD 11--------------------------------------------------------------------\n",
      " Transaction ID     | 184f5f29-d55b-4976-ac3b-f4be02a8b1f7                    \n",
      " Customer ID        | ed532b0d-0db1-41bf-a507-36615409f67a                    \n",
      " Transaction Amount | 586.62                                                  \n",
      " Transaction Date   | NULL                                                    \n",
      " Payment Method     | bank transfer                                           \n",
      " Product Category   | electronics                                             \n",
      " Quantity           | 5.0                                                     \n",
      " Customer Age       | NULL                                                    \n",
      " Customer Location  | NULL                                                    \n",
      " Device Used        | NULL                                                    \n",
      " IP Address         | 41.140.96.140                                           \n",
      " Shipping Address   | 189 Watson Junction Apt. 204\\nDeckermouth, MN 34294     \n",
      " Billing Address    | 189 Watson Junction Apt. 204\\nDeckermouth, MN 34294     \n",
      " Is An Alien        | 0.0                                                     \n",
      " Account Age Days   | NULL                                                    \n",
      " Transaction Hour   | 7.0                                                     \n",
      "-RECORD 12--------------------------------------------------------------------\n",
      " Transaction ID     | NULL                                                    \n",
      " Customer ID        | 5c37656b-6225-49e6-a8f2-0e4f25df14db                    \n",
      " Transaction Amount | 143.04                                                  \n",
      " Transaction Date   | 2024-08-20 00:00:00                                     \n",
      " Payment Method     | credit card                                             \n",
      " Product Category   | electronics                                             \n",
      " Quantity           | 4.0                                                     \n",
      " Customer Age       | 42.0                                                    \n",
      " Customer Location  | Port Renee                                              \n",
      " Device Used        | NULL                                                    \n",
      " IP Address         | NULL                                                    \n",
      " Shipping Address   | 2273 Macdonald Stream\\nWest Samuelfort, MI 35941        \n",
      " Billing Address    | 2273 Macdonald Stream\\nWest Samuelfort, MI 35941        \n",
      " Is An Alien        | 0.0                                                     \n",
      " Account Age Days   | NULL                                                    \n",
      " Transaction Hour   | 4.0                                                     \n",
      "-RECORD 13--------------------------------------------------------------------\n",
      " Transaction ID     | 10e87bfa-f82a-4e99-80fa-282179052420                    \n",
      " Customer ID        | d89dcb7c-5122-46c2-ab53-f88ffee539db                    \n",
      " Transaction Amount | NULL                                                    \n",
      " Transaction Date   | 2023-06-27 00:00:00                                     \n",
      " Payment Method     | credit card                                             \n",
      " Product Category   | electronics                                             \n",
      " Quantity           | 5.0                                                     \n",
      " Customer Age       | 45.0                                                    \n",
      " Customer Location  | North Madisonton                                        \n",
      " Device Used        | desktop                                                 \n",
      " IP Address         | 178.156.102.83                                          \n",
      " Shipping Address   | 1606 Jennifer Ridge Suite 219\\nSherrytown, MD 20853     \n",
      " Billing Address    | 1606 Jennifer Ridge Suite 219\\nSherrytown, MD 20853     \n",
      " Is An Alien        | 0.0                                                     \n",
      " Account Age Days   | 58.0                                                    \n",
      " Transaction Hour   | 20.0                                                    \n",
      "-RECORD 14--------------------------------------------------------------------\n",
      " Transaction ID     | 070d1882-086e-4339-a7f7-b42c6aebcba4                    \n",
      " Customer ID        | fc62248a-2b8b-4514-b5a0-24290d149b6d                    \n",
      " Transaction Amount | 313.05                                                  \n",
      " Transaction Date   | 2023-06-06 00:00:00                                     \n",
      " Payment Method     | credit card                                             \n",
      " Product Category   | clothing                                                \n",
      " Quantity           | 2.0                                                     \n",
      " Customer Age       | NULL                                                    \n",
      " Customer Location  | Davisborough                                            \n",
      " Device Used        | desktop                                                 \n",
      " IP Address         | 135.71.111.114                                          \n",
      " Shipping Address   | 0988 Matthew Landing Apt. 380\\nHernandezhaven, CT 63557 \n",
      " Billing Address    | 0988 Matthew Landing Apt. 380\\nHernandezhaven, CT 63557 \n",
      " Is An Alien        | NULL                                                    \n",
      " Account Age Days   | NULL                                                    \n",
      " Transaction Hour   | NULL                                                    \n",
      "-RECORD 15--------------------------------------------------------------------\n",
      " Transaction ID     | ab20ec71-4aea-4cab-bd04-cba4fface68c                    \n",
      " Customer ID        | dac2f01d-bd13-47bd-be40-b07dcc9e95c8                    \n",
      " Transaction Amount | 50.86                                                   \n",
      " Transaction Date   | NULL                                                    \n",
      " Payment Method     | PayPal                                                  \n",
      " Product Category   | home & garden                                           \n",
      " Quantity           | NULL                                                    \n",
      " Customer Age       | NULL                                                    \n",
      " Customer Location  | New Angelastad                                          \n",
      " Device Used        | tablet                                                  \n",
      " IP Address         | 161.213.71.229                                          \n",
      " Shipping Address   | 18029 Soto Route Suite 619\\nSouth Johnport, IA 88579    \n",
      " Billing Address    | 18029 Soto Route Suite 619\\nSouth Johnport, IA 88579    \n",
      " Is An Alien        | 0.0                                                     \n",
      " Account Age Days   | 305.0                                                   \n",
      " Transaction Hour   | 9.0                                                     \n",
      "-RECORD 16--------------------------------------------------------------------\n",
      " Transaction ID     | NULL                                                    \n",
      " Customer ID        | 1a24a4e2-8899-4a6e-a43a-b3a550a5af5e                    \n",
      " Transaction Amount | 215.29                                                  \n",
      " Transaction Date   | 2023-09-16 00:00:00                                     \n",
      " Payment Method     | credit card                                             \n",
      " Product Category   | home & garden                                           \n",
      " Quantity           | 3.0                                                     \n",
      " Customer Age       | 35.0                                                    \n",
      " Customer Location  | NULL                                                    \n",
      " Device Used        | NULL                                                    \n",
      " IP Address         | NULL                                                    \n",
      " Shipping Address   | 8646 Hubbard Valley\\nLindsayburgh, ID 49438             \n",
      " Billing Address    | 8646 Hubbard Valley\\nLindsayburgh, ID 49438             \n",
      " Is An Alien        | NULL                                                    \n",
      " Account Age Days   | 107.0                                                   \n",
      " Transaction Hour   | NULL                                                    \n",
      "-RECORD 17--------------------------------------------------------------------\n",
      " Transaction ID     | 7fd115b0-bade-4457-8ea5-cea6ac9247be                    \n",
      " Customer ID        | f346229d-0150-406c-9808-8143b4b4d883                    \n",
      " Transaction Amount | 159.0                                                   \n",
      " Transaction Date   | NULL                                                    \n",
      " Payment Method     | NULL                                                    \n",
      " Product Category   | health & beauty                                         \n",
      " Quantity           | 2.0                                                     \n",
      " Customer Age       | NULL                                                    \n",
      " Customer Location  | New Bobby                                               \n",
      " Device Used        | tablet                                                  \n",
      " IP Address         | NULL                                                    \n",
      " Shipping Address   | 245 Bailey Center\\nWest Chris, NH 46589                 \n",
      " Billing Address    | NULL                                                    \n",
      " Is An Alien        | 0.0                                                     \n",
      " Account Age Days   | 204.0                                                   \n",
      " Transaction Hour   | NULL                                                    \n",
      "-RECORD 18--------------------------------------------------------------------\n",
      " Transaction ID     | NULL                                                    \n",
      " Customer ID        | 2fde6276-09a7-4ee1-907a-b961ac007cd0                    \n",
      " Transaction Amount | 90.76                                                   \n",
      " Transaction Date   | 2018-01-26 00:00:00                                     \n",
      " Payment Method     | bank transfer                                           \n",
      " Product Category   | health & beauty                                         \n",
      " Quantity           | 4.0                                                     \n",
      " Customer Age       | 33.0                                                    \n",
      " Customer Location  | NULL                                                    \n",
      " Device Used        | tablet                                                  \n",
      " IP Address         | NULL                                                    \n",
      " Shipping Address   | USNS Frazier\\nFPO AA 31438                              \n",
      " Billing Address    | USNS Frazier\\nFPO AA 31438                              \n",
      " Is An Alien        | 0.0                                                     \n",
      " Account Age Days   | 275.0                                                   \n",
      " Transaction Hour   | NULL                                                    \n",
      "-RECORD 19--------------------------------------------------------------------\n",
      " Transaction ID     | NULL                                                    \n",
      " Customer ID        | 8a0d3531-896c-4d49-a780-31f825abba1e                    \n",
      " Transaction Amount | NULL                                                    \n",
      " Transaction Date   | 2019-07-01 00:00:00                                     \n",
      " Payment Method     | bank transfer                                           \n",
      " Product Category   | electronics                                             \n",
      " Quantity           | 4.0                                                     \n",
      " Customer Age       | NULL                                                    \n",
      " Customer Location  | Davismouth                                              \n",
      " Device Used        | NULL                                                    \n",
      " IP Address         | 22.24.244.193                                           \n",
      " Shipping Address   | PSC 7759, Box 9198\\nAPO AE 65543                        \n",
      " Billing Address    | PSC 7759, Box 9198\\nAPO AE 65543                        \n",
      " Is An Alien        | 0.0                                                     \n",
      " Account Age Days   | 325.0                                                   \n",
      " Transaction Hour   | NULL                                                    \n",
      "only showing top 20 rows\n",
      "\n"
     ]
    }
   ],
   "source": [
    "#3. Imprima un muestreo aleatorio con el 5% de los datos diponibles. . Hint: utilice .sample()\n",
    "\n",
    "df.sample(fraction = 0.05, seed = 99).show(truncate = False, vertical = True)"
   ]
  },
  {
   "cell_type": "code",
   "execution_count": 7,
   "metadata": {},
   "outputs": [
    {
     "data": {
      "text/plain": [
       "[('Transaction ID', 'string'),\n",
       " ('Customer ID', 'string'),\n",
       " ('Transaction Amount', 'double'),\n",
       " ('Transaction Date', 'timestamp_ntz'),\n",
       " ('Payment Method', 'string'),\n",
       " ('Product Category', 'string'),\n",
       " ('Quantity', 'double'),\n",
       " ('Customer Age', 'double'),\n",
       " ('Customer Location', 'string'),\n",
       " ('Device Used', 'string'),\n",
       " ('IP Address', 'string'),\n",
       " ('Shipping Address', 'string'),\n",
       " ('Billing Address', 'string'),\n",
       " ('Is An Alien', 'double'),\n",
       " ('Account Age Days', 'double'),\n",
       " ('Transaction Hour', 'double')]"
      ]
     },
     "execution_count": 7,
     "metadata": {},
     "output_type": "execute_result"
    }
   ],
   "source": [
    "#4. Revise los tipos de datos de cada columna con .dtypes() y responda la siguiente pregunta:\n",
    "# ¿Cuál/es columna/s tiene/n un tipo de dato que no es el adecuado y por qué?\n",
    "\n",
    "df.dtypes\n",
    "\n",
    "# Para efectos prácticos, la columna problemática sería quantity, debiendo ser integer para evitar cantidades\n",
    "# decimales de productos; y Is An Alien, debiendo ser integer, entendiendose como una variable categorica."
   ]
  },
  {
   "cell_type": "code",
   "execution_count": 8,
   "metadata": {},
   "outputs": [
    {
     "data": {
      "text/plain": [
       "DataFrame[Transaction ID: string, Customer ID: string, Transaction Amount: double, Transaction Date: timestamp_ntz, Payment Method: string, Product Category: string, Quantity: int, Customer Age: double, Customer Location: string, Device Used: string, IP Address: string, Shipping Address: string, Billing Address: string, Is An Alien: int, Account Age Days: double, Transaction Hour: double]"
      ]
     },
     "execution_count": 8,
     "metadata": {},
     "output_type": "execute_result"
    }
   ],
   "source": [
    "#5. Complete el código entregado para cambiar el tipo de datos para la/s columna/s problemáticas.\n",
    "\n",
    "df = df.withColumn('Quantity', df['Quantity'].cast(IntegerType()))\n",
    "df = df.withColumn('Is An Alien', df['Is An Alien'].cast(IntegerType()))\n",
    "df"
   ]
  },
  {
   "cell_type": "code",
   "execution_count": 9,
   "metadata": {},
   "outputs": [
    {
     "name": "stderr",
     "output_type": "stream",
     "text": [
      "\r",
      "[Stage 3:>                                                          (0 + 1) / 1]\r"
     ]
    },
    {
     "name": "stdout",
     "output_type": "stream",
     "text": [
      "-RECORD 0--------------------\n",
      " Transaction ID     | 126886 \n",
      " Customer ID        | 126847 \n",
      " Transaction Amount | 126840 \n",
      " Transaction Date   | 126831 \n",
      " Payment Method     | 126877 \n",
      " Product Category   | 126814 \n",
      " Quantity           | 126966 \n",
      " Customer Age       | 126826 \n",
      " Customer Location  | 126781 \n",
      " Device Used        | 126911 \n",
      " IP Address         | 126929 \n",
      " Shipping Address   | 126734 \n",
      " Billing Address    | 126804 \n",
      " Is An Alien        | 126828 \n",
      " Account Age Days   | 126886 \n",
      " Transaction Hour   | 126953 \n",
      "\n"
     ]
    },
    {
     "name": "stderr",
     "output_type": "stream",
     "text": [
      "\r",
      "                                                                                \r"
     ]
    }
   ],
   "source": [
    "# 6. Cuente la cantidad de datos nulos por variable. \n",
    "# Recuerde que Spark no posee un método que le permita calcular directamente los nulos.\n",
    "\n",
    "from pyspark.sql.functions import col, sum, when\n",
    "\n",
    "null_values = [sum(when(col(c).isNull(), 1).otherwise(0)).alias(c) for c in df.columns]\n",
    "\n",
    "df.agg(*null_values).show(truncate = False, vertical = True)"
   ]
  },
  {
   "cell_type": "code",
   "execution_count": 10,
   "metadata": {},
   "outputs": [],
   "source": [
    "# 7. Elimine datos nulos.\n",
    "\n",
    "df = df.na.drop()"
   ]
  },
  {
   "cell_type": "code",
   "execution_count": 11,
   "metadata": {},
   "outputs": [],
   "source": [
    "#8. Elimine datos duplicados.\n",
    "\n",
    "df = df.dropDuplicates()"
   ]
  },
  {
   "cell_type": "markdown",
   "metadata": {
    "id": "MjxI2Xd6cRu1"
   },
   "source": [
    "### 3. Transformaciones con pyspark [6 puntos]\n",
    "(1 punto por pregunta)"
   ]
  },
  {
   "cell_type": "markdown",
   "metadata": {
    "id": "bPfhWPZeHXUH"
   },
   "source": [
    "<center>\n",
    "<img src=\"https://live.staticflickr.com/13/91801406_0e71d7f019_b.jpg\" width=350 />\n",
    "\n"
   ]
  },
  {
   "cell_type": "markdown",
   "metadata": {
    "id": "lbIDKn44cWhI"
   },
   "source": [
    "**Nota: NO SE PERMITE EL USO DE PANDAS EN ESTA SECCIÓN**\n",
    "\n",
    "Para continuar con el análisis, los especistas de Bodoque les gustaría tener nuevas variables disponibles. Tras las notas de la reunión usted llega a la conclusión de que tiene que realizar las siguientes tareas (con el dataset preprocesado de la seccion anterior):\n",
    "\n",
    "\n",
    "1.   Agregar una columna llamada \"Transaction bp\" con el **monto total** de la transacción en bodoque pesos. Se considera que $x$ dólares equivalen a $log(48+|x^{36}|)$ bodoque pesos.\n",
    "2.   Crear una columna llamada \"Transaction Month\" con el mes en que se realiza una transacción.\n",
    "3.   Crear la variable *Type of purchase* según la catidad de unidades vendidas de acuerdo a las siguientes categorías.\n",
    "  * Compra minorista: 5 productos o menos.\n",
    "  * Compra mayorista: 6 produtos o más.\n",
    "4. Imprima los registros de compras hechas por alienígenas en el comecio mayorista.  Utilice `.filter()`.\n",
    "5. Cuente la cantidad de compras realizadas por humanos y la cantidad de compras realizadas por alienígenas. Utilice `.groupby()`.\n",
    "6. Muestre una tabla con la recaudación promedio por transacción para cada método de pago, tanto para humanos como alienígenas. Utilice `pivot()`."
   ]
  },
  {
   "cell_type": "code",
   "execution_count": 12,
   "metadata": {},
   "outputs": [
    {
     "name": "stderr",
     "output_type": "stream",
     "text": [
      "\r",
      "[Stage 6:>                                                          (0 + 1) / 1]\r"
     ]
    },
    {
     "name": "stdout",
     "output_type": "stream",
     "text": [
      "-RECORD 0--------------------------------------------------------\n",
      " Transaction ID     | 530a4f63-7bda-41d9-b796-bd4a70a9bf76       \n",
      " Customer ID        | 6eb13ca7-4c3c-4563-a5e7-04f81ca29260       \n",
      " Transaction Amount | 117.07                                     \n",
      " Transaction Date   | 2023-07-24 00:00:00                        \n",
      " Payment Method     | credit card                                \n",
      " Product Category   | clothing                                   \n",
      " Quantity           | 1                                          \n",
      " Customer Age       | 43.0                                       \n",
      " Customer Location  | Fullerberg                                 \n",
      " Device Used        | tablet                                     \n",
      " IP Address         | 55.96.41.26                                \n",
      " Shipping Address   | 5962 Dodson Trafficway\\nSaratown, MN 81404 \n",
      " Billing Address    | 5962 Dodson Trafficway\\nSaratown, MN 81404 \n",
      " Is An Alien        | 0                                          \n",
      " Account Age Days   | 50.0                                       \n",
      " Transaction Hour   | 10.0                                       \n",
      " Transaction bp     | 74.46404226075666                          \n",
      "-RECORD 1--------------------------------------------------------\n",
      " Transaction ID     | 416dbe38-0a22-4198-824e-df8e91bb03b2       \n",
      " Customer ID        | 6913cd48-558e-488f-8eca-c042c5b0cb0b       \n",
      " Transaction Amount | 835.13                                     \n",
      " Transaction Date   | 2023-09-07 00:00:00                        \n",
      " Payment Method     | bank transfer                              \n",
      " Product Category   | home & garden                              \n",
      " Quantity           | 4                                          \n",
      " Customer Age       | 28.0                                       \n",
      " Customer Location  | East Mark                                  \n",
      " Device Used        | tablet                                     \n",
      " IP Address         | 28.67.160.133                              \n",
      " Shipping Address   | 668 John Lane\\nNew Richardburgh, WY 18021  \n",
      " Billing Address    | 668 John Lane\\nNew Richardburgh, WY 18021  \n",
      " Is An Alien        | 0                                          \n",
      " Account Age Days   | 24.0                                       \n",
      " Transaction Hour   | 22.0                                       \n",
      " Transaction bp     | 105.18314705749746                         \n",
      "only showing top 2 rows\n",
      "\n"
     ]
    },
    {
     "name": "stderr",
     "output_type": "stream",
     "text": [
      "\r",
      "                                                                                \r"
     ]
    }
   ],
   "source": [
    "#1. Agregar una columna llamada \"Transaction bp\" con el monto total de la transacción en bodoque pesos.\n",
    "\n",
    "from pyspark.sql.functions import log10, abs\n",
    "\n",
    "df = df.withColumn(\"Transaction bp\", \n",
    "                      log10(48 + abs(df[\"Transaction Amount\"])**36))\n",
    "\n",
    "df.show(2, truncate = False, vertical = True)"
   ]
  },
  {
   "cell_type": "code",
   "execution_count": 13,
   "metadata": {
    "scrolled": true
   },
   "outputs": [
    {
     "name": "stderr",
     "output_type": "stream",
     "text": [
      "\r",
      "[Stage 9:>                                                          (0 + 1) / 1]\r"
     ]
    },
    {
     "name": "stdout",
     "output_type": "stream",
     "text": [
      "-RECORD 0--------------------------------------------------------\n",
      " Transaction ID     | 530a4f63-7bda-41d9-b796-bd4a70a9bf76       \n",
      " Customer ID        | 6eb13ca7-4c3c-4563-a5e7-04f81ca29260       \n",
      " Transaction Amount | 117.07                                     \n",
      " Transaction Date   | 2023-07-24 00:00:00                        \n",
      " Payment Method     | credit card                                \n",
      " Product Category   | clothing                                   \n",
      " Quantity           | 1                                          \n",
      " Customer Age       | 43.0                                       \n",
      " Customer Location  | Fullerberg                                 \n",
      " Device Used        | tablet                                     \n",
      " IP Address         | 55.96.41.26                                \n",
      " Shipping Address   | 5962 Dodson Trafficway\\nSaratown, MN 81404 \n",
      " Billing Address    | 5962 Dodson Trafficway\\nSaratown, MN 81404 \n",
      " Is An Alien        | 0                                          \n",
      " Account Age Days   | 50.0                                       \n",
      " Transaction Hour   | 10.0                                       \n",
      " Transaction bp     | 74.46404226075666                          \n",
      " Transaction Month  | 7                                          \n",
      "-RECORD 1--------------------------------------------------------\n",
      " Transaction ID     | 416dbe38-0a22-4198-824e-df8e91bb03b2       \n",
      " Customer ID        | 6913cd48-558e-488f-8eca-c042c5b0cb0b       \n",
      " Transaction Amount | 835.13                                     \n",
      " Transaction Date   | 2023-09-07 00:00:00                        \n",
      " Payment Method     | bank transfer                              \n",
      " Product Category   | home & garden                              \n",
      " Quantity           | 4                                          \n",
      " Customer Age       | 28.0                                       \n",
      " Customer Location  | East Mark                                  \n",
      " Device Used        | tablet                                     \n",
      " IP Address         | 28.67.160.133                              \n",
      " Shipping Address   | 668 John Lane\\nNew Richardburgh, WY 18021  \n",
      " Billing Address    | 668 John Lane\\nNew Richardburgh, WY 18021  \n",
      " Is An Alien        | 0                                          \n",
      " Account Age Days   | 24.0                                       \n",
      " Transaction Hour   | 22.0                                       \n",
      " Transaction bp     | 105.18314705749746                         \n",
      " Transaction Month  | 9                                          \n",
      "only showing top 2 rows\n",
      "\n"
     ]
    },
    {
     "name": "stderr",
     "output_type": "stream",
     "text": [
      "\r",
      "                                                                                \r"
     ]
    }
   ],
   "source": [
    "#2. Crear una columna llamada \"Transaction Month\" con el mes en que se realiza una transacción.\n",
    "\n",
    "from pyspark.sql.functions import month\n",
    "\n",
    "df = df.withColumn(\"Transaction Month\", month(\"Transaction Date\"))\n",
    "\n",
    "df.show(2, truncate = False, vertical = True)"
   ]
  },
  {
   "cell_type": "code",
   "execution_count": 14,
   "metadata": {
    "scrolled": true
   },
   "outputs": [
    {
     "name": "stderr",
     "output_type": "stream",
     "text": [
      "\r",
      "[Stage 12:>                                                         (0 + 1) / 1]\r"
     ]
    },
    {
     "name": "stdout",
     "output_type": "stream",
     "text": [
      "-RECORD 0--------------------------------------------------------\n",
      " Transaction ID     | 530a4f63-7bda-41d9-b796-bd4a70a9bf76       \n",
      " Customer ID        | 6eb13ca7-4c3c-4563-a5e7-04f81ca29260       \n",
      " Transaction Amount | 117.07                                     \n",
      " Transaction Date   | 2023-07-24 00:00:00                        \n",
      " Payment Method     | credit card                                \n",
      " Product Category   | clothing                                   \n",
      " Quantity           | 1                                          \n",
      " Customer Age       | 43.0                                       \n",
      " Customer Location  | Fullerberg                                 \n",
      " Device Used        | tablet                                     \n",
      " IP Address         | 55.96.41.26                                \n",
      " Shipping Address   | 5962 Dodson Trafficway\\nSaratown, MN 81404 \n",
      " Billing Address    | 5962 Dodson Trafficway\\nSaratown, MN 81404 \n",
      " Is An Alien        | 0                                          \n",
      " Account Age Days   | 50.0                                       \n",
      " Transaction Hour   | 10.0                                       \n",
      " Transaction bp     | 74.46404226075666                          \n",
      " Transaction Month  | 7                                          \n",
      " Type of purchase   | Compra minorista                           \n",
      "-RECORD 1--------------------------------------------------------\n",
      " Transaction ID     | 416dbe38-0a22-4198-824e-df8e91bb03b2       \n",
      " Customer ID        | 6913cd48-558e-488f-8eca-c042c5b0cb0b       \n",
      " Transaction Amount | 835.13                                     \n",
      " Transaction Date   | 2023-09-07 00:00:00                        \n",
      " Payment Method     | bank transfer                              \n",
      " Product Category   | home & garden                              \n",
      " Quantity           | 4                                          \n",
      " Customer Age       | 28.0                                       \n",
      " Customer Location  | East Mark                                  \n",
      " Device Used        | tablet                                     \n",
      " IP Address         | 28.67.160.133                              \n",
      " Shipping Address   | 668 John Lane\\nNew Richardburgh, WY 18021  \n",
      " Billing Address    | 668 John Lane\\nNew Richardburgh, WY 18021  \n",
      " Is An Alien        | 0                                          \n",
      " Account Age Days   | 24.0                                       \n",
      " Transaction Hour   | 22.0                                       \n",
      " Transaction bp     | 105.18314705749746                         \n",
      " Transaction Month  | 9                                          \n",
      " Type of purchase   | Compra minorista                           \n",
      "only showing top 2 rows\n",
      "\n"
     ]
    },
    {
     "name": "stderr",
     "output_type": "stream",
     "text": [
      "\r",
      "                                                                                \r"
     ]
    }
   ],
   "source": [
    "#3. Crear la variable Type of purchase según la catidad de unidades vendidas\n",
    "\n",
    "from pyspark.sql.functions import when\n",
    "\n",
    "df = df.withColumn(\"Type of purchase\",\n",
    "                   when(df[\"Quantity\"]<= 5, \"Compra minorista\")\n",
    "                   .otherwise(\"Compra mayorista\"))\n",
    "\n",
    "df.show(2, truncate = False, vertical = True)"
   ]
  },
  {
   "cell_type": "code",
   "execution_count": 15,
   "metadata": {
    "scrolled": false
   },
   "outputs": [
    {
     "name": "stderr",
     "output_type": "stream",
     "text": [
      "\r",
      "[Stage 15:>                                                         (0 + 1) / 1]\r"
     ]
    },
    {
     "name": "stdout",
     "output_type": "stream",
     "text": [
      "(0 rows)\n",
      "\n"
     ]
    }
   ],
   "source": [
    "#4. Imprima los registros de compras hechas por alienígenas en el comecio mayorista. Utilice .filter().\n",
    "\n",
    "df.filter((df['Type of purchase'] == 'Compra mayorista') &\n",
    "          (df['Is An Alien'] == 0)).show(truncate = False, vertical = True)"
   ]
  },
  {
   "cell_type": "code",
   "execution_count": 16,
   "metadata": {},
   "outputs": [
    {
     "name": "stdout",
     "output_type": "stream",
     "text": [
      "+-----------+-------------------+\n",
      "|Is An Alien|Cantidad de compras|\n",
      "+-----------+-------------------+\n",
      "|          1|                688|\n",
      "|          0|              12700|\n",
      "+-----------+-------------------+\n",
      "\n"
     ]
    },
    {
     "name": "stderr",
     "output_type": "stream",
     "text": [
      "\r",
      "                                                                                \r"
     ]
    }
   ],
   "source": [
    "#5. Cuente la cantidad de compras realizadas por humanos y \n",
    "# la cantidad de compras realizadas por alienígenas. Utilice .groupby().\n",
    "\n",
    "from pyspark.sql.functions import count\n",
    "\n",
    "df.groupBy(\"Is An Alien\").agg(count(\"*\").alias(\"Cantidad de compras\")).show()"
   ]
  },
  {
   "cell_type": "code",
   "execution_count": 17,
   "metadata": {},
   "outputs": [
    {
     "name": "stderr",
     "output_type": "stream",
     "text": [
      "                                                                                \r"
     ]
    },
    {
     "name": "stdout",
     "output_type": "stream",
     "text": [
      "+--------------+------------------+------------------+\n",
      "|Payment Method|                 0|                 1|\n",
      "+--------------+------------------+------------------+\n",
      "|    debit card|215.21641883519246| 547.1965168539324|\n",
      "| bank transfer|215.15149230285914| 547.6004624277457|\n",
      "|        PayPal|215.12598584753957|469.51776470588214|\n",
      "|   credit card| 206.3112232704407| 517.7530538922159|\n",
      "+--------------+------------------+------------------+\n",
      "\n"
     ]
    }
   ],
   "source": [
    "#6. Muestre una tabla con la recaudación promedio por transacción para cada método de pago,\n",
    "# tanto para humanos como alienígenas. Utilice pivot()\n",
    "\n",
    "df.groupBy(\"Payment Method\").pivot('Is An Alien').mean(\"Transaction Amount\").show()\n"
   ]
  },
  {
   "cell_type": "markdown",
   "metadata": {
    "id": "17Muj6u2jOLq"
   },
   "source": [
    "### 4. EDA [18 puntos]\n",
    "(1 punto por gráfico y 1 punto por su interpretación)"
   ]
  },
  {
   "cell_type": "markdown",
   "metadata": {
    "id": "7F3yo66wFQ0z"
   },
   "source": [
    "<center>\n",
    "<img src=\"https://i.pinimg.com/originals/41/7e/7b/417e7b9089bcc20c4909df8954c6e742.gif\" width=400 />\n",
    "\n"
   ]
  },
  {
   "cell_type": "markdown",
   "metadata": {
    "id": "ayN5LYRamE7-"
   },
   "source": [
    "Esta sección tiene como objetivo evaluar su habilidad para generar reportes y conclusiones a partir de los patrones identificados en los datos proporcionados por Bodoque. Específicamente, se enfoca en **caracterizar las transacciones** y **explorar las diferencias y similitudes en el comportamiento de humanos y aliens**. Utilice el dataset que ya incluye las transformaciones necesarias.\n",
    "\n",
    "Por favor, asegúrese de que **todas** las visualizaciones que realice cumplan con los siguientes criterios:\n",
    "- Deben ser relevantes y fáciles de interpretar.\n",
    "- Cada gráfico debe incluir un título claro, nombres en los ejes y leyendas adecuadas.\n",
    "- Adjunte una breve descripción interpretativa junto a cada gráfico para explicar los resultados visualizados.\n",
    "\n",
    "Para llevar a cabo esta tarea, siga los siguientes pasos utilizando la librería de visualización de su elección (matplotlib, seaborn, plotly, etc):\n",
    "\n",
    "1. **Conversión del DataFrame a formato pandas**: Pase el DataFrame procesado a formato pandas. Evite realizar transformaciones adicionales con pandas.\n",
    "2. **Visualización de Variables Categóricas**:\n",
    "   - Genere **tres gráficos de barras** que diferencien entre humanos y aliens. Analice y comente cualquier diferencia o similitud observada entre estos dos grupos.\n",
    "3. **Visualización de Variables Numéricas**:\n",
    "   - Elabore **tres distplots** para examinar las distribuciones de variables numéricas, diferenciando entre humanos y aliens. Comente las diferencias o similitudes notables.\n",
    "4. **Análisis de Patrones en Transacciones**:\n",
    "   - Cree **tres gráficos avanzados** que ayuden a identificar patrones en las transacciones. Estos gráficos deben incorporar al menos dos dimensiones y diferir de los anteriores. Algunos ejemplos podrían ser un lineplot que muestre la cantidad de transacciones mensuales por canal de venta, o un barplot que exhiba los tres productos más vendidos por canal.\n",
    "\n",
    "Estos pasos le permitirán no solo visualizar datos complejos de manera efectiva, sino también interpretar estos datos para extraer insights valiosos acerca del comportamiento de los consumidores en el contexto de Bodoque."
   ]
  },
  {
   "cell_type": "markdown",
   "metadata": {},
   "source": [
    "**Respuestas**"
   ]
  },
  {
   "cell_type": "markdown",
   "metadata": {},
   "source": [
    "**1. Conversión del DataFrame a formato pandas**"
   ]
  },
  {
   "cell_type": "code",
   "execution_count": 18,
   "metadata": {},
   "outputs": [
    {
     "name": "stderr",
     "output_type": "stream",
     "text": [
      "                                                                                \r"
     ]
    },
    {
     "data": {
      "text/html": [
       "<div>\n",
       "<style scoped>\n",
       "    .dataframe tbody tr th:only-of-type {\n",
       "        vertical-align: middle;\n",
       "    }\n",
       "\n",
       "    .dataframe tbody tr th {\n",
       "        vertical-align: top;\n",
       "    }\n",
       "\n",
       "    .dataframe thead th {\n",
       "        text-align: right;\n",
       "    }\n",
       "</style>\n",
       "<table border=\"1\" class=\"dataframe\">\n",
       "  <thead>\n",
       "    <tr style=\"text-align: right;\">\n",
       "      <th></th>\n",
       "      <th>Transaction ID</th>\n",
       "      <th>Customer ID</th>\n",
       "      <th>Transaction Amount</th>\n",
       "      <th>Transaction Date</th>\n",
       "      <th>Payment Method</th>\n",
       "      <th>Product Category</th>\n",
       "      <th>Quantity</th>\n",
       "      <th>Customer Age</th>\n",
       "      <th>Customer Location</th>\n",
       "      <th>Device Used</th>\n",
       "      <th>IP Address</th>\n",
       "      <th>Shipping Address</th>\n",
       "      <th>Billing Address</th>\n",
       "      <th>Is An Alien</th>\n",
       "      <th>Account Age Days</th>\n",
       "      <th>Transaction Hour</th>\n",
       "      <th>Transaction bp</th>\n",
       "      <th>Transaction Month</th>\n",
       "      <th>Type of purchase</th>\n",
       "    </tr>\n",
       "  </thead>\n",
       "  <tbody>\n",
       "    <tr>\n",
       "      <th>0</th>\n",
       "      <td>530a4f63-7bda-41d9-b796-bd4a70a9bf76</td>\n",
       "      <td>6eb13ca7-4c3c-4563-a5e7-04f81ca29260</td>\n",
       "      <td>117.07</td>\n",
       "      <td>2023-07-24</td>\n",
       "      <td>credit card</td>\n",
       "      <td>clothing</td>\n",
       "      <td>1</td>\n",
       "      <td>43.0</td>\n",
       "      <td>Fullerberg</td>\n",
       "      <td>tablet</td>\n",
       "      <td>55.96.41.26</td>\n",
       "      <td>5962 Dodson Trafficway\\nSaratown, MN 81404</td>\n",
       "      <td>5962 Dodson Trafficway\\nSaratown, MN 81404</td>\n",
       "      <td>0</td>\n",
       "      <td>50.0</td>\n",
       "      <td>10.0</td>\n",
       "      <td>74.464042</td>\n",
       "      <td>7</td>\n",
       "      <td>Compra minorista</td>\n",
       "    </tr>\n",
       "    <tr>\n",
       "      <th>1</th>\n",
       "      <td>416dbe38-0a22-4198-824e-df8e91bb03b2</td>\n",
       "      <td>6913cd48-558e-488f-8eca-c042c5b0cb0b</td>\n",
       "      <td>835.13</td>\n",
       "      <td>2023-09-07</td>\n",
       "      <td>bank transfer</td>\n",
       "      <td>home &amp; garden</td>\n",
       "      <td>4</td>\n",
       "      <td>28.0</td>\n",
       "      <td>East Mark</td>\n",
       "      <td>tablet</td>\n",
       "      <td>28.67.160.133</td>\n",
       "      <td>668 John Lane\\nNew Richardburgh, WY 18021</td>\n",
       "      <td>668 John Lane\\nNew Richardburgh, WY 18021</td>\n",
       "      <td>0</td>\n",
       "      <td>24.0</td>\n",
       "      <td>22.0</td>\n",
       "      <td>105.183147</td>\n",
       "      <td>9</td>\n",
       "      <td>Compra minorista</td>\n",
       "    </tr>\n",
       "    <tr>\n",
       "      <th>2</th>\n",
       "      <td>3dc75b43-57b1-4150-9287-042acd9ab545</td>\n",
       "      <td>508b8f87-637e-47aa-89bb-7684530e26dc</td>\n",
       "      <td>146.71</td>\n",
       "      <td>2018-10-25</td>\n",
       "      <td>bank transfer</td>\n",
       "      <td>toys &amp; games</td>\n",
       "      <td>2</td>\n",
       "      <td>43.0</td>\n",
       "      <td>Cortezchester</td>\n",
       "      <td>tablet</td>\n",
       "      <td>81.203.178.152</td>\n",
       "      <td>3263 King Route\\nEast Christopherport, NJ 73670</td>\n",
       "      <td>3263 King Route\\nEast Christopherport, NJ 73670</td>\n",
       "      <td>0</td>\n",
       "      <td>234.0</td>\n",
       "      <td>2.0</td>\n",
       "      <td>77.992550</td>\n",
       "      <td>10</td>\n",
       "      <td>Compra minorista</td>\n",
       "    </tr>\n",
       "    <tr>\n",
       "      <th>3</th>\n",
       "      <td>a3217541-b6f1-4467-ad01-700d8afae4a8</td>\n",
       "      <td>a0d2baca-bdc9-43e2-8ad1-cc1998ab9b48</td>\n",
       "      <td>217.68</td>\n",
       "      <td>2020-05-04</td>\n",
       "      <td>credit card</td>\n",
       "      <td>clothing</td>\n",
       "      <td>2</td>\n",
       "      <td>30.0</td>\n",
       "      <td>Lake Todd</td>\n",
       "      <td>desktop</td>\n",
       "      <td>110.174.180.48</td>\n",
       "      <td>31724 Joseph Ports\\nEast Christopher, SC 48780</td>\n",
       "      <td>31724 Joseph Ports\\nEast Christopher, SC 48780</td>\n",
       "      <td>0</td>\n",
       "      <td>179.0</td>\n",
       "      <td>19.0</td>\n",
       "      <td>84.161467</td>\n",
       "      <td>5</td>\n",
       "      <td>Compra minorista</td>\n",
       "    </tr>\n",
       "    <tr>\n",
       "      <th>4</th>\n",
       "      <td>99481a7d-3c74-492d-b8f2-36b18e478113</td>\n",
       "      <td>d8534365-f682-470e-b590-70640fb472a9</td>\n",
       "      <td>1008.77</td>\n",
       "      <td>2024-02-18</td>\n",
       "      <td>PayPal</td>\n",
       "      <td>electronics</td>\n",
       "      <td>3</td>\n",
       "      <td>33.0</td>\n",
       "      <td>Whitneymouth</td>\n",
       "      <td>desktop</td>\n",
       "      <td>95.93.23.67</td>\n",
       "      <td>16455 Corey Expressway Apt. 119\\nBoothchester,...</td>\n",
       "      <td>16455 Corey Expressway Apt. 119\\nBoothchester,...</td>\n",
       "      <td>0</td>\n",
       "      <td>41.0</td>\n",
       "      <td>16.0</td>\n",
       "      <td>108.136518</td>\n",
       "      <td>2</td>\n",
       "      <td>Compra minorista</td>\n",
       "    </tr>\n",
       "    <tr>\n",
       "      <th>...</th>\n",
       "      <td>...</td>\n",
       "      <td>...</td>\n",
       "      <td>...</td>\n",
       "      <td>...</td>\n",
       "      <td>...</td>\n",
       "      <td>...</td>\n",
       "      <td>...</td>\n",
       "      <td>...</td>\n",
       "      <td>...</td>\n",
       "      <td>...</td>\n",
       "      <td>...</td>\n",
       "      <td>...</td>\n",
       "      <td>...</td>\n",
       "      <td>...</td>\n",
       "      <td>...</td>\n",
       "      <td>...</td>\n",
       "      <td>...</td>\n",
       "      <td>...</td>\n",
       "      <td>...</td>\n",
       "    </tr>\n",
       "    <tr>\n",
       "      <th>13383</th>\n",
       "      <td>e08b26c7-f4a3-4929-89e2-8b6696664bdd</td>\n",
       "      <td>a87b716c-b6f1-458c-ab59-408f7260f151</td>\n",
       "      <td>364.65</td>\n",
       "      <td>2021-11-09</td>\n",
       "      <td>bank transfer</td>\n",
       "      <td>health &amp; beauty</td>\n",
       "      <td>1</td>\n",
       "      <td>36.0</td>\n",
       "      <td>South Amandashire</td>\n",
       "      <td>tablet</td>\n",
       "      <td>20.223.228.239</td>\n",
       "      <td>3791 Perez Village Apt. 779\\nWest Cynthiaville...</td>\n",
       "      <td>USS Barnes\\nFPO AP 09198</td>\n",
       "      <td>1</td>\n",
       "      <td>5.0</td>\n",
       "      <td>10.0</td>\n",
       "      <td>92.227544</td>\n",
       "      <td>11</td>\n",
       "      <td>Compra minorista</td>\n",
       "    </tr>\n",
       "    <tr>\n",
       "      <th>13384</th>\n",
       "      <td>f3e51a01-7f26-4301-955d-232d4fed032d</td>\n",
       "      <td>44c18cdf-8791-4ca1-aa8a-27299ef8234a</td>\n",
       "      <td>474.83</td>\n",
       "      <td>2021-04-30</td>\n",
       "      <td>PayPal</td>\n",
       "      <td>electronics</td>\n",
       "      <td>3</td>\n",
       "      <td>49.0</td>\n",
       "      <td>Flynnfurt</td>\n",
       "      <td>mobile</td>\n",
       "      <td>11.232.241.218</td>\n",
       "      <td>7598 George Coves\\nEast Christinachester, FM 0...</td>\n",
       "      <td>7598 George Coves\\nEast Christinachester, FM 0...</td>\n",
       "      <td>0</td>\n",
       "      <td>5.0</td>\n",
       "      <td>17.0</td>\n",
       "      <td>96.355373</td>\n",
       "      <td>4</td>\n",
       "      <td>Compra minorista</td>\n",
       "    </tr>\n",
       "    <tr>\n",
       "      <th>13385</th>\n",
       "      <td>e150a382-a053-492c-b62d-5f95441761d6</td>\n",
       "      <td>44c66e27-9dcb-43d6-883c-a3411df29bc6</td>\n",
       "      <td>76.96</td>\n",
       "      <td>2022-07-22</td>\n",
       "      <td>debit card</td>\n",
       "      <td>clothing</td>\n",
       "      <td>1</td>\n",
       "      <td>47.0</td>\n",
       "      <td>North Laura</td>\n",
       "      <td>tablet</td>\n",
       "      <td>34.140.98.244</td>\n",
       "      <td>Unit 9694 Box 4455\\nDPO AP 02105</td>\n",
       "      <td>Unit 9694 Box 4455\\nDPO AP 02105</td>\n",
       "      <td>0</td>\n",
       "      <td>30.0</td>\n",
       "      <td>20.0</td>\n",
       "      <td>67.905542</td>\n",
       "      <td>7</td>\n",
       "      <td>Compra minorista</td>\n",
       "    </tr>\n",
       "    <tr>\n",
       "      <th>13386</th>\n",
       "      <td>3247ae2c-79c9-48fd-bdbd-8bb7fdebfffe</td>\n",
       "      <td>4af1cb31-268c-4728-883e-6ea78a9b3111</td>\n",
       "      <td>117.03</td>\n",
       "      <td>2020-03-02</td>\n",
       "      <td>credit card</td>\n",
       "      <td>clothing</td>\n",
       "      <td>2</td>\n",
       "      <td>40.0</td>\n",
       "      <td>Thomasberg</td>\n",
       "      <td>tablet</td>\n",
       "      <td>111.33.119.74</td>\n",
       "      <td>8679 Wright Bridge Apt. 682\\nWest Matthew, MS ...</td>\n",
       "      <td>8679 Wright Bridge Apt. 682\\nWest Matthew, MS ...</td>\n",
       "      <td>0</td>\n",
       "      <td>118.0</td>\n",
       "      <td>18.0</td>\n",
       "      <td>74.458699</td>\n",
       "      <td>3</td>\n",
       "      <td>Compra minorista</td>\n",
       "    </tr>\n",
       "    <tr>\n",
       "      <th>13387</th>\n",
       "      <td>72289425-b10d-446e-952e-8e7aa4485190</td>\n",
       "      <td>fa17eed0-d067-4e05-8c02-e01637aae3c3</td>\n",
       "      <td>58.50</td>\n",
       "      <td>2023-06-14</td>\n",
       "      <td>debit card</td>\n",
       "      <td>toys &amp; games</td>\n",
       "      <td>1</td>\n",
       "      <td>25.0</td>\n",
       "      <td>South Andrewmouth</td>\n",
       "      <td>tablet</td>\n",
       "      <td>126.220.162.155</td>\n",
       "      <td>0388 Walker Drives\\nJohnstonfort, IA 23458</td>\n",
       "      <td>0388 Walker Drives\\nJohnstonfort, IA 23458</td>\n",
       "      <td>0</td>\n",
       "      <td>209.0</td>\n",
       "      <td>21.0</td>\n",
       "      <td>63.617611</td>\n",
       "      <td>6</td>\n",
       "      <td>Compra minorista</td>\n",
       "    </tr>\n",
       "  </tbody>\n",
       "</table>\n",
       "<p>13388 rows × 19 columns</p>\n",
       "</div>"
      ],
      "text/plain": [
       "                             Transaction ID  \\\n",
       "0      530a4f63-7bda-41d9-b796-bd4a70a9bf76   \n",
       "1      416dbe38-0a22-4198-824e-df8e91bb03b2   \n",
       "2      3dc75b43-57b1-4150-9287-042acd9ab545   \n",
       "3      a3217541-b6f1-4467-ad01-700d8afae4a8   \n",
       "4      99481a7d-3c74-492d-b8f2-36b18e478113   \n",
       "...                                     ...   \n",
       "13383  e08b26c7-f4a3-4929-89e2-8b6696664bdd   \n",
       "13384  f3e51a01-7f26-4301-955d-232d4fed032d   \n",
       "13385  e150a382-a053-492c-b62d-5f95441761d6   \n",
       "13386  3247ae2c-79c9-48fd-bdbd-8bb7fdebfffe   \n",
       "13387  72289425-b10d-446e-952e-8e7aa4485190   \n",
       "\n",
       "                                Customer ID  Transaction Amount  \\\n",
       "0      6eb13ca7-4c3c-4563-a5e7-04f81ca29260              117.07   \n",
       "1      6913cd48-558e-488f-8eca-c042c5b0cb0b              835.13   \n",
       "2      508b8f87-637e-47aa-89bb-7684530e26dc              146.71   \n",
       "3      a0d2baca-bdc9-43e2-8ad1-cc1998ab9b48              217.68   \n",
       "4      d8534365-f682-470e-b590-70640fb472a9             1008.77   \n",
       "...                                     ...                 ...   \n",
       "13383  a87b716c-b6f1-458c-ab59-408f7260f151              364.65   \n",
       "13384  44c18cdf-8791-4ca1-aa8a-27299ef8234a              474.83   \n",
       "13385  44c66e27-9dcb-43d6-883c-a3411df29bc6               76.96   \n",
       "13386  4af1cb31-268c-4728-883e-6ea78a9b3111              117.03   \n",
       "13387  fa17eed0-d067-4e05-8c02-e01637aae3c3               58.50   \n",
       "\n",
       "      Transaction Date Payment Method Product Category  Quantity  \\\n",
       "0           2023-07-24    credit card         clothing         1   \n",
       "1           2023-09-07  bank transfer    home & garden         4   \n",
       "2           2018-10-25  bank transfer     toys & games         2   \n",
       "3           2020-05-04    credit card         clothing         2   \n",
       "4           2024-02-18         PayPal      electronics         3   \n",
       "...                ...            ...              ...       ...   \n",
       "13383       2021-11-09  bank transfer  health & beauty         1   \n",
       "13384       2021-04-30         PayPal      electronics         3   \n",
       "13385       2022-07-22     debit card         clothing         1   \n",
       "13386       2020-03-02    credit card         clothing         2   \n",
       "13387       2023-06-14     debit card     toys & games         1   \n",
       "\n",
       "       Customer Age  Customer Location Device Used       IP Address  \\\n",
       "0              43.0         Fullerberg      tablet      55.96.41.26   \n",
       "1              28.0          East Mark      tablet    28.67.160.133   \n",
       "2              43.0      Cortezchester      tablet   81.203.178.152   \n",
       "3              30.0          Lake Todd     desktop   110.174.180.48   \n",
       "4              33.0       Whitneymouth     desktop      95.93.23.67   \n",
       "...             ...                ...         ...              ...   \n",
       "13383          36.0  South Amandashire      tablet   20.223.228.239   \n",
       "13384          49.0          Flynnfurt      mobile   11.232.241.218   \n",
       "13385          47.0        North Laura      tablet    34.140.98.244   \n",
       "13386          40.0         Thomasberg      tablet    111.33.119.74   \n",
       "13387          25.0  South Andrewmouth      tablet  126.220.162.155   \n",
       "\n",
       "                                        Shipping Address  \\\n",
       "0             5962 Dodson Trafficway\\nSaratown, MN 81404   \n",
       "1              668 John Lane\\nNew Richardburgh, WY 18021   \n",
       "2        3263 King Route\\nEast Christopherport, NJ 73670   \n",
       "3         31724 Joseph Ports\\nEast Christopher, SC 48780   \n",
       "4      16455 Corey Expressway Apt. 119\\nBoothchester,...   \n",
       "...                                                  ...   \n",
       "13383  3791 Perez Village Apt. 779\\nWest Cynthiaville...   \n",
       "13384  7598 George Coves\\nEast Christinachester, FM 0...   \n",
       "13385                   Unit 9694 Box 4455\\nDPO AP 02105   \n",
       "13386  8679 Wright Bridge Apt. 682\\nWest Matthew, MS ...   \n",
       "13387         0388 Walker Drives\\nJohnstonfort, IA 23458   \n",
       "\n",
       "                                         Billing Address  Is An Alien  \\\n",
       "0             5962 Dodson Trafficway\\nSaratown, MN 81404            0   \n",
       "1              668 John Lane\\nNew Richardburgh, WY 18021            0   \n",
       "2        3263 King Route\\nEast Christopherport, NJ 73670            0   \n",
       "3         31724 Joseph Ports\\nEast Christopher, SC 48780            0   \n",
       "4      16455 Corey Expressway Apt. 119\\nBoothchester,...            0   \n",
       "...                                                  ...          ...   \n",
       "13383                           USS Barnes\\nFPO AP 09198            1   \n",
       "13384  7598 George Coves\\nEast Christinachester, FM 0...            0   \n",
       "13385                   Unit 9694 Box 4455\\nDPO AP 02105            0   \n",
       "13386  8679 Wright Bridge Apt. 682\\nWest Matthew, MS ...            0   \n",
       "13387         0388 Walker Drives\\nJohnstonfort, IA 23458            0   \n",
       "\n",
       "       Account Age Days  Transaction Hour  Transaction bp  Transaction Month  \\\n",
       "0                  50.0              10.0       74.464042                  7   \n",
       "1                  24.0              22.0      105.183147                  9   \n",
       "2                 234.0               2.0       77.992550                 10   \n",
       "3                 179.0              19.0       84.161467                  5   \n",
       "4                  41.0              16.0      108.136518                  2   \n",
       "...                 ...               ...             ...                ...   \n",
       "13383               5.0              10.0       92.227544                 11   \n",
       "13384               5.0              17.0       96.355373                  4   \n",
       "13385              30.0              20.0       67.905542                  7   \n",
       "13386             118.0              18.0       74.458699                  3   \n",
       "13387             209.0              21.0       63.617611                  6   \n",
       "\n",
       "       Type of purchase  \n",
       "0      Compra minorista  \n",
       "1      Compra minorista  \n",
       "2      Compra minorista  \n",
       "3      Compra minorista  \n",
       "4      Compra minorista  \n",
       "...                 ...  \n",
       "13383  Compra minorista  \n",
       "13384  Compra minorista  \n",
       "13385  Compra minorista  \n",
       "13386  Compra minorista  \n",
       "13387  Compra minorista  \n",
       "\n",
       "[13388 rows x 19 columns]"
      ]
     },
     "execution_count": 18,
     "metadata": {},
     "output_type": "execute_result"
    }
   ],
   "source": [
    "import pandas as pd\n",
    "df = df.toPandas()\n",
    "df"
   ]
  },
  {
   "cell_type": "markdown",
   "metadata": {},
   "source": [
    "**2. Visualización de Variables Categóricas**"
   ]
  },
  {
   "cell_type": "code",
   "execution_count": 19,
   "metadata": {},
   "outputs": [],
   "source": [
    "import matplotlib.pyplot as plt\n",
    "import seaborn as sns"
   ]
  },
  {
   "cell_type": "code",
   "execution_count": 20,
   "metadata": {},
   "outputs": [
    {
     "data": {
      "image/png": "[encoded data removed]",
      "text/plain": [
       "<Figure size 1080x720 with 1 Axes>"
      ]
     },
     "metadata": {
      "needs_background": "light"
     },
     "output_type": "display_data"
    }
   ],
   "source": [
    "# Método de pago utilizado por Humanos y Aliens\n",
    "\n",
    "plt.figure(figsize=(15, 10))\n",
    "sns.countplot(data=df, x=\"Payment Method\", hue=\"Is An Alien\")\n",
    "plt.title(\"Método de Pago por Tipo de Cliente\")\n",
    "plt.xlabel(\"Método de Pago\")\n",
    "plt.ylabel(\"Cantidad\")\n",
    "plt.legend(title=\"Tipo de Cliente\", labels=[\"Humano\", \"Alienígena\"])\n",
    "plt.show()\n",
    "plt.close()\n",
    "\n",
    "\n",
    "# Se aprecia una diferencia significativa entre la cantidad de compras realizadas entre las dos\n",
    "# clases, por método de pago. En los Aliens, se observa que hay un uso similar entre todos los\n",
    "# métodos de pago, mientras que en los Humanos hay levemente mayor cantidad de credit card y debit\n",
    "# card, siendo PayPal el menos utilizado."
   ]
  },
  {
   "cell_type": "code",
   "execution_count": 21,
   "metadata": {},
   "outputs": [
    {
     "data": {
      "image/png": "[encoded data removed]",
      "text/plain": [
       "<Figure size 1080x720 with 1 Axes>"
      ]
     },
     "metadata": {
      "needs_background": "light"
     },
     "output_type": "display_data"
    }
   ],
   "source": [
    "# Categoría de producto comprada por tipo de cliente\n",
    "\n",
    "plt.figure(figsize=(15, 10))\n",
    "sns.countplot(data=df, x=\"Product Category\", hue=\"Is An Alien\")\n",
    "plt.title(\"Categoría de Producto por Tipo de Cliente\")\n",
    "plt.xlabel(\"Categoría de Producto\")\n",
    "plt.ylabel(\"Cantidad\")\n",
    "plt.legend(title=\"Tipo de Cliente\", labels=[\"Humano\", \"Alienígena\"])\n",
    "plt.show()\n",
    "plt.close()\n",
    "\n",
    "# Se observa que tanto en Humanos, como Aliens, es similar la cantidad de compras realizadas por \n",
    "# categoría de producto según el tipo de cliente. Por otro lado, en el caso de los Humanos, la \n",
    "# categoría con menor cantidad corresponde a toys & games; mientras que en el caso de los Aliens\n",
    "# corresponde a clothing."
   ]
  },
  {
   "cell_type": "code",
   "execution_count": 22,
   "metadata": {},
   "outputs": [
    {
     "data": {
      "image/png": "[encoded data removed]",
      "text/plain": [
       "<Figure size 1080x720 with 1 Axes>"
      ]
     },
     "metadata": {
      "needs_background": "light"
     },
     "output_type": "display_data"
    }
   ],
   "source": [
    "# Cantidad de productos comprados por Humanos y Aliens\n",
    "\n",
    "plt.figure(figsize=(15, 10))\n",
    "sns.countplot(data=df, x=\"Quantity\", hue=\"Is An Alien\")\n",
    "plt.title(\"Cantidad de Productos por Tipo de Cliente\")\n",
    "plt.xlabel(\"Cantidad de Productos\")\n",
    "plt.ylabel(\"Cantidad\")\n",
    "plt.legend(title=\"Tipo de Cliente\", labels=[\"Humano\", \"Alienígena\"])\n",
    "plt.show()\n",
    "plt.close()\n",
    "\n",
    "# Se observa que tanto en Humanos, como Aliens, es similar la cantidad de productos comprados\n",
    "# según el tipo de cliente. Así mismo, se tiene que en los Humanos se suelen llevar más \n",
    "# comúnmente 1 o 5 productos, siendo 4 productos el menos frecuentes; mientraas que en los\n",
    "# Aliens 2 y 5 son los menos frecuentes y 4 es el más frecuente."
   ]
  },
  {
   "cell_type": "markdown",
   "metadata": {},
   "source": [
    "**3. Visualización de Variables Numéricas**"
   ]
  },
  {
   "cell_type": "code",
   "execution_count": 23,
   "metadata": {},
   "outputs": [
    {
     "data": {
      "image/png": "[encoded data removed]",
      "text/plain": [
       "<Figure size 1080x720 with 1 Axes>"
      ]
     },
     "metadata": {
      "needs_background": "light"
     },
     "output_type": "display_data"
    }
   ],
   "source": [
    "# Distribución de monto de la transacción realizada\n",
    "\n",
    "plt.figure(figsize=(15, 10))\n",
    "sns.histplot(df, x=\"Transaction Amount\", hue=\"Is An Alien\", kde=True)\n",
    "plt.title(\"Distribución de Monto de Transacción\")\n",
    "plt.xlabel(\"Monto de Transacción\")\n",
    "plt.ylabel(\"Densidad\")\n",
    "plt.legend(title=\"Tipo de Cliente\", labels=[\"Alienígena\", \"Humano\"])\n",
    "plt.show()\n",
    "plt.close()\n",
    "\n",
    "# En ambos tipos de clientes se tiene una distribución similar, con la diferencia de que en los humanos\n",
    "# se exacerba el monto de las transacciones en valores menores, decreciendo exponencialmente; mientras\n",
    "# que en los Aliens decrece de manera constante y más suavizada."
   ]
  },
  {
   "cell_type": "code",
   "execution_count": 24,
   "metadata": {},
   "outputs": [
    {
     "data": {
      "image/png": "[encoded data removed]",
      "text/plain": [
       "<Figure size 1080x720 with 1 Axes>"
      ]
     },
     "metadata": {
      "needs_background": "light"
     },
     "output_type": "display_data"
    }
   ],
   "source": [
    "# Distribución de edad del cliente\n",
    "\n",
    "plt.figure(figsize=(15, 10))\n",
    "sns.histplot(df, x=\"Customer Age\", hue=\"Is An Alien\", kde=True)\n",
    "plt.title(\"Distribución de Edad de Cliente\")\n",
    "plt.xlabel(\"Edad de Cliente\")\n",
    "plt.ylabel(\"Densidad\")\n",
    "plt.legend(title=\"Tipo de Cliente\", labels=[\"Alienígena\", \"Humano\"])\n",
    "plt.show()\n",
    "plt.close()\n",
    "\n",
    "# Se observan distribuciones similares, con la presencia de segmentos más densos que otros\n",
    "# de manera de outliers, como lo son de 26 a 27, 37 a 38 y 48 a 49 en los Humanos; mientras\n",
    "# que en los Aliens la distribución es más constante. Ambas corresponden a distribuciones normales."
   ]
  },
  {
   "cell_type": "code",
   "execution_count": 25,
   "metadata": {},
   "outputs": [
    {
     "data": {
      "image/png": "[encoded data removed]",
      "text/plain": [
       "<Figure size 1080x720 with 1 Axes>"
      ]
     },
     "metadata": {
      "needs_background": "light"
     },
     "output_type": "display_data"
    }
   ],
   "source": [
    "# Distribución según la antiguedad de la cuenta\n",
    "\n",
    "plt.figure(figsize=(15, 10))\n",
    "sns.histplot(df, x=\"Account Age Days\", hue=\"Is An Alien\", kde=True)\n",
    "plt.title(\"Distribución de Antigüedad de Cuenta\")\n",
    "plt.xlabel(\"Antigüedad de Cuenta (días)\")\n",
    "plt.ylabel(\"Densidad\")\n",
    "plt.legend(title=\"Tipo de Cliente\", labels=[\"Alienígena\", \"Humano\"])\n",
    "plt.show()\n",
    "plt.close()\n",
    "\n",
    "# Se observan valores más contantes en los Humanos que en los Aliens. En el caso de los Aliens,\n",
    "# se concentra una mayor cantidad de cuentas nuevas, con menos de 30 días de antigüedad."
   ]
  },
  {
   "cell_type": "markdown",
   "metadata": {},
   "source": [
    "**4. Análisis de Patrones en Transacciones**"
   ]
  },
  {
   "cell_type": "code",
   "execution_count": 26,
   "metadata": {},
   "outputs": [
    {
     "data": {
      "image/png": "[encoded data removed]",
      "text/plain": [
       "<Figure size 1080x720 with 1 Axes>"
      ]
     },
     "metadata": {
      "needs_background": "light"
     },
     "output_type": "display_data"
    }
   ],
   "source": [
    "# Cantidad de transacciones mensuales por canal de venta\n",
    "\n",
    "df_4a = df.groupby([\"Transaction Month\", \"Payment Method\"]).size().reset_index(name=\"Cantidad de Transacciones\")\n",
    "\n",
    "plt.figure(figsize=(15, 10))\n",
    "sns.lineplot(data=df_4a, x=\"Transaction Month\", y=\"Cantidad de Transacciones\", hue=\"Payment Method\")\n",
    "plt.title(\"Cantidad de Transacciones Mensuales por Canal de Venta\")\n",
    "plt.xlabel(\"Mes\")\n",
    "plt.ylabel(\"Cantidad de Transacciones\")\n",
    "plt.legend(title=\"Canal de Venta\")\n",
    "plt.xticks(range(1, 13), labels=[\"Enero\", \"Febrero\", \"Marzo\", \"Abril\", \"Mayo\", \"Junio\", \"Julio\", \"Agosto\", \"Septiembre\", \"Octubre\", \"Noviembre\", \"Diciembre\"])\n",
    "plt.show()\n",
    "plt.close()\n",
    "\n",
    "# Se tiene que todos los canales de ventas presentan comportamientos similares, teniendo una\n",
    "# baja significativa en el mes de Febrero y una recuperación en Marzo. Además, cabe destacar\n",
    "# que en las tarjetas de crédito hay una baja importante en el mes de Diciembre, mientras que\n",
    "# en las tarjetas de débito ocurre una baja sustancial en el mes de Septiembre."
   ]
  },
  {
   "cell_type": "code",
   "execution_count": 27,
   "metadata": {},
   "outputs": [
    {
     "data": {
      "image/png": "[encoded data removed]",
      "text/plain": [
       "<Figure size 1080x720 with 1 Axes>"
      ]
     },
     "metadata": {
      "needs_background": "light"
     },
     "output_type": "display_data"
    }
   ],
   "source": [
    "# Monto promedio de transacción por mes y canal de venta\n",
    "df_4b = df.groupby([\"Transaction Month\", \"Payment Method\"])[\"Transaction Amount\"].mean().reset_index()\n",
    "\n",
    "# Crear el gráfico de líneas\n",
    "plt.figure(figsize=(15, 10))\n",
    "sns.lineplot(data=df_4b, x=\"Transaction Month\", y=\"Transaction Amount\", hue=\"Payment Method\")\n",
    "plt.title(\"Monto de Transacción Promedio por Mes por Canal de Venta\")\n",
    "plt.xlabel(\"Mes\")\n",
    "plt.ylabel(\"Monto de Transacción Promedio\")\n",
    "plt.legend(title=\"Canal de Venta\")\n",
    "plt.xticks(range(1, 13), labels=[\"Enero\", \"Febrero\", \"Marzo\", \"Abril\", \"Mayo\", \"Junio\", \"Julio\", \"Agosto\", \"Septiembre\", \"Octubre\", \"Noviembre\", \"Diciembre\"])\n",
    "plt.show()\n",
    "plt.close()\n",
    "\n",
    "# Este gráfico es particular comparándolo con el gráfico anterior. Por ejemplo, se observa que en\n",
    "# el anterior, las ventas por Paypal aumentan en Marzo y Julio, mientras que los montos promedios\n",
    "# de venta disminuyen considerablemente. Por otro lado, se tiene que el monto promedio máximo de\n",
    "# monto de transacción es alcanzado en PayPal durante el mes de Mayo; mientras que la mínima se\n",
    "# tiene también por PayPal en Marzo."
   ]
  },
  {
   "cell_type": "code",
   "execution_count": 28,
   "metadata": {},
   "outputs": [
    {
     "data": {
      "image/png": "[encoded data removed]",
      "text/plain": [
       "<Figure size 1080x720 with 1 Axes>"
      ]
     },
     "metadata": {
      "needs_background": "light"
     },
     "output_type": "display_data"
    }
   ],
   "source": [
    "# Cantidad de productos vendidos por canal\n",
    "\n",
    "df_4c = df.groupby([\"Payment Method\", \"Product Category\"]).size().reset_index(name=\"Cantidad de Transacciones\")\n",
    "df_4b = df_4c.sort_values(by=[\"Payment Method\", \"Cantidad de Transacciones\"], ascending=[True, False])\n",
    "df_4c = df_4c.groupby(\"Payment Method\").head(5)\n",
    "\n",
    "plt.figure(figsize=(15, 10))\n",
    "sns.barplot(data=df_4c, x=\"Payment Method\", y=\"Cantidad de Transacciones\", hue=\"Product Category\")\n",
    "plt.title(\"Productos Más Vendidos por Canal de Venta\")\n",
    "plt.xlabel(\"Canal de Venta\")\n",
    "plt.ylabel(\"Cantidad de Transacciones\")\n",
    "plt.legend(title=\"Producto\", bbox_to_anchor=(1.05, 1), loc='upper left')\n",
    "plt.tight_layout()\n",
    "plt.show()\n",
    "plt.close()\n",
    "\n",
    "# Se observa que el tipo de producto más vendido varía según el canal de venta, teniendo que \n",
    "# por Paypal se venden más productos de tipo electronics; por transferencia bancaria se venden \n",
    "# más de health & beauty; con tarjeta de crédito se vende más toys & games; y con tarjeta de \n",
    "# débito home & garden."
   ]
  },
  {
   "cell_type": "markdown",
   "metadata": {
    "id": "viNvNuE_odgc"
   },
   "source": [
    "<center>\n",
    "<img src=\"https://gitlab.com/imezadelajara/datos_clase_7_mds7202/-/raw/main/misc_images/1696330143457.gif\" width=400 />"
   ]
  },
  {
   "cell_type": "markdown",
   "metadata": {
    "id": "SCdHwyGBwVx8"
   },
   "source": [
    "El equipo de Bodoque e-shop ha solicitado que los datos estén disponibles en una tabla SQL consultable. Además, están interesados en aprovechar las funciones de ventana en SQL para análisis avanzados. Las funciones de ventana permiten realizar cálculos sobre un conjunto de filas que están relacionadas con la fila actual. Por ejemplo, UNBOUNDED PRECEDING se usa para indicar que el rango de la función de ventana comienza desde la primera fila de la partición o del conjunto de resultados, lo cual es útil para calcular sumas acumulativas hasta la fila actual. Las variaciones comunes de este uso incluyen:\n",
    "\n",
    "- `UNBOUNDED PRECEDING` to `CURRENT ROW`: Calcula desde el inicio de la partición hasta la fila actual.\n",
    "- `UNBOUNDED PRECEDING` to `UNBOUNDED FOLLOWING`: Cubre todas las filas dentro de la partición.\n",
    "- `VALUE PRECEDING` to `VALUE FOLLOWING`: Establece un rango específico basado en valores antes y después de la fila actual."
   ]
  },
  {
   "cell_type": "markdown",
   "metadata": {
    "id": "VntjejKLleIa"
   },
   "source": [
    "<center>\n",
    "<img src=\"https://learnsql.com/blog/sql-window-functions-rows-clause/1.png\" width=500 />"
   ]
  },
  {
   "cell_type": "markdown",
   "metadata": {
    "id": "D8XJ7NrPllKG"
   },
   "source": [
    "Ejemplo de uso en SQL:\n",
    "\n",
    "```sql\n",
    "STAT(COL1_NAME) OVER (PARTITION BY COL2_NAME ORDER BY COL3_NAME ROWS BETWEEN X PRECEDING AND CURRENT ROW)\n",
    "```\n",
    "\n",
    "\n",
    "Responda y realice los siguientes puntos:\n",
    "\n",
    "1. **Creación de Tabla con PySpark**:\n",
    "   - Desarrolle un script utilizando PySpark para crear una tabla a partir de un DataFrame previamente transformado. Seleccione y utilice una variable específica para la partición de la tabla. Justifique su elección de esta variable considerando factores como el tamaño del DataFrame, la distribución de los datos y el impacto potencial en el rendimiento de futuras consultas.\n",
    "\n",
    "2. **Consulta SQL para Principales Clientes**:\n",
    "   - Ejecute una consulta SQL para identificar los 10 clientes que más productos han comprado. La consulta debe retornar el ID del cliente junto con el total de productos comprados, ordenados en forma descendente.\n",
    "\n",
    "3. **Implementación de Función de Ventana en SQL y Equivalente en Spark**:\n",
    "   - Implemente una función de ventana en SQL para calcular la compra más alta realizada por cada usuario en los últimos tres meses. Además, describa cómo se podría realizar una función equivalente en Spark, considerando las capacidades específicas de PySpark para manejar este tipo de consultas.\n",
    "\n"
   ]
  },
  {
   "cell_type": "markdown",
   "metadata": {},
   "source": [
    "**1. Creación de Tabla con PySpark**"
   ]
  },
  {
   "cell_type": "code",
   "execution_count": 29,
   "metadata": {},
   "outputs": [
    {
     "data": {
      "text/plain": [
       "Payment Method\n",
       "debit card       3406\n",
       "bank transfer    3356\n",
       "credit card      3347\n",
       "PayPal           3279\n",
       "Name: count, dtype: int64"
      ]
     },
     "execution_count": 29,
     "metadata": {},
     "output_type": "execute_result"
    }
   ],
   "source": [
    "df['Payment Method'].value_counts()"
   ]
  },
  {
   "cell_type": "markdown",
   "metadata": {},
   "source": [
    "**Respuesta**\n",
    "\n",
    "Se utiliza como variable de partición Payment Method, debido a que está balanceada en las distintas categorías, haciendo que el rendimiento en cuanto a consultas sea el más óptimo en cada una de ellas."
   ]
  },
  {
   "cell_type": "code",
   "execution_count": 30,
   "metadata": {},
   "outputs": [],
   "source": [
    "def from_df_to_sql_spark(df_pandas, name_sql_spark):\n",
    "    df_spark = sparksession.createDataFrame(df)\n",
    "    return df_spark.write.partitionBy(\"Payment Method\").saveAsTable(name=f\"{name_sql_spark}\")"
   ]
  },
  {
   "cell_type": "code",
   "execution_count": 31,
   "metadata": {},
   "outputs": [
    {
     "name": "stderr",
     "output_type": "stream",
     "text": [
      "24/04/20 18:14:32 WARN TaskSetManager: Stage 43 contains a task of very large size (4215 KiB). The maximum recommended task size is 1000 KiB.\n",
      "                                                                                \r"
     ]
    }
   ],
   "source": [
    "from_df_to_sql_spark(df, 'df_sql')"
   ]
  },
  {
   "cell_type": "markdown",
   "metadata": {},
   "source": [
    "**2. Consulta SQL para Principales Clientes**"
   ]
  },
  {
   "cell_type": "code",
   "execution_count": 32,
   "metadata": {},
   "outputs": [
    {
     "name": "stdout",
     "output_type": "stream",
     "text": [
      "+--------------------+--------------+\n",
      "|         Customer ID|Total_Quantity|\n",
      "+--------------------+--------------+\n",
      "|1718476e-0518-41b...|             5|\n",
      "|aa8c72f5-fbcc-4bf...|             5|\n",
      "|6def79d9-fb71-415...|             5|\n",
      "|447b6447-464c-400...|             5|\n",
      "|a76f00f5-8493-41b...|             5|\n",
      "|ebf10b43-2999-4fa...|             5|\n",
      "|2f3d5b31-bd85-4d7...|             5|\n",
      "|62b1ce0c-5495-43e...|             5|\n",
      "|e91ebafd-1925-400...|             5|\n",
      "|ddfbe502-d51c-4ac...|             5|\n",
      "+--------------------+--------------+\n",
      "\n"
     ]
    }
   ],
   "source": [
    "sparksession.sql(\n",
    "'''\n",
    "SELECT `Customer ID`, SUM(Quantity) as Total_Quantity\n",
    "FROM df_sql\n",
    "GROUP BY `Customer ID`\n",
    "ORDER BY Total_Quantity DESC\n",
    "LIMIT 10;\n",
    "'''\n",
    ").show()"
   ]
  },
  {
   "cell_type": "markdown",
   "metadata": {},
   "source": [
    "**3. Implementación de Función de Ventana en SQL y Equivalente en Spark**"
   ]
  },
  {
   "cell_type": "code",
   "execution_count": 33,
   "metadata": {},
   "outputs": [
    {
     "name": "stdout",
     "output_type": "stream",
     "text": [
      "+--------------------+-------------------+\n",
      "|         Customer ID|Max_Purchase_Amount|\n",
      "+--------------------+-------------------+\n",
      "|0010bfa7-d3b5-442...|             130.74|\n",
      "|004d6df5-5d37-4cd...|              32.36|\n",
      "|0061c7c7-ffd9-40d...|             255.97|\n",
      "|0084aeb6-6bc7-4f8...|             265.09|\n",
      "|00dba4f3-102b-4d8...|              80.76|\n",
      "|00dcef31-265c-4d3...|              82.57|\n",
      "|011ba8d6-6dcd-4cf...|             218.64|\n",
      "|014817a0-2f4f-477...|             289.72|\n",
      "|014da57c-a59c-465...|              33.22|\n",
      "|015a8996-8ac2-488...|             451.94|\n",
      "|01754c8a-c873-49e...|             267.89|\n",
      "|0178fe5b-e055-4ec...|             723.04|\n",
      "|01ac1427-4acc-410...|             234.43|\n",
      "|01feca2f-2907-445...|              48.71|\n",
      "|0270d1d5-c8b8-4be...|               56.2|\n",
      "|03557036-602b-4f5...|               29.8|\n",
      "|03a5dccc-c7cc-4aa...|              58.84|\n",
      "|03c61a84-77db-4aa...|             269.66|\n",
      "|03d7aba5-8f52-40f...|              93.03|\n",
      "|03f31ca3-a6ec-424...|              22.09|\n",
      "+--------------------+-------------------+\n",
      "only showing top 20 rows\n",
      "\n"
     ]
    }
   ],
   "source": [
    "sparksession.sql(\n",
    "'''\n",
    "WITH RankedTransactions AS (\n",
    "    SELECT\n",
    "        *,\n",
    "        ROW_NUMBER() OVER (PARTITION BY `Customer ID` ORDER BY `Transaction Date` DESC) AS rn\n",
    "    FROM\n",
    "        df_sql\n",
    "    WHERE\n",
    "        `Transaction Date` >= DATEADD(MONTH, -3, CURRENT_DATE)\n",
    ")\n",
    "SELECT\n",
    "    `Customer ID`,\n",
    "    MAX(`Transaction Amount`) AS Max_Purchase_Amount\n",
    "FROM\n",
    "    RankedTransactions\n",
    "WHERE\n",
    "    rn = 1\n",
    "GROUP BY\n",
    "    `Customer ID`;\n",
    "'''\n",
    ").show()"
   ]
  },
  {
   "cell_type": "markdown",
   "metadata": {},
   "source": [
    "Se podría hacer una función equivalente a través de DataFrames de PySpark. Para esto, se pueden particionar los datos por cliente y ordenar según las fecha de transacción. Luego se agrega con un row_number(), equivalente a la función ventana de SQL, y se filtra considerando solo las transacciones de los últimos 3 meses de manera ordenada descendiente, y las filas numeradas, considerando solo la primera (la más alta). Finalmente, se seleccionan los Customers ID y el Transaction Amount, como se muestra a continuación,"
   ]
  },
  {
   "cell_type": "code",
   "execution_count": 34,
   "metadata": {},
   "outputs": [
    {
     "name": "stderr",
     "output_type": "stream",
     "text": [
      "24/04/20 18:14:36 WARN TaskSetManager: Stage 50 contains a task of very large size (4215 KiB). The maximum recommended task size is 1000 KiB.\n"
     ]
    },
    {
     "name": "stdout",
     "output_type": "stream",
     "text": [
      "+--------------------+-------------------+\n",
      "|         Customer ID|Max_Purchase_Amount|\n",
      "+--------------------+-------------------+\n",
      "|0010bfa7-d3b5-442...|             130.74|\n",
      "|0084aeb6-6bc7-4f8...|             265.09|\n",
      "|00dba4f3-102b-4d8...|              80.76|\n",
      "|011ba8d6-6dcd-4cf...|             218.64|\n",
      "|014817a0-2f4f-477...|             289.72|\n",
      "|014da57c-a59c-465...|              33.22|\n",
      "|01754c8a-c873-49e...|             267.89|\n",
      "|0178fe5b-e055-4ec...|             723.04|\n",
      "|01ac1427-4acc-410...|             234.43|\n",
      "|01feca2f-2907-445...|              48.71|\n",
      "|03557036-602b-4f5...|               29.8|\n",
      "|03a5dccc-c7cc-4aa...|              58.84|\n",
      "|03c61a84-77db-4aa...|             269.66|\n",
      "|045f786a-6d18-471...|             195.54|\n",
      "|0464bbaa-d5e0-41c...|             425.34|\n",
      "|0480cf5d-85b6-481...|             264.29|\n",
      "|04c9816c-3a7a-41a...|             707.63|\n",
      "|04d42160-5adb-4ff...|             174.46|\n",
      "|04f5a6ca-11b7-440...|             189.93|\n",
      "|04fa4322-5441-419...|             392.13|\n",
      "+--------------------+-------------------+\n",
      "only showing top 20 rows\n",
      "\n"
     ]
    }
   ],
   "source": [
    "from pyspark.sql.functions import expr, date_add, current_date, col, max as pyspark_max, row_number\n",
    "from pyspark.sql.window import Window\n",
    "\n",
    "df_spark = sparksession.createDataFrame(df)\n",
    "\n",
    "window_spec = Window.partitionBy(\"Customer ID\").orderBy(col(\"Transaction Date\").desc())\n",
    "\n",
    "# Filtrar las transacciones dentro de los últimos 3 meses\n",
    "three_months_ago = date_add(current_date(), -3)\n",
    "df_spark = df_spark.filter(col(\"Transaction Date\") >= three_months_ago)\n",
    "\n",
    "# Agregar una columna de numeración de fila dentro de cada partición de cliente\n",
    "df_spark = df_spark.withColumn(\"rn\", row_number().over(window_spec))\n",
    "\n",
    "# Filtrar para obtener solo la primera transacción de cada cliente\n",
    "first_transaction_by_customer = df_spark.filter(col(\"rn\") == 1)\n",
    "\n",
    "# Agrupar por cliente y calcular la transacción máxima\n",
    "max_transaction_by_customer = first_transaction_by_customer.groupBy(\"Customer ID\") \\\n",
    "    .agg(pyspark_max(\"Transaction Amount\").alias(\"Max_Purchase_Amount\"))\n",
    "\n",
    "# Mostrar el resultado\n",
    "max_transaction_by_customer.show()"
   ]
  },
  {
   "cell_type": "markdown",
   "metadata": {
    "id": "AKQs-augfZBv"
   },
   "source": [
    "### 6. UDF [10 puntos]\n",
    "(2 por pregunta)"
   ]
  },
  {
   "cell_type": "markdown",
   "metadata": {
    "id": "ovDBGi-uhhdD"
   },
   "source": [
    "<center>\n",
    "<img src=\"https://64.media.tumblr.com/ba8c705edd2bed0a28d9458811155d69/tumblr_pap19zg4ae1w3zg6go1_400.gifv\" width=400 />"
   ]
  },
  {
   "cell_type": "markdown",
   "metadata": {
    "id": "TJUUnpi8qKHD"
   },
   "source": [
    "\n",
    "\n",
    "Un experto en predicciones y programación le ha proporcionado un objeto serializado (`pickle`) diseñado para calcular las probabilidades de que un cliente cometa o no un fraude. Este experto sugiere que, para maximizar las capacidades de procesamiento distribuido de Spark, debería implementar `Scalar User Defined Functions` (udf). Esto le permitirá aplicar el objeto serializado en un entorno distribuido a lo largo de toda la población de datos. Un aspecto clave de la función desarrollada por el experto es que se enfoca exclusivamente en las siguientes columnas para realizar las predicciones: `['Transaction Amount', 'Quantity', 'Customer Age', 'Transaction Hour']`.\n",
    "\n",
    "Aparte, el experto le proporciona las siguientes instrucciones para usar las UDF en Spark:\n",
    "\n",
    "```python\n",
    "from pyspark.sql.functions import udf\n",
    "from pyspark.sql.types import FloatType\n",
    "\n",
    "def custom_function(col):\n",
    "    pass\n",
    "\n",
    "udf_function = udf(custom_function, FloatType())\n",
    "```\n",
    "\n",
    "Basándose en la estructura proporcionada, debe desarrollar una función que ejecute un código específico. Tenga en cuenta que esta función solo puede recibir columnas de Spark y debe retornar el valor deseado. Posteriormente, deberá utilizar esta función UDF indicando la función personalizada y el formato de salida.\n",
    "\n",
    "Siga los siguientes pasos para implementar la solución y responda las preguntas:\n",
    "\n",
    "1. **Cargar el objeto serializado**: Revise el tipo de objeto y deduzca su función.\n",
    "2. **Explorar el objeto**: Utilice las funciones `dir` y `help` para identificar qué método del objeto predice la probabilidad.\n",
    "3. **Crear una función personalizada**: Elabore una función que prediga la probabilidad de fraude utilizando el último valor de la lista generada por el objeto serializado. Puede modificar el nombre de la función para reflejar su propósito.\n",
    "4. **Definir la función UDF**: Establezca la función UDF con la función personalizada que ha creado.\n",
    "5. **Generar una nueva columna**: Añada una nueva columna `prediction` a su DataFrame en Spark utilizando la función UDF y muestre un ejemplo de cómo se aplica. ¿Qué beneficios podría generar utilizar udf?"
   ]
  },
  {
   "cell_type": "markdown",
   "metadata": {},
   "source": [
    "**1. Cargar el objeto serializado**"
   ]
  },
  {
   "cell_type": "code",
   "execution_count": 58,
   "metadata": {},
   "outputs": [
    {
     "data": {
      "text/html": [
       "<style>#sk-container-id-4 {color: black;}#sk-container-id-4 pre{padding: 0;}#sk-container-id-4 div.sk-toggleable {background-color: white;}#sk-container-id-4 label.sk-toggleable__label {cursor: pointer;display: block;width: 100%;margin-bottom: 0;padding: 0.3em;box-sizing: border-box;text-align: center;}#sk-container-id-4 label.sk-toggleable__label-arrow:before {content: \"▸\";float: left;margin-right: 0.25em;color: #696969;}#sk-container-id-4 label.sk-toggleable__label-arrow:hover:before {color: black;}#sk-container-id-4 div.sk-estimator:hover label.sk-toggleable__label-arrow:before {color: black;}#sk-container-id-4 div.sk-toggleable__content {max-height: 0;max-width: 0;overflow: hidden;text-align: left;background-color: #f0f8ff;}#sk-container-id-4 div.sk-toggleable__content pre {margin: 0.2em;color: black;border-radius: 0.25em;background-color: #f0f8ff;}#sk-container-id-4 input.sk-toggleable__control:checked~div.sk-toggleable__content {max-height: 200px;max-width: 100%;overflow: auto;}#sk-container-id-4 input.sk-toggleable__control:checked~label.sk-toggleable__label-arrow:before {content: \"▾\";}#sk-container-id-4 div.sk-estimator input.sk-toggleable__control:checked~label.sk-toggleable__label {background-color: #d4ebff;}#sk-container-id-4 div.sk-label input.sk-toggleable__control:checked~label.sk-toggleable__label {background-color: #d4ebff;}#sk-container-id-4 input.sk-hidden--visually {border: 0;clip: rect(1px 1px 1px 1px);clip: rect(1px, 1px, 1px, 1px);height: 1px;margin: -1px;overflow: hidden;padding: 0;position: absolute;width: 1px;}#sk-container-id-4 div.sk-estimator {font-family: monospace;background-color: #f0f8ff;border: 1px dotted black;border-radius: 0.25em;box-sizing: border-box;margin-bottom: 0.5em;}#sk-container-id-4 div.sk-estimator:hover {background-color: #d4ebff;}#sk-container-id-4 div.sk-parallel-item::after {content: \"\";width: 100%;border-bottom: 1px solid gray;flex-grow: 1;}#sk-container-id-4 div.sk-label:hover label.sk-toggleable__label {background-color: #d4ebff;}#sk-container-id-4 div.sk-serial::before {content: \"\";position: absolute;border-left: 1px solid gray;box-sizing: border-box;top: 0;bottom: 0;left: 50%;z-index: 0;}#sk-container-id-4 div.sk-serial {display: flex;flex-direction: column;align-items: center;background-color: white;padding-right: 0.2em;padding-left: 0.2em;position: relative;}#sk-container-id-4 div.sk-item {position: relative;z-index: 1;}#sk-container-id-4 div.sk-parallel {display: flex;align-items: stretch;justify-content: center;background-color: white;position: relative;}#sk-container-id-4 div.sk-item::before, #sk-container-id-4 div.sk-parallel-item::before {content: \"\";position: absolute;border-left: 1px solid gray;box-sizing: border-box;top: 0;bottom: 0;left: 50%;z-index: -1;}#sk-container-id-4 div.sk-parallel-item {display: flex;flex-direction: column;z-index: 1;position: relative;background-color: white;}#sk-container-id-4 div.sk-parallel-item:first-child::after {align-self: flex-end;width: 50%;}#sk-container-id-4 div.sk-parallel-item:last-child::after {align-self: flex-start;width: 50%;}#sk-container-id-4 div.sk-parallel-item:only-child::after {width: 0;}#sk-container-id-4 div.sk-dashed-wrapped {border: 1px dashed gray;margin: 0 0.4em 0.5em 0.4em;box-sizing: border-box;padding-bottom: 0.4em;background-color: white;}#sk-container-id-4 div.sk-label label {font-family: monospace;font-weight: bold;display: inline-block;line-height: 1.2em;}#sk-container-id-4 div.sk-label-container {text-align: center;}#sk-container-id-4 div.sk-container {/* jupyter's `normalize.less` sets `[hidden] { display: none; }` but bootstrap.min.css set `[hidden] { display: none !important; }` so we also need the `!important` here to be able to override the default hidden behavior on the sphinx rendered scikit-learn.org. See: https://github.com/scikit-learn/scikit-learn/issues/21755 */display: inline-block !important;position: relative;}#sk-container-id-4 div.sk-text-repr-fallback {display: none;}</style><div id=\"sk-container-id-4\" class=\"sk-top-container\"><div class=\"sk-text-repr-fallback\"><pre>LogisticRegression(random_state=0)</pre><b>In a Jupyter environment, please rerun this cell to show the HTML representation or trust the notebook. <br />On GitHub, the HTML representation is unable to render, please try loading this page with nbviewer.org.</b></div><div class=\"sk-container\" hidden><div class=\"sk-item\"><div class=\"sk-estimator sk-toggleable\"><input class=\"sk-toggleable__control sk-hidden--visually\" id=\"sk-estimator-id-4\" type=\"checkbox\" checked><label for=\"sk-estimator-id-4\" class=\"sk-toggleable__label sk-toggleable__label-arrow\">LogisticRegression</label><div class=\"sk-toggleable__content\"><pre>LogisticRegression(random_state=0)</pre></div></div></div></div></div>"
      ],
      "text/plain": [
       "LogisticRegression(random_state=0)"
      ]
     },
     "execution_count": 58,
     "metadata": {},
     "output_type": "execute_result"
    }
   ],
   "source": [
    "import pickle\n",
    "\n",
    "pickle_object = pickle.load(open(\"object.pkl\", \"rb\"))\n",
    "pickle_object\n",
    "\n",
    "# Según lo que entrega el output, el archivo object.pkl corresponde a un modelo de regresión logistica."
   ]
  },
  {
   "cell_type": "markdown",
   "metadata": {},
   "source": [
    "**2. Explorar el objeto**"
   ]
  },
  {
   "cell_type": "code",
   "execution_count": 62,
   "metadata": {
    "scrolled": true
   },
   "outputs": [
    {
     "name": "stdout",
     "output_type": "stream",
     "text": [
      "['C', '__annotations__', '__class__', '__delattr__', '__dict__', '__dir__', '__doc__', '__eq__', '__format__', '__ge__', '__getattribute__', '__getstate__', '__gt__', '__hash__', '__init__', '__init_subclass__', '__le__', '__lt__', '__module__', '__ne__', '__new__', '__reduce__', '__reduce_ex__', '__repr__', '__setattr__', '__setstate__', '__sizeof__', '__sklearn_clone__', '__str__', '__subclasshook__', '__weakref__', '_build_request_for_signature', '_check_feature_names', '_check_n_features', '_estimator_type', '_get_default_requests', '_get_metadata_request', '_get_param_names', '_get_tags', '_more_tags', '_parameter_constraints', '_predict_proba_lr', '_repr_html_', '_repr_html_inner', '_repr_mimebundle_', '_validate_data', '_validate_params', 'class_weight', 'classes_', 'coef_', 'decision_function', 'densify', 'dual', 'feature_names_in_', 'fit', 'fit_intercept', 'get_metadata_routing', 'get_params', 'intercept_', 'intercept_scaling', 'l1_ratio', 'max_iter', 'multi_class', 'n_features_in_', 'n_iter_', 'n_jobs', 'penalty', 'predict', 'predict_log_proba', 'predict_proba', 'random_state', 'score', 'set_fit_request', 'set_params', 'set_score_request', 'solver', 'sparsify', 'tol', 'verbose', 'warm_start']\n"
     ]
    }
   ],
   "source": [
    "print(dir(pickle_object))"
   ]
  },
  {
   "cell_type": "code",
   "execution_count": 63,
   "metadata": {
    "scrolled": true
   },
   "outputs": [
    {
     "name": "stdout",
     "output_type": "stream",
     "text": [
      "Help on LogisticRegression in module sklearn.linear_model._logistic object:\n",
      "\n",
      "class LogisticRegression(sklearn.linear_model._base.LinearClassifierMixin, sklearn.linear_model._base.SparseCoefMixin, sklearn.base.BaseEstimator)\n",
      " |  LogisticRegression(penalty='l2', *, dual=False, tol=0.0001, C=1.0, fit_intercept=True, intercept_scaling=1, class_weight=None, random_state=None, solver='lbfgs', max_iter=100, multi_class='auto', verbose=0, warm_start=False, n_jobs=None, l1_ratio=None)\n",
      " |  \n",
      " |  Logistic Regression (aka logit, MaxEnt) classifier.\n",
      " |  \n",
      " |  In the multiclass case, the training algorithm uses the one-vs-rest (OvR)\n",
      " |  scheme if the 'multi_class' option is set to 'ovr', and uses the\n",
      " |  cross-entropy loss if the 'multi_class' option is set to 'multinomial'.\n",
      " |  (Currently the 'multinomial' option is supported only by the 'lbfgs',\n",
      " |  'sag', 'saga' and 'newton-cg' solvers.)\n",
      " |  \n",
      " |  This class implements regularized logistic regression using the\n",
      " |  'liblinear' library, 'newton-cg', 'sag', 'saga' and 'lbfgs' solvers. **Note\n",
      " |  that regularization is applied by default**. It can handle both dense\n",
      " |  and sparse input. Use C-ordered arrays or CSR matrices containing 64-bit\n",
      " |  floats for optimal performance; any other input format will be converted\n",
      " |  (and copied).\n",
      " |  \n",
      " |  The 'newton-cg', 'sag', and 'lbfgs' solvers support only L2 regularization\n",
      " |  with primal formulation, or no regularization. The 'liblinear' solver\n",
      " |  supports both L1 and L2 regularization, with a dual formulation only for\n",
      " |  the L2 penalty. The Elastic-Net regularization is only supported by the\n",
      " |  'saga' solver.\n",
      " |  \n",
      " |  Read more in the :ref:`User Guide <logistic_regression>`.\n",
      " |  \n",
      " |  Parameters\n",
      " |  ----------\n",
      " |  penalty : {'l1', 'l2', 'elasticnet', None}, default='l2'\n",
      " |      Specify the norm of the penalty:\n",
      " |  \n",
      " |      - `None`: no penalty is added;\n",
      " |      - `'l2'`: add a L2 penalty term and it is the default choice;\n",
      " |      - `'l1'`: add a L1 penalty term;\n",
      " |      - `'elasticnet'`: both L1 and L2 penalty terms are added.\n",
      " |  \n",
      " |      .. warning::\n",
      " |         Some penalties may not work with some solvers. See the parameter\n",
      " |         `solver` below, to know the compatibility between the penalty and\n",
      " |         solver.\n",
      " |  \n",
      " |      .. versionadded:: 0.19\n",
      " |         l1 penalty with SAGA solver (allowing 'multinomial' + L1)\n",
      " |  \n",
      " |      .. deprecated:: 1.2\n",
      " |         The 'none' option was deprecated in version 1.2, and will be removed\n",
      " |         in 1.4. Use `None` instead.\n",
      " |  \n",
      " |  dual : bool, default=False\n",
      " |      Dual (constrained) or primal (regularized, see also\n",
      " |      :ref:`this equation <regularized-logistic-loss>`) formulation. Dual formulation\n",
      " |      is only implemented for l2 penalty with liblinear solver. Prefer dual=False when\n",
      " |      n_samples > n_features.\n",
      " |  \n",
      " |  tol : float, default=1e-4\n",
      " |      Tolerance for stopping criteria.\n",
      " |  \n",
      " |  C : float, default=1.0\n",
      " |      Inverse of regularization strength; must be a positive float.\n",
      " |      Like in support vector machines, smaller values specify stronger\n",
      " |      regularization.\n",
      " |  \n",
      " |  fit_intercept : bool, default=True\n",
      " |      Specifies if a constant (a.k.a. bias or intercept) should be\n",
      " |      added to the decision function.\n",
      " |  \n",
      " |  intercept_scaling : float, default=1\n",
      " |      Useful only when the solver 'liblinear' is used\n",
      " |      and self.fit_intercept is set to True. In this case, x becomes\n",
      " |      [x, self.intercept_scaling],\n",
      " |      i.e. a \"synthetic\" feature with constant value equal to\n",
      " |      intercept_scaling is appended to the instance vector.\n",
      " |      The intercept becomes ``intercept_scaling * synthetic_feature_weight``.\n",
      " |  \n",
      " |      Note! the synthetic feature weight is subject to l1/l2 regularization\n",
      " |      as all other features.\n",
      " |      To lessen the effect of regularization on synthetic feature weight\n",
      " |      (and therefore on the intercept) intercept_scaling has to be increased.\n",
      " |  \n",
      " |  class_weight : dict or 'balanced', default=None\n",
      " |      Weights associated with classes in the form ``{class_label: weight}``.\n",
      " |      If not given, all classes are supposed to have weight one.\n",
      " |  \n",
      " |      The \"balanced\" mode uses the values of y to automatically adjust\n",
      " |      weights inversely proportional to class frequencies in the input data\n",
      " |      as ``n_samples / (n_classes * np.bincount(y))``.\n",
      " |  \n",
      " |      Note that these weights will be multiplied with sample_weight (passed\n",
      " |      through the fit method) if sample_weight is specified.\n",
      " |  \n",
      " |      .. versionadded:: 0.17\n",
      " |         *class_weight='balanced'*\n",
      " |  \n",
      " |  random_state : int, RandomState instance, default=None\n",
      " |      Used when ``solver`` == 'sag', 'saga' or 'liblinear' to shuffle the\n",
      " |      data. See :term:`Glossary <random_state>` for details.\n",
      " |  \n",
      " |  solver : {'lbfgs', 'liblinear', 'newton-cg', 'newton-cholesky', 'sag', 'saga'},             default='lbfgs'\n",
      " |  \n",
      " |      Algorithm to use in the optimization problem. Default is 'lbfgs'.\n",
      " |      To choose a solver, you might want to consider the following aspects:\n",
      " |  \n",
      " |          - For small datasets, 'liblinear' is a good choice, whereas 'sag'\n",
      " |            and 'saga' are faster for large ones;\n",
      " |          - For multiclass problems, only 'newton-cg', 'sag', 'saga' and\n",
      " |            'lbfgs' handle multinomial loss;\n",
      " |          - 'liblinear' is limited to one-versus-rest schemes.\n",
      " |          - 'newton-cholesky' is a good choice for `n_samples` >> `n_features`,\n",
      " |            especially with one-hot encoded categorical features with rare\n",
      " |            categories. Note that it is limited to binary classification and the\n",
      " |            one-versus-rest reduction for multiclass classification. Be aware that\n",
      " |            the memory usage of this solver has a quadratic dependency on\n",
      " |            `n_features` because it explicitly computes the Hessian matrix.\n",
      " |  \n",
      " |      .. warning::\n",
      " |         The choice of the algorithm depends on the penalty chosen.\n",
      " |         Supported penalties by solver:\n",
      " |  \n",
      " |         - 'lbfgs'           -   ['l2', None]\n",
      " |         - 'liblinear'       -   ['l1', 'l2']\n",
      " |         - 'newton-cg'       -   ['l2', None]\n",
      " |         - 'newton-cholesky' -   ['l2', None]\n",
      " |         - 'sag'             -   ['l2', None]\n",
      " |         - 'saga'            -   ['elasticnet', 'l1', 'l2', None]\n",
      " |  \n",
      " |      .. note::\n",
      " |         'sag' and 'saga' fast convergence is only guaranteed on features\n",
      " |         with approximately the same scale. You can preprocess the data with\n",
      " |         a scaler from :mod:`sklearn.preprocessing`.\n",
      " |  \n",
      " |      .. seealso::\n",
      " |         Refer to the User Guide for more information regarding\n",
      " |         :class:`LogisticRegression` and more specifically the\n",
      " |         :ref:`Table <Logistic_regression>`\n",
      " |         summarizing solver/penalty supports.\n",
      " |  \n",
      " |      .. versionadded:: 0.17\n",
      " |         Stochastic Average Gradient descent solver.\n",
      " |      .. versionadded:: 0.19\n",
      " |         SAGA solver.\n",
      " |      .. versionchanged:: 0.22\n",
      " |          The default solver changed from 'liblinear' to 'lbfgs' in 0.22.\n",
      " |      .. versionadded:: 1.2\n",
      " |         newton-cholesky solver.\n",
      " |  \n",
      " |  max_iter : int, default=100\n",
      " |      Maximum number of iterations taken for the solvers to converge.\n",
      " |  \n",
      " |  multi_class : {'auto', 'ovr', 'multinomial'}, default='auto'\n",
      " |      If the option chosen is 'ovr', then a binary problem is fit for each\n",
      " |      label. For 'multinomial' the loss minimised is the multinomial loss fit\n",
      " |      across the entire probability distribution, *even when the data is\n",
      " |      binary*. 'multinomial' is unavailable when solver='liblinear'.\n",
      " |      'auto' selects 'ovr' if the data is binary, or if solver='liblinear',\n",
      " |      and otherwise selects 'multinomial'.\n",
      " |  \n",
      " |      .. versionadded:: 0.18\n",
      " |         Stochastic Average Gradient descent solver for 'multinomial' case.\n",
      " |      .. versionchanged:: 0.22\n",
      " |          Default changed from 'ovr' to 'auto' in 0.22.\n",
      " |  \n",
      " |  verbose : int, default=0\n",
      " |      For the liblinear and lbfgs solvers set verbose to any positive\n",
      " |      number for verbosity.\n",
      " |  \n",
      " |  warm_start : bool, default=False\n",
      " |      When set to True, reuse the solution of the previous call to fit as\n",
      " |      initialization, otherwise, just erase the previous solution.\n",
      " |      Useless for liblinear solver. See :term:`the Glossary <warm_start>`.\n",
      " |  \n",
      " |      .. versionadded:: 0.17\n",
      " |         *warm_start* to support *lbfgs*, *newton-cg*, *sag*, *saga* solvers.\n",
      " |  \n",
      " |  n_jobs : int, default=None\n",
      " |      Number of CPU cores used when parallelizing over classes if\n",
      " |      multi_class='ovr'\". This parameter is ignored when the ``solver`` is\n",
      " |      set to 'liblinear' regardless of whether 'multi_class' is specified or\n",
      " |      not. ``None`` means 1 unless in a :obj:`joblib.parallel_backend`\n",
      " |      context. ``-1`` means using all processors.\n",
      " |      See :term:`Glossary <n_jobs>` for more details.\n",
      " |  \n",
      " |  l1_ratio : float, default=None\n",
      " |      The Elastic-Net mixing parameter, with ``0 <= l1_ratio <= 1``. Only\n",
      " |      used if ``penalty='elasticnet'``. Setting ``l1_ratio=0`` is equivalent\n",
      " |      to using ``penalty='l2'``, while setting ``l1_ratio=1`` is equivalent\n",
      " |      to using ``penalty='l1'``. For ``0 < l1_ratio <1``, the penalty is a\n",
      " |      combination of L1 and L2.\n",
      " |  \n",
      " |  Attributes\n",
      " |  ----------\n",
      " |  \n",
      " |  classes_ : ndarray of shape (n_classes, )\n",
      " |      A list of class labels known to the classifier.\n",
      " |  \n",
      " |  coef_ : ndarray of shape (1, n_features) or (n_classes, n_features)\n",
      " |      Coefficient of the features in the decision function.\n",
      " |  \n",
      " |      `coef_` is of shape (1, n_features) when the given problem is binary.\n",
      " |      In particular, when `multi_class='multinomial'`, `coef_` corresponds\n",
      " |      to outcome 1 (True) and `-coef_` corresponds to outcome 0 (False).\n",
      " |  \n",
      " |  intercept_ : ndarray of shape (1,) or (n_classes,)\n",
      " |      Intercept (a.k.a. bias) added to the decision function.\n",
      " |  \n",
      " |      If `fit_intercept` is set to False, the intercept is set to zero.\n",
      " |      `intercept_` is of shape (1,) when the given problem is binary.\n",
      " |      In particular, when `multi_class='multinomial'`, `intercept_`\n",
      " |      corresponds to outcome 1 (True) and `-intercept_` corresponds to\n",
      " |      outcome 0 (False).\n",
      " |  \n",
      " |  n_features_in_ : int\n",
      " |      Number of features seen during :term:`fit`.\n",
      " |  \n",
      " |      .. versionadded:: 0.24\n",
      " |  \n",
      " |  feature_names_in_ : ndarray of shape (`n_features_in_`,)\n",
      " |      Names of features seen during :term:`fit`. Defined only when `X`\n",
      " |      has feature names that are all strings.\n",
      " |  \n",
      " |      .. versionadded:: 1.0\n",
      " |  \n",
      " |  n_iter_ : ndarray of shape (n_classes,) or (1, )\n",
      " |      Actual number of iterations for all classes. If binary or multinomial,\n",
      " |      it returns only 1 element. For liblinear solver, only the maximum\n",
      " |      number of iteration across all classes is given.\n",
      " |  \n",
      " |      .. versionchanged:: 0.20\n",
      " |  \n",
      " |          In SciPy <= 1.0.0 the number of lbfgs iterations may exceed\n",
      " |          ``max_iter``. ``n_iter_`` will now report at most ``max_iter``.\n",
      " |  \n",
      " |  See Also\n",
      " |  --------\n",
      " |  SGDClassifier : Incrementally trained logistic regression (when given\n",
      " |      the parameter ``loss=\"log_loss\"``).\n",
      " |  LogisticRegressionCV : Logistic regression with built-in cross validation.\n",
      " |  \n",
      " |  Notes\n",
      " |  -----\n",
      " |  The underlying C implementation uses a random number generator to\n",
      " |  select features when fitting the model. It is thus not uncommon,\n",
      " |  to have slightly different results for the same input data. If\n",
      " |  that happens, try with a smaller tol parameter.\n",
      " |  \n",
      " |  Predict output may not match that of standalone liblinear in certain\n",
      " |  cases. See :ref:`differences from liblinear <liblinear_differences>`\n",
      " |  in the narrative documentation.\n",
      " |  \n",
      " |  References\n",
      " |  ----------\n",
      " |  \n",
      " |  L-BFGS-B -- Software for Large-scale Bound-constrained Optimization\n",
      " |      Ciyou Zhu, Richard Byrd, Jorge Nocedal and Jose Luis Morales.\n",
      " |      http://users.iems.northwestern.edu/~nocedal/lbfgsb.html\n",
      " |  \n",
      " |  LIBLINEAR -- A Library for Large Linear Classification\n",
      " |      https://www.csie.ntu.edu.tw/~cjlin/liblinear/\n",
      " |  \n",
      " |  SAG -- Mark Schmidt, Nicolas Le Roux, and Francis Bach\n",
      " |      Minimizing Finite Sums with the Stochastic Average Gradient\n",
      " |      https://hal.inria.fr/hal-00860051/document\n",
      " |  \n",
      " |  SAGA -- Defazio, A., Bach F. & Lacoste-Julien S. (2014).\n",
      " |          :arxiv:`\"SAGA: A Fast Incremental Gradient Method With Support\n",
      " |          for Non-Strongly Convex Composite Objectives\" <1407.0202>`\n",
      " |  \n",
      " |  Hsiang-Fu Yu, Fang-Lan Huang, Chih-Jen Lin (2011). Dual coordinate descent\n",
      " |      methods for logistic regression and maximum entropy models.\n",
      " |      Machine Learning 85(1-2):41-75.\n",
      " |      https://www.csie.ntu.edu.tw/~cjlin/papers/maxent_dual.pdf\n",
      " |  \n",
      " |  Examples\n",
      " |  --------\n",
      " |  >>> from sklearn.datasets import load_iris\n",
      " |  >>> from sklearn.linear_model import LogisticRegression\n",
      " |  >>> X, y = load_iris(return_X_y=True)\n",
      " |  >>> clf = LogisticRegression(random_state=0).fit(X, y)\n",
      " |  >>> clf.predict(X[:2, :])\n",
      " |  array([0, 0])\n",
      " |  >>> clf.predict_proba(X[:2, :])\n",
      " |  array([[9.8...e-01, 1.8...e-02, 1.4...e-08],\n",
      " |         [9.7...e-01, 2.8...e-02, ...e-08]])\n",
      " |  >>> clf.score(X, y)\n",
      " |  0.97...\n",
      " |  \n",
      " |  Method resolution order:\n",
      " |      LogisticRegression\n",
      " |      sklearn.linear_model._base.LinearClassifierMixin\n",
      " |      sklearn.base.ClassifierMixin\n",
      " |      sklearn.linear_model._base.SparseCoefMixin\n",
      " |      sklearn.base.BaseEstimator\n",
      " |      sklearn.utils._metadata_requests._MetadataRequester\n",
      " |      builtins.object\n",
      " |  \n",
      " |  Methods defined here:\n",
      " |  \n",
      " |  __init__(self, penalty='l2', *, dual=False, tol=0.0001, C=1.0, fit_intercept=True, intercept_scaling=1, class_weight=None, random_state=None, solver='lbfgs', max_iter=100, multi_class='auto', verbose=0, warm_start=False, n_jobs=None, l1_ratio=None)\n",
      " |      Initialize self.  See help(type(self)) for accurate signature.\n",
      " |  \n",
      " |  fit(self, X, y, sample_weight=None)\n",
      " |      Fit the model according to the given training data.\n",
      " |      \n",
      " |      Parameters\n",
      " |      ----------\n",
      " |      X : {array-like, sparse matrix} of shape (n_samples, n_features)\n",
      " |          Training vector, where `n_samples` is the number of samples and\n",
      " |          `n_features` is the number of features.\n",
      " |      \n",
      " |      y : array-like of shape (n_samples,)\n",
      " |          Target vector relative to X.\n",
      " |      \n",
      " |      sample_weight : array-like of shape (n_samples,) default=None\n",
      " |          Array of weights that are assigned to individual samples.\n",
      " |          If not provided, then each sample is given unit weight.\n",
      " |      \n",
      " |          .. versionadded:: 0.17\n",
      " |             *sample_weight* support to LogisticRegression.\n",
      " |      \n",
      " |      Returns\n",
      " |      -------\n",
      " |      self\n",
      " |          Fitted estimator.\n",
      " |      \n",
      " |      Notes\n",
      " |      -----\n",
      " |      The SAGA solver supports both float64 and float32 bit arrays.\n",
      " |  \n",
      " |  predict_log_proba(self, X)\n",
      " |      Predict logarithm of probability estimates.\n",
      " |      \n",
      " |      The returned estimates for all classes are ordered by the\n",
      " |      label of classes.\n",
      " |      \n",
      " |      Parameters\n",
      " |      ----------\n",
      " |      X : array-like of shape (n_samples, n_features)\n",
      " |          Vector to be scored, where `n_samples` is the number of samples and\n",
      " |          `n_features` is the number of features.\n",
      " |      \n",
      " |      Returns\n",
      " |      -------\n",
      " |      T : array-like of shape (n_samples, n_classes)\n",
      " |          Returns the log-probability of the sample for each class in the\n",
      " |          model, where classes are ordered as they are in ``self.classes_``.\n",
      " |  \n",
      " |  predict_proba(self, X)\n",
      " |      Probability estimates.\n",
      " |      \n",
      " |      The returned estimates for all classes are ordered by the\n",
      " |      label of classes.\n",
      " |      \n",
      " |      For a multi_class problem, if multi_class is set to be \"multinomial\"\n",
      " |      the softmax function is used to find the predicted probability of\n",
      " |      each class.\n",
      " |      Else use a one-vs-rest approach, i.e calculate the probability\n",
      " |      of each class assuming it to be positive using the logistic function.\n",
      " |      and normalize these values across all the classes.\n",
      " |      \n",
      " |      Parameters\n",
      " |      ----------\n",
      " |      X : array-like of shape (n_samples, n_features)\n",
      " |          Vector to be scored, where `n_samples` is the number of samples and\n",
      " |          `n_features` is the number of features.\n",
      " |      \n",
      " |      Returns\n",
      " |      -------\n",
      " |      T : array-like of shape (n_samples, n_classes)\n",
      " |          Returns the probability of the sample for each class in the model,\n",
      " |          where classes are ordered as they are in ``self.classes_``.\n",
      " |  \n",
      " |  set_fit_request(self: sklearn.linear_model._logistic.LogisticRegression, *, sample_weight: Union[bool, NoneType, str] = '$UNCHANGED$') -> sklearn.linear_model._logistic.LogisticRegression\n",
      " |      Request metadata passed to the ``fit`` method.\n",
      " |      \n",
      " |      Note that this method is only relevant if\n",
      " |      ``enable_metadata_routing=True`` (see :func:`sklearn.set_config`).\n",
      " |      Please see :ref:`User Guide <metadata_routing>` on how the routing\n",
      " |      mechanism works.\n",
      " |      \n",
      " |      The options for each parameter are:\n",
      " |      \n",
      " |      - ``True``: metadata is requested, and passed to ``fit`` if provided. The request is ignored if metadata is not provided.\n",
      " |      \n",
      " |      - ``False``: metadata is not requested and the meta-estimator will not pass it to ``fit``.\n",
      " |      \n",
      " |      - ``None``: metadata is not requested, and the meta-estimator will raise an error if the user provides it.\n",
      " |      \n",
      " |      - ``str``: metadata should be passed to the meta-estimator with this given alias instead of the original name.\n",
      " |      \n",
      " |      The default (``sklearn.utils.metadata_routing.UNCHANGED``) retains the\n",
      " |      existing request. This allows you to change the request for some\n",
      " |      parameters and not others.\n",
      " |      \n",
      " |      .. versionadded:: 1.3\n",
      " |      \n",
      " |      .. note::\n",
      " |          This method is only relevant if this estimator is used as a\n",
      " |          sub-estimator of a meta-estimator, e.g. used inside a\n",
      " |          :class:`~sklearn.pipeline.Pipeline`. Otherwise it has no effect.\n",
      " |      \n",
      " |      Parameters\n",
      " |      ----------\n",
      " |      sample_weight : str, True, False, or None,                     default=sklearn.utils.metadata_routing.UNCHANGED\n",
      " |          Metadata routing for ``sample_weight`` parameter in ``fit``.\n",
      " |      \n",
      " |      Returns\n",
      " |      -------\n",
      " |      self : object\n",
      " |          The updated object.\n",
      " |  \n",
      " |  set_score_request(self: sklearn.linear_model._logistic.LogisticRegression, *, sample_weight: Union[bool, NoneType, str] = '$UNCHANGED$') -> sklearn.linear_model._logistic.LogisticRegression\n",
      " |      Request metadata passed to the ``score`` method.\n",
      " |      \n",
      " |      Note that this method is only relevant if\n",
      " |      ``enable_metadata_routing=True`` (see :func:`sklearn.set_config`).\n",
      " |      Please see :ref:`User Guide <metadata_routing>` on how the routing\n",
      " |      mechanism works.\n",
      " |      \n",
      " |      The options for each parameter are:\n",
      " |      \n",
      " |      - ``True``: metadata is requested, and passed to ``score`` if provided. The request is ignored if metadata is not provided.\n",
      " |      \n",
      " |      - ``False``: metadata is not requested and the meta-estimator will not pass it to ``score``.\n",
      " |      \n",
      " |      - ``None``: metadata is not requested, and the meta-estimator will raise an error if the user provides it.\n",
      " |      \n",
      " |      - ``str``: metadata should be passed to the meta-estimator with this given alias instead of the original name.\n",
      " |      \n",
      " |      The default (``sklearn.utils.metadata_routing.UNCHANGED``) retains the\n",
      " |      existing request. This allows you to change the request for some\n",
      " |      parameters and not others.\n",
      " |      \n",
      " |      .. versionadded:: 1.3\n",
      " |      \n",
      " |      .. note::\n",
      " |          This method is only relevant if this estimator is used as a\n",
      " |          sub-estimator of a meta-estimator, e.g. used inside a\n",
      " |          :class:`~sklearn.pipeline.Pipeline`. Otherwise it has no effect.\n",
      " |      \n",
      " |      Parameters\n",
      " |      ----------\n",
      " |      sample_weight : str, True, False, or None,                     default=sklearn.utils.metadata_routing.UNCHANGED\n",
      " |          Metadata routing for ``sample_weight`` parameter in ``score``.\n",
      " |      \n",
      " |      Returns\n",
      " |      -------\n",
      " |      self : object\n",
      " |          The updated object.\n",
      " |  \n",
      " |  ----------------------------------------------------------------------\n",
      " |  Data and other attributes defined here:\n",
      " |  \n",
      " |  __annotations__ = {'_parameter_constraints': <class 'dict'>}\n",
      " |  \n",
      " |  ----------------------------------------------------------------------\n",
      " |  Methods inherited from sklearn.linear_model._base.LinearClassifierMixin:\n",
      " |  \n",
      " |  decision_function(self, X)\n",
      " |      Predict confidence scores for samples.\n",
      " |      \n",
      " |      The confidence score for a sample is proportional to the signed\n",
      " |      distance of that sample to the hyperplane.\n",
      " |      \n",
      " |      Parameters\n",
      " |      ----------\n",
      " |      X : {array-like, sparse matrix} of shape (n_samples, n_features)\n",
      " |          The data matrix for which we want to get the confidence scores.\n",
      " |      \n",
      " |      Returns\n",
      " |      -------\n",
      " |      scores : ndarray of shape (n_samples,) or (n_samples, n_classes)\n",
      " |          Confidence scores per `(n_samples, n_classes)` combination. In the\n",
      " |          binary case, confidence score for `self.classes_[1]` where >0 means\n",
      " |          this class would be predicted.\n",
      " |  \n",
      " |  predict(self, X)\n",
      " |      Predict class labels for samples in X.\n",
      " |      \n",
      " |      Parameters\n",
      " |      ----------\n",
      " |      X : {array-like, sparse matrix} of shape (n_samples, n_features)\n",
      " |          The data matrix for which we want to get the predictions.\n",
      " |      \n",
      " |      Returns\n",
      " |      -------\n",
      " |      y_pred : ndarray of shape (n_samples,)\n",
      " |          Vector containing the class labels for each sample.\n",
      " |  \n",
      " |  ----------------------------------------------------------------------\n",
      " |  Methods inherited from sklearn.base.ClassifierMixin:\n",
      " |  \n",
      " |  score(self, X, y, sample_weight=None)\n",
      " |      Return the mean accuracy on the given test data and labels.\n",
      " |      \n",
      " |      In multi-label classification, this is the subset accuracy\n",
      " |      which is a harsh metric since you require for each sample that\n",
      " |      each label set be correctly predicted.\n",
      " |      \n",
      " |      Parameters\n",
      " |      ----------\n",
      " |      X : array-like of shape (n_samples, n_features)\n",
      " |          Test samples.\n",
      " |      \n",
      " |      y : array-like of shape (n_samples,) or (n_samples, n_outputs)\n",
      " |          True labels for `X`.\n",
      " |      \n",
      " |      sample_weight : array-like of shape (n_samples,), default=None\n",
      " |          Sample weights.\n",
      " |      \n",
      " |      Returns\n",
      " |      -------\n",
      " |      score : float\n",
      " |          Mean accuracy of ``self.predict(X)`` w.r.t. `y`.\n",
      " |  \n",
      " |  ----------------------------------------------------------------------\n",
      " |  Data descriptors inherited from sklearn.base.ClassifierMixin:\n",
      " |  \n",
      " |  __dict__\n",
      " |      dictionary for instance variables (if defined)\n",
      " |  \n",
      " |  __weakref__\n",
      " |      list of weak references to the object (if defined)\n",
      " |  \n",
      " |  ----------------------------------------------------------------------\n",
      " |  Methods inherited from sklearn.linear_model._base.SparseCoefMixin:\n",
      " |  \n",
      " |  densify(self)\n",
      " |      Convert coefficient matrix to dense array format.\n",
      " |      \n",
      " |      Converts the ``coef_`` member (back) to a numpy.ndarray. This is the\n",
      " |      default format of ``coef_`` and is required for fitting, so calling\n",
      " |      this method is only required on models that have previously been\n",
      " |      sparsified; otherwise, it is a no-op.\n",
      " |      \n",
      " |      Returns\n",
      " |      -------\n",
      " |      self\n",
      " |          Fitted estimator.\n",
      " |  \n",
      " |  sparsify(self)\n",
      " |      Convert coefficient matrix to sparse format.\n",
      " |      \n",
      " |      Converts the ``coef_`` member to a scipy.sparse matrix, which for\n",
      " |      L1-regularized models can be much more memory- and storage-efficient\n",
      " |      than the usual numpy.ndarray representation.\n",
      " |      \n",
      " |      The ``intercept_`` member is not converted.\n",
      " |      \n",
      " |      Returns\n",
      " |      -------\n",
      " |      self\n",
      " |          Fitted estimator.\n",
      " |      \n",
      " |      Notes\n",
      " |      -----\n",
      " |      For non-sparse models, i.e. when there are not many zeros in ``coef_``,\n",
      " |      this may actually *increase* memory usage, so use this method with\n",
      " |      care. A rule of thumb is that the number of zero elements, which can\n",
      " |      be computed with ``(coef_ == 0).sum()``, must be more than 50% for this\n",
      " |      to provide significant benefits.\n",
      " |      \n",
      " |      After calling this method, further fitting with the partial_fit\n",
      " |      method (if any) will not work until you call densify.\n",
      " |  \n",
      " |  ----------------------------------------------------------------------\n",
      " |  Methods inherited from sklearn.base.BaseEstimator:\n",
      " |  \n",
      " |  __getstate__(self)\n",
      " |  \n",
      " |  __repr__(self, N_CHAR_MAX=700)\n",
      " |      Return repr(self).\n",
      " |  \n",
      " |  __setstate__(self, state)\n",
      " |  \n",
      " |  __sklearn_clone__(self)\n",
      " |  \n",
      " |  get_params(self, deep=True)\n",
      " |      Get parameters for this estimator.\n",
      " |      \n",
      " |      Parameters\n",
      " |      ----------\n",
      " |      deep : bool, default=True\n",
      " |          If True, will return the parameters for this estimator and\n",
      " |          contained subobjects that are estimators.\n",
      " |      \n",
      " |      Returns\n",
      " |      -------\n",
      " |      params : dict\n",
      " |          Parameter names mapped to their values.\n",
      " |  \n",
      " |  set_params(self, **params)\n",
      " |      Set the parameters of this estimator.\n",
      " |      \n",
      " |      The method works on simple estimators as well as on nested objects\n",
      " |      (such as :class:`~sklearn.pipeline.Pipeline`). The latter have\n",
      " |      parameters of the form ``<component>__<parameter>`` so that it's\n",
      " |      possible to update each component of a nested object.\n",
      " |      \n",
      " |      Parameters\n",
      " |      ----------\n",
      " |      **params : dict\n",
      " |          Estimator parameters.\n",
      " |      \n",
      " |      Returns\n",
      " |      -------\n",
      " |      self : estimator instance\n",
      " |          Estimator instance.\n",
      " |  \n",
      " |  ----------------------------------------------------------------------\n",
      " |  Methods inherited from sklearn.utils._metadata_requests._MetadataRequester:\n",
      " |  \n",
      " |  get_metadata_routing(self)\n",
      " |      Get metadata routing of this object.\n",
      " |      \n",
      " |      Please check :ref:`User Guide <metadata_routing>` on how the routing\n",
      " |      mechanism works.\n",
      " |      \n",
      " |      Returns\n",
      " |      -------\n",
      " |      routing : MetadataRequest\n",
      " |          A :class:`~sklearn.utils.metadata_routing.MetadataRequest` encapsulating\n",
      " |          routing information.\n",
      " |  \n",
      " |  ----------------------------------------------------------------------\n",
      " |  Class methods inherited from sklearn.utils._metadata_requests._MetadataRequester:\n",
      " |  \n",
      " |  __init_subclass__(**kwargs) from builtins.type\n",
      " |      Set the ``set_{method}_request`` methods.\n",
      " |      \n",
      " |      This uses PEP-487 [1]_ to set the ``set_{method}_request`` methods. It\n",
      " |      looks for the information available in the set default values which are\n",
      " |      set using ``__metadata_request__*`` class attributes, or inferred\n",
      " |      from method signatures.\n",
      " |      \n",
      " |      The ``__metadata_request__*`` class attributes are used when a method\n",
      " |      does not explicitly accept a metadata through its arguments or if the\n",
      " |      developer would like to specify a request value for those metadata\n",
      " |      which are different from the default ``None``.\n",
      " |      \n",
      " |      References\n",
      " |      ----------\n",
      " |      .. [1] https://www.python.org/dev/peps/pep-0487\n",
      "\n",
      "None\n"
     ]
    }
   ],
   "source": [
    "print(help(pickle_object))"
   ]
  },
  {
   "cell_type": "markdown",
   "metadata": {},
   "source": [
    "**3. Crear una función personalizada**"
   ]
  },
  {
   "cell_type": "code",
   "execution_count": 112,
   "metadata": {},
   "outputs": [],
   "source": [
    "def prob_fraude(*args):\n",
    "    model = pickle.load(open(\"object.pkl\", \"rb\"))\n",
    "    valores = list(args)\n",
    "    print(valores)\n",
    "    probabilidad_fraude = model.predict_proba([valores])[0][1]\n",
    "\n",
    "    return float(probabilidad_fraude)"
   ]
  },
  {
   "cell_type": "code",
   "execution_count": 122,
   "metadata": {},
   "outputs": [
    {
     "data": {
      "text/html": [
       "<div>\n",
       "<style scoped>\n",
       "    .dataframe tbody tr th:only-of-type {\n",
       "        vertical-align: middle;\n",
       "    }\n",
       "\n",
       "    .dataframe tbody tr th {\n",
       "        vertical-align: top;\n",
       "    }\n",
       "\n",
       "    .dataframe thead th {\n",
       "        text-align: right;\n",
       "    }\n",
       "</style>\n",
       "<table border=\"1\" class=\"dataframe\">\n",
       "  <thead>\n",
       "    <tr style=\"text-align: right;\">\n",
       "      <th></th>\n",
       "      <th>Transaction Amount</th>\n",
       "      <th>Quantity</th>\n",
       "      <th>Customer Age</th>\n",
       "      <th>Transaction Hour</th>\n",
       "    </tr>\n",
       "  </thead>\n",
       "  <tbody>\n",
       "    <tr>\n",
       "      <th>13387</th>\n",
       "      <td>58.5</td>\n",
       "      <td>1</td>\n",
       "      <td>25.0</td>\n",
       "      <td>21.0</td>\n",
       "    </tr>\n",
       "  </tbody>\n",
       "</table>\n",
       "</div>"
      ],
      "text/plain": [
       "       Transaction Amount  Quantity  Customer Age  Transaction Hour\n",
       "13387                58.5         1          25.0              21.0"
      ]
     },
     "metadata": {},
     "output_type": "display_data"
    },
    {
     "name": "stdout",
     "output_type": "stream",
     "text": [
      "[58.5, 1, 25.0, 21.0]\n"
     ]
    },
    {
     "name": "stderr",
     "output_type": "stream",
     "text": [
      "/home/diego/.local/lib/python3.8/site-packages/sklearn/base.py:348: InconsistentVersionWarning: Trying to unpickle estimator LogisticRegression from version 1.2.2 when using version 1.3.2. This might lead to breaking code or invalid results. Use at your own risk. For more info please refer to:\n",
      "https://scikit-learn.org/stable/model_persistence.html#security-maintainability-limitations\n",
      "  warnings.warn(\n",
      "/home/diego/.local/lib/python3.8/site-packages/sklearn/base.py:465: UserWarning: X does not have valid feature names, but LogisticRegression was fitted with feature names\n",
      "  warnings.warn(\n"
     ]
    },
    {
     "data": {
      "text/plain": [
       "0.012136890793719296"
      ]
     },
     "execution_count": 122,
     "metadata": {},
     "output_type": "execute_result"
    }
   ],
   "source": [
    "#ejemplo\n",
    "display(df[['Transaction Amount', 'Quantity', 'Customer Age', 'Transaction Hour']][-1:])\n",
    "prob_fraude(df['Transaction Amount'][-1:].values[0], \n",
    "            df['Quantity'][-1:].values[0], \n",
    "            df['Customer Age'][-1:].values[0],\n",
    "            df['Transaction Hour'][-1:].values[0])"
   ]
  },
  {
   "cell_type": "markdown",
   "metadata": {},
   "source": [
    "**4. Definir la función UDF**"
   ]
  },
  {
   "cell_type": "code",
   "execution_count": 123,
   "metadata": {},
   "outputs": [],
   "source": [
    "from pyspark.sql.functions import udf\n",
    "from pyspark.sql.types import DoubleType\n",
    "\n",
    "udf_function = udf(prob_fraude_udf, DoubleType())"
   ]
  },
  {
   "cell_type": "markdown",
   "metadata": {},
   "source": [
    "**5. Generar una nueva columna**"
   ]
  },
  {
   "cell_type": "code",
   "execution_count": 124,
   "metadata": {},
   "outputs": [],
   "source": [
    "df_spark = df_spark.withColumn(\"prediction\", \n",
    "                               udf_function(\"Transaction Amount\", \n",
    "                                            \"Quantity\", \n",
    "                                            \"Customer Age\", \n",
    "                                            \"Transaction Hour\"))"
   ]
  },
  {
   "cell_type": "code",
   "execution_count": 125,
   "metadata": {
    "scrolled": true
   },
   "outputs": [
    {
     "name": "stderr",
     "output_type": "stream",
     "text": [
      "24/04/20 19:24:30 WARN TaskSetManager: Stage 71 contains a task of very large size (4215 KiB). The maximum recommended task size is 1000 KiB.\n"
     ]
    },
    {
     "name": "stdout",
     "output_type": "stream",
     "text": [
      "-RECORD 0--------------------------------------------------------------------\n",
      " Transaction ID     | e57d6fe8-3161-49aa-8ebb-762b264c6e9d                   \n",
      " Customer ID        | 0010bfa7-d3b5-442f-835f-cc4693a63335                   \n",
      " Transaction Amount | 130.74                                                 \n",
      " Transaction Date   | 2024-04-17 00:00:00                                    \n",
      " Payment Method     | credit card                                            \n",
      " Product Category   | toys & games                                           \n",
      " Quantity           | 5                                                      \n",
      " Customer Age       | 31.0                                                   \n",
      " Customer Location  | Nicoleville                                            \n",
      " Device Used        | desktop                                                \n",
      " IP Address         | 198.221.166.134                                        \n",
      " Shipping Address   | 04190 Hill Ports Suite 099\\nMccormickchester, MO 93796 \n",
      " Billing Address    | 83365 Wang Islands Apt. 510\\nGonzalesberg, NY 95078    \n",
      " Is An Alien        | 0                                                      \n",
      " Account Age Days   | 278.0                                                  \n",
      " Transaction Hour   | 18.0                                                   \n",
      " Transaction bp     | 76.19070530267638                                      \n",
      " Transaction Month  | 4                                                      \n",
      " Type of purchase   | Compra minorista                                       \n",
      " rn                 | 1                                                      \n",
      " prediction         | 0.017561308105556374                                   \n",
      "-RECORD 1--------------------------------------------------------------------\n",
      " Transaction ID     | a63701a3-d7b8-4168-8eb7-77d6179c9702                   \n",
      " Customer ID        | 0084aeb6-6bc7-4f8d-b126-15069a1bdf8b                   \n",
      " Transaction Amount | 265.09                                                 \n",
      " Transaction Date   | 2024-11-20 00:00:00                                    \n",
      " Payment Method     | debit card                                             \n",
      " Product Category   | home & garden                                          \n",
      " Quantity           | 5                                                      \n",
      " Customer Age       | 53.0                                                   \n",
      " Customer Location  | Port Kristimouth                                       \n",
      " Device Used        | tablet                                                 \n",
      " IP Address         | 31.234.3.131                                           \n",
      " Shipping Address   | 6730 Bradshaw Gardens Apt. 379\\nTaylorberg, SC 05644   \n",
      " Billing Address    | 6730 Bradshaw Gardens Apt. 379\\nTaylorberg, SC 05644   \n",
      " Is An Alien        | 0                                                      \n",
      " Account Age Days   | 235.0                                                  \n",
      " Transaction Hour   | 20.0                                                   \n",
      " Transaction bp     | 87.24216042486299                                      \n",
      " Transaction Month  | 11                                                     \n",
      " Type of purchase   | Compra minorista                                       \n",
      " rn                 | 1                                                      \n",
      " prediction         | 0.02046539754789433                                    \n",
      "only showing top 2 rows\n",
      "\n"
     ]
    },
    {
     "name": "stderr",
     "output_type": "stream",
     "text": [
      "/home/diego/.local/lib/python3.8/site-packages/sklearn/base.py:348: InconsistentVersionWarning: Trying to unpickle estimator LogisticRegression from version 1.2.2 when using version 1.3.2. This might lead to breaking code or invalid results. Use at your own risk. For more info please refer to:\n",
      "https://scikit-learn.org/stable/model_persistence.html#security-maintainability-limitations\n",
      "  warnings.warn(\n",
      "/home/diego/.local/lib/python3.8/site-packages/sklearn/base.py:465: UserWarning: X does not have valid feature names, but LogisticRegression was fitted with feature names\n",
      "  warnings.warn(\n",
      "/home/diego/.local/lib/python3.8/site-packages/sklearn/base.py:348: InconsistentVersionWarning: Trying to unpickle estimator LogisticRegression from version 1.2.2 when using version 1.3.2. This might lead to breaking code or invalid results. Use at your own risk. For more info please refer to:\n",
      "https://scikit-learn.org/stable/model_persistence.html#security-maintainability-limitations\n",
      "  warnings.warn(\n",
      "/home/diego/.local/lib/python3.8/site-packages/sklearn/base.py:465: UserWarning: X does not have valid feature names, but LogisticRegression was fitted with feature names\n",
      "  warnings.warn(\n",
      "/home/diego/.local/lib/python3.8/site-packages/sklearn/base.py:348: InconsistentVersionWarning: Trying to unpickle estimator LogisticRegression from version 1.2.2 when using version 1.3.2. This might lead to breaking code or invalid results. Use at your own risk. For more info please refer to:\n",
      "https://scikit-learn.org/stable/model_persistence.html#security-maintainability-limitations\n",
      "  warnings.warn(\n",
      "/home/diego/.local/lib/python3.8/site-packages/sklearn/base.py:465: UserWarning: X does not have valid feature names, but LogisticRegression was fitted with feature names\n",
      "  warnings.warn(\n"
     ]
    }
   ],
   "source": [
    "df_spark.show(2, truncate = False, vertical = True)"
   ]
  },
  {
   "cell_type": "markdown",
   "metadata": {},
   "source": [
    "Entre los beneficios que tienen los udf, se encuentra la flexibilidad que otorgan, al permitir aplicar lógica personalizada a los datos, pudiendo manipular y transformar datos según se requiera; reutilización de código, permitiendo encapsular lógica de procesamiento, como funciones, promoviendo un diseño modular y fácil de mantener; y soporte de lenguaje, ya que PySpark admite distintos lenguajes de programación."
   ]
  },
  {
   "cell_type": "code",
   "execution_count": null,
   "metadata": {},
   "outputs": [],
   "source": []
  }
 ],
 "metadata": {
  "colab": {
   "provenance": []
  },
  "kernelspec": {
   "display_name": "Python 3 (ipykernel)",
   "language": "python",
   "name": "python3"
  },
  "language_info": {
   "codemirror_mode": {
    "name": "ipython",
    "version": 3
   },
   "file_extension": ".py",
   "mimetype": "text/x-python",
   "name": "python",
   "nbconvert_exporter": "python",
   "pygments_lexer": "ipython3",
   "version": "3.8.10"
  }
 },
 "nbformat": 4,
 "nbformat_minor": 4
}
